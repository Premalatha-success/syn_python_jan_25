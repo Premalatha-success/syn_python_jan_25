{
 "cells": [
  {
   "cell_type": "markdown",
   "id": "d163600e-8f4e-4821-a9ad-46fc98b04e7a",
   "metadata": {},
   "source": [
    "https://www.linkedin.com/in/latha-t-k-b21018128/\n"
   ]
  },
  {
   "cell_type": "markdown",
   "id": "fb7fc863-fcc6-4749-a564-cc7aa405886d",
   "metadata": {},
   "source": [
    "https://github.com/Premalatha-success"
   ]
  },
  {
   "cell_type": "markdown",
   "id": "d7225f39-be69-4a7a-8af9-56546642ce7e",
   "metadata": {},
   "source": [
    "https://www.youtube.com/@datasciencemonster3703"
   ]
  },
  {
   "cell_type": "markdown",
   "id": "8012c77d-6802-4ba6-b02a-35a887877b54",
   "metadata": {},
   "source": [
    "# My first Program"
   ]
  },
  {
   "cell_type": "markdown",
   "id": "b833ef76-90a8-40e6-b1fa-a2c3a50a15dd",
   "metadata": {},
   "source": [
    "### My first Program"
   ]
  },
  {
   "cell_type": "markdown",
   "id": "2f98b8ec-0579-4e8e-9059-93e7fc4a33d1",
   "metadata": {},
   "source": [
    "#### My first Program"
   ]
  },
  {
   "cell_type": "markdown",
   "id": "67e2a75c-93e6-4da9-a27a-282b3db3a4fc",
   "metadata": {},
   "source": [
    "###### hfhajsfkhdkjhd"
   ]
  },
  {
   "cell_type": "code",
   "execution_count": 1,
   "id": "dd4e050d-b330-49a7-97b0-b495d9a390f1",
   "metadata": {},
   "outputs": [
    {
     "name": "stdout",
     "output_type": "stream",
     "text": [
      "Hello World\n"
     ]
    }
   ],
   "source": [
    "print(\"Hello World\")"
   ]
  },
  {
   "cell_type": "code",
   "execution_count": 2,
   "id": "316b6e44-f1ef-40b9-a10e-454e415605eb",
   "metadata": {},
   "outputs": [
    {
     "name": "stdout",
     "output_type": "stream",
     "text": [
      "Latha\n"
     ]
    }
   ],
   "source": [
    "#### Print ur name\n",
    "print(\"Latha\")"
   ]
  },
  {
   "cell_type": "code",
   "execution_count": 5,
   "id": "2d3e909d-8a72-45f3-9361-a72806e5e368",
   "metadata": {},
   "outputs": [
    {
     "ename": "NameError",
     "evalue": "name 'Print' is not defined",
     "output_type": "error",
     "traceback": [
      "\u001b[1;31m---------------------------------------------------------------------------\u001b[0m",
      "\u001b[1;31mNameError\u001b[0m                                 Traceback (most recent call last)",
      "Cell \u001b[1;32mIn[5], line 1\u001b[0m\n\u001b[1;32m----> 1\u001b[0m Print(\u001b[38;5;124m\"\u001b[39m\u001b[38;5;124mLatha\u001b[39m\u001b[38;5;124m\"\u001b[39m)\n",
      "\u001b[1;31mNameError\u001b[0m: name 'Print' is not defined"
     ]
    }
   ],
   "source": [
    "Print(\"Latha\") ### Python is case-sensitive"
   ]
  },
  {
   "cell_type": "code",
   "execution_count": 6,
   "id": "cc071e1d-59cf-48ca-97dd-0087d1821ef4",
   "metadata": {},
   "outputs": [
    {
     "ename": "NameError",
     "evalue": "name 'latha' is not defined",
     "output_type": "error",
     "traceback": [
      "\u001b[1;31m---------------------------------------------------------------------------\u001b[0m",
      "\u001b[1;31mNameError\u001b[0m                                 Traceback (most recent call last)",
      "Cell \u001b[1;32mIn[6], line 1\u001b[0m\n\u001b[1;32m----> 1\u001b[0m \u001b[38;5;28mprint\u001b[39m(latha)\n",
      "\u001b[1;31mNameError\u001b[0m: name 'latha' is not defined"
     ]
    }
   ],
   "source": [
    "print(latha) ### string should be enclosed with \"\" or ''"
   ]
  },
  {
   "cell_type": "code",
   "execution_count": 7,
   "id": "a4255f05-dd35-4dd3-bce0-42685dfd4ce0",
   "metadata": {},
   "outputs": [
    {
     "name": "stdout",
     "output_type": "stream",
     "text": [
      "1\n"
     ]
    }
   ],
   "source": [
    "print(1)"
   ]
  },
  {
   "cell_type": "code",
   "execution_count": 8,
   "id": "610d6b66-0caa-4bdc-9e16-2a03f21a7a45",
   "metadata": {},
   "outputs": [
    {
     "name": "stdout",
     "output_type": "stream",
     "text": [
      "latha\n"
     ]
    }
   ],
   "source": [
    "print('latha')"
   ]
  },
  {
   "cell_type": "markdown",
   "id": "74915ccd-4649-422e-a5a2-928b4e779785",
   "metadata": {},
   "source": [
    "### Data Types"
   ]
  },
  {
   "cell_type": "code",
   "execution_count": 9,
   "id": "2eb4b4ae-816a-493e-b014-7826879ddc13",
   "metadata": {},
   "outputs": [
    {
     "data": {
      "text/plain": [
       "int"
      ]
     },
     "execution_count": 9,
     "metadata": {},
     "output_type": "execute_result"
    }
   ],
   "source": [
    "a=10\n",
    "type(a) ### int->integer(no. without decimal point)"
   ]
  },
  {
   "cell_type": "code",
   "execution_count": 10,
   "id": "c63fc03b-2590-465a-b956-9b5317228fff",
   "metadata": {},
   "outputs": [
    {
     "data": {
      "text/plain": [
       "float"
      ]
     },
     "execution_count": 10,
     "metadata": {},
     "output_type": "execute_result"
    }
   ],
   "source": [
    "b=10.5\n",
    "type(b) ### float->number with a decimal point"
   ]
  },
  {
   "cell_type": "code",
   "execution_count": 11,
   "id": "4cd36f2e-5017-454d-aa02-71ac724eee0f",
   "metadata": {},
   "outputs": [
    {
     "data": {
      "text/plain": [
       "str"
      ]
     },
     "execution_count": 11,
     "metadata": {},
     "output_type": "execute_result"
    }
   ],
   "source": [
    "c=\"Python\"\n",
    "type(c) ### str->string(text/object)"
   ]
  },
  {
   "cell_type": "code",
   "execution_count": 12,
   "id": "878ab1b3-0db5-4260-aaab-4bc7aa56d1b5",
   "metadata": {},
   "outputs": [
    {
     "data": {
      "text/plain": [
       "bool"
      ]
     },
     "execution_count": 12,
     "metadata": {},
     "output_type": "execute_result"
    }
   ],
   "source": [
    "d=True\n",
    "type(d) ### bool->boolean(True and False)"
   ]
  },
  {
   "cell_type": "code",
   "execution_count": 13,
   "id": "f7801c36-efbb-42f6-b883-b6a91f1498b2",
   "metadata": {},
   "outputs": [
    {
     "ename": "NameError",
     "evalue": "name 'false' is not defined",
     "output_type": "error",
     "traceback": [
      "\u001b[1;31m---------------------------------------------------------------------------\u001b[0m",
      "\u001b[1;31mNameError\u001b[0m                                 Traceback (most recent call last)",
      "Cell \u001b[1;32mIn[13], line 1\u001b[0m\n\u001b[1;32m----> 1\u001b[0m e\u001b[38;5;241m=\u001b[39mfalse\n\u001b[0;32m      2\u001b[0m \u001b[38;5;28mtype\u001b[39m(e)\n",
      "\u001b[1;31mNameError\u001b[0m: name 'false' is not defined"
     ]
    }
   ],
   "source": [
    "e=false\n",
    "type(e) ### It should be False"
   ]
  },
  {
   "cell_type": "code",
   "execution_count": 14,
   "id": "b9154ef2-b769-4244-b832-937cad700178",
   "metadata": {},
   "outputs": [
    {
     "data": {
      "text/plain": [
       "str"
      ]
     },
     "execution_count": 14,
     "metadata": {},
     "output_type": "execute_result"
    }
   ],
   "source": [
    "f=\"True\"\n",
    "type(f)"
   ]
  },
  {
   "cell_type": "code",
   "execution_count": 15,
   "id": "83384986-c0c9-45f0-9cc7-71159f70063c",
   "metadata": {},
   "outputs": [
    {
     "data": {
      "text/plain": [
       "10"
      ]
     },
     "execution_count": 15,
     "metadata": {},
     "output_type": "execute_result"
    }
   ],
   "source": [
    "### Variables\n",
    "x=10\n",
    "x # xis variable"
   ]
  },
  {
   "cell_type": "code",
   "execution_count": 16,
   "id": "71313ca9-4e74-4458-9862-e4e082654b6a",
   "metadata": {},
   "outputs": [
    {
     "data": {
      "text/plain": [
       "[1, 2, 3, 3, 6]"
      ]
     },
     "execution_count": 16,
     "metadata": {},
     "output_type": "execute_result"
    }
   ],
   "source": [
    "sample_list=[1,2,3,3,6]\n",
    "sample_list"
   ]
  },
  {
   "cell_type": "code",
   "execution_count": 17,
   "id": "73b58c5d-22a3-417c-a527-da36f3589d45",
   "metadata": {},
   "outputs": [
    {
     "ename": "SyntaxError",
     "evalue": "invalid syntax (2079876364.py, line 1)",
     "output_type": "error",
     "traceback": [
      "\u001b[1;36m  Cell \u001b[1;32mIn[17], line 1\u001b[1;36m\u001b[0m\n\u001b[1;33m    sample data=1,2,3\u001b[0m\n\u001b[1;37m           ^\u001b[0m\n\u001b[1;31mSyntaxError\u001b[0m\u001b[1;31m:\u001b[0m invalid syntax\n"
     ]
    }
   ],
   "source": [
    "sample data=1,2,3\n",
    "sample data # space is not allowed"
   ]
  },
  {
   "cell_type": "code",
   "execution_count": 18,
   "id": "0acb0e49-25df-4090-8449-56758bb1da72",
   "metadata": {},
   "outputs": [
    {
     "ename": "SyntaxError",
     "evalue": "invalid decimal literal (2535379369.py, line 1)",
     "output_type": "error",
     "traceback": [
      "\u001b[1;36m  Cell \u001b[1;32mIn[18], line 1\u001b[1;36m\u001b[0m\n\u001b[1;33m    2sample=1,2,3,4\u001b[0m\n\u001b[1;37m    ^\u001b[0m\n\u001b[1;31mSyntaxError\u001b[0m\u001b[1;31m:\u001b[0m invalid decimal literal\n"
     ]
    }
   ],
   "source": [
    "2sample=1,2,3,4\n",
    "2sample"
   ]
  },
  {
   "cell_type": "code",
   "execution_count": 19,
   "id": "676a0edd-233e-4ea4-b4b4-f5cf46dfa9c3",
   "metadata": {},
   "outputs": [
    {
     "data": {
      "text/plain": [
       "(1, 2, 3, 4)"
      ]
     },
     "execution_count": 19,
     "metadata": {},
     "output_type": "execute_result"
    }
   ],
   "source": [
    "s2ample=1,2,3,4\n",
    "s2ample # Variable name should not start with a number"
   ]
  },
  {
   "cell_type": "code",
   "execution_count": 21,
   "id": "8dfc0fe9-7960-48c4-bc5d-deced84873be",
   "metadata": {},
   "outputs": [
    {
     "ename": "SyntaxError",
     "evalue": "cannot assign to expression here. Maybe you meant '==' instead of '='? (1259289647.py, line 1)",
     "output_type": "error",
     "traceback": [
      "\u001b[1;36m  Cell \u001b[1;32mIn[21], line 1\u001b[1;36m\u001b[0m\n\u001b[1;33m    sample+data=1,2,3,4\u001b[0m\n\u001b[1;37m    ^\u001b[0m\n\u001b[1;31mSyntaxError\u001b[0m\u001b[1;31m:\u001b[0m cannot assign to expression here. Maybe you meant '==' instead of '='?\n"
     ]
    }
   ],
   "source": [
    "sample+data=1,2,3,4\n",
    "sample+data ### Variable names donot allow any spl char other than _"
   ]
  },
  {
   "cell_type": "markdown",
   "id": "de5cb0a0-b10d-44a6-9c77-a33f3bd5f3e0",
   "metadata": {},
   "source": [
    "#### Variable names can start with A-Z,a-z or _\n",
    "#### Variable names should not start with a number\n",
    "#### Variable name should not have space\n",
    "#### Variable names don't allow any special chars other than _"
   ]
  },
  {
   "cell_type": "code",
   "execution_count": 25,
   "id": "c06659bd-0f54-4c7a-8522-201be5411b6a",
   "metadata": {},
   "outputs": [
    {
     "name": "stdout",
     "output_type": "stream",
     "text": [
      "<class 'int'>\n",
      "10\n"
     ]
    }
   ],
   "source": [
    "x=10\n",
    "print(type(x))\n",
    "print(x)"
   ]
  },
  {
   "cell_type": "markdown",
   "id": "8639b2f7-1876-40c4-91b8-da06ef5f4aec",
   "metadata": {},
   "source": [
    "### String"
   ]
  },
  {
   "cell_type": "code",
   "execution_count": 70,
   "id": "4237035f-3c28-4c2e-b0eb-f56daafedea4",
   "metadata": {},
   "outputs": [
    {
     "data": {
      "text/plain": [
       "'Hello Python'"
      ]
     },
     "execution_count": 70,
     "metadata": {},
     "output_type": "execute_result"
    }
   ],
   "source": [
    "str1=\"Hello Python\"\n",
    "str1"
   ]
  },
  {
   "cell_type": "code",
   "execution_count": 27,
   "id": "fb5dbede-da1b-467f-957a-e8a8b2a1e9f4",
   "metadata": {},
   "outputs": [
    {
     "ename": "SyntaxError",
     "evalue": "unterminated string literal (detected at line 1) (3439460991.py, line 1)",
     "output_type": "error",
     "traceback": [
      "\u001b[1;36m  Cell \u001b[1;32mIn[27], line 1\u001b[1;36m\u001b[0m\n\u001b[1;33m    str1=\"Hello Python'\u001b[0m\n\u001b[1;37m         ^\u001b[0m\n\u001b[1;31mSyntaxError\u001b[0m\u001b[1;31m:\u001b[0m unterminated string literal (detected at line 1)\n"
     ]
    }
   ],
   "source": [
    "str1=\"Hello Python'\n",
    "str1"
   ]
  },
  {
   "cell_type": "code",
   "execution_count": 28,
   "id": "5d68e5a4-b5eb-4239-9f62-0fd0dfcb21a3",
   "metadata": {},
   "outputs": [
    {
     "data": {
      "text/plain": [
       "'Hello World'"
      ]
     },
     "execution_count": 28,
     "metadata": {},
     "output_type": "execute_result"
    }
   ],
   "source": [
    "str1=\"\"\"Hello World\"\"\"\n",
    "str1   ### Multiple lines \"\"\"\"\"\""
   ]
  },
  {
   "cell_type": "code",
   "execution_count": 29,
   "id": "aaa280f2-de95-43f6-8d61-37b78bedb60c",
   "metadata": {},
   "outputs": [
    {
     "data": {
      "text/plain": [
       "'H'"
      ]
     },
     "execution_count": 29,
     "metadata": {},
     "output_type": "execute_result"
    }
   ],
   "source": [
    "str1[0]"
   ]
  },
  {
   "cell_type": "code",
   "execution_count": 30,
   "id": "0ed9b45b-63f4-4be1-aba8-dbc3c398b0fa",
   "metadata": {},
   "outputs": [
    {
     "data": {
      "text/plain": [
       "' '"
      ]
     },
     "execution_count": 30,
     "metadata": {},
     "output_type": "execute_result"
    }
   ],
   "source": [
    "str1[5]"
   ]
  },
  {
   "cell_type": "code",
   "execution_count": 31,
   "id": "60b4acfd-3f98-4709-9ea4-7e2a82883bde",
   "metadata": {},
   "outputs": [
    {
     "data": {
      "text/plain": [
       "'W'"
      ]
     },
     "execution_count": 31,
     "metadata": {},
     "output_type": "execute_result"
    }
   ],
   "source": [
    "str1[6]"
   ]
  },
  {
   "cell_type": "code",
   "execution_count": 32,
   "id": "96cc52b0-fa0c-47a3-8b7f-d90ec9f6527f",
   "metadata": {},
   "outputs": [
    {
     "ename": "IndexError",
     "evalue": "string index out of range",
     "output_type": "error",
     "traceback": [
      "\u001b[1;31m---------------------------------------------------------------------------\u001b[0m",
      "\u001b[1;31mIndexError\u001b[0m                                Traceback (most recent call last)",
      "Cell \u001b[1;32mIn[32], line 1\u001b[0m\n\u001b[1;32m----> 1\u001b[0m str1[\u001b[38;5;241m100\u001b[39m]\n",
      "\u001b[1;31mIndexError\u001b[0m: string index out of range"
     ]
    }
   ],
   "source": [
    "str1[100]"
   ]
  },
  {
   "cell_type": "code",
   "execution_count": 34,
   "id": "39f766e4-9841-4ed5-bd2d-600e28db0a2f",
   "metadata": {},
   "outputs": [
    {
     "ename": "IndexError",
     "evalue": "string index out of range",
     "output_type": "error",
     "traceback": [
      "\u001b[1;31m---------------------------------------------------------------------------\u001b[0m",
      "\u001b[1;31mIndexError\u001b[0m                                Traceback (most recent call last)",
      "Cell \u001b[1;32mIn[34], line 1\u001b[0m\n\u001b[1;32m----> 1\u001b[0m str1[\u001b[38;5;241m11\u001b[39m]\n",
      "\u001b[1;31mIndexError\u001b[0m: string index out of range"
     ]
    }
   ],
   "source": [
    "str1[10]"
   ]
  },
  {
   "cell_type": "code",
   "execution_count": 35,
   "id": "72bbd49a-e368-4419-aafa-d02082dfaaea",
   "metadata": {},
   "outputs": [
    {
     "data": {
      "text/plain": [
       "'d'"
      ]
     },
     "execution_count": 35,
     "metadata": {},
     "output_type": "execute_result"
    }
   ],
   "source": [
    "str1[-1]"
   ]
  },
  {
   "cell_type": "code",
   "execution_count": 36,
   "id": "b7d9a9c1-e90f-4bce-89fa-93fcc7db9630",
   "metadata": {},
   "outputs": [
    {
     "data": {
      "text/plain": [
       "'H'"
      ]
     },
     "execution_count": 36,
     "metadata": {},
     "output_type": "execute_result"
    }
   ],
   "source": [
    "str1[-11]"
   ]
  },
  {
   "cell_type": "code",
   "execution_count": 37,
   "id": "a99d5171-58f7-4db1-862d-dffa916635ed",
   "metadata": {},
   "outputs": [
    {
     "ename": "IndexError",
     "evalue": "string index out of range",
     "output_type": "error",
     "traceback": [
      "\u001b[1;31m---------------------------------------------------------------------------\u001b[0m",
      "\u001b[1;31mIndexError\u001b[0m                                Traceback (most recent call last)",
      "Cell \u001b[1;32mIn[37], line 1\u001b[0m\n\u001b[1;32m----> 1\u001b[0m str1[\u001b[38;5;241m-\u001b[39m\u001b[38;5;241m12\u001b[39m]\n",
      "\u001b[1;31mIndexError\u001b[0m: string index out of range"
     ]
    }
   ],
   "source": [
    "str1[-12]"
   ]
  },
  {
   "cell_type": "code",
   "execution_count": 38,
   "id": "8018b811-f6e2-45a1-8855-6fd355b544f2",
   "metadata": {},
   "outputs": [
    {
     "data": {
      "text/plain": [
       "11"
      ]
     },
     "execution_count": 38,
     "metadata": {},
     "output_type": "execute_result"
    }
   ],
   "source": [
    "len(str1)"
   ]
  },
  {
   "cell_type": "code",
   "execution_count": 39,
   "id": "c8d8195c-891f-4250-9e80-fc22b45f84a2",
   "metadata": {},
   "outputs": [
    {
     "data": {
      "text/plain": [
       "'Hell'"
      ]
     },
     "execution_count": 39,
     "metadata": {},
     "output_type": "execute_result"
    }
   ],
   "source": [
    "str1[0:4] #slicing"
   ]
  },
  {
   "cell_type": "code",
   "execution_count": 40,
   "id": "47731464-b628-4812-9a05-8a79ec7f6fd4",
   "metadata": {},
   "outputs": [
    {
     "data": {
      "text/plain": [
       "'Hello'"
      ]
     },
     "execution_count": 40,
     "metadata": {},
     "output_type": "execute_result"
    }
   ],
   "source": [
    "str1[0:5]"
   ]
  },
  {
   "cell_type": "code",
   "execution_count": 41,
   "id": "6ae27261-ea61-4786-ad86-e6dd30287dab",
   "metadata": {},
   "outputs": [
    {
     "data": {
      "text/plain": [
       "'World'"
      ]
     },
     "execution_count": 41,
     "metadata": {},
     "output_type": "execute_result"
    }
   ],
   "source": [
    "str1[6:11]"
   ]
  },
  {
   "cell_type": "code",
   "execution_count": null,
   "id": "2519fb86-2da0-4fbd-bb25-754bfc6ca86e",
   "metadata": {},
   "outputs": [],
   "source": [
    "### Retrieve World with negative index"
   ]
  },
  {
   "cell_type": "code",
   "execution_count": 43,
   "id": "f36639d1-e0b9-4c43-8d45-cd3a6de98733",
   "metadata": {},
   "outputs": [
    {
     "data": {
      "text/plain": [
       "' Worl'"
      ]
     },
     "execution_count": 43,
     "metadata": {},
     "output_type": "execute_result"
    }
   ],
   "source": [
    "str1[-6:-1]"
   ]
  },
  {
   "cell_type": "code",
   "execution_count": 45,
   "id": "da92300f-7320-4c08-9318-b8cca6d94818",
   "metadata": {},
   "outputs": [
    {
     "data": {
      "text/plain": [
       "'World'"
      ]
     },
     "execution_count": 45,
     "metadata": {},
     "output_type": "execute_result"
    }
   ],
   "source": [
    "str1[-5:]"
   ]
  },
  {
   "cell_type": "code",
   "execution_count": 46,
   "id": "17093418-144e-4df6-be21-b247eb7288d8",
   "metadata": {},
   "outputs": [
    {
     "data": {
      "text/plain": [
       "'Hello'"
      ]
     },
     "execution_count": 46,
     "metadata": {},
     "output_type": "execute_result"
    }
   ],
   "source": [
    "str1[0:5]"
   ]
  },
  {
   "cell_type": "code",
   "execution_count": 47,
   "id": "7a728193-dce2-421e-b41e-07695f59b535",
   "metadata": {},
   "outputs": [
    {
     "data": {
      "text/plain": [
       "'Hello World'"
      ]
     },
     "execution_count": 47,
     "metadata": {},
     "output_type": "execute_result"
    }
   ],
   "source": [
    "str1[0:]"
   ]
  },
  {
   "cell_type": "markdown",
   "id": "3e6ee143-41b4-404f-bf50-2558aca6a965",
   "metadata": {},
   "source": [
    "### Update a string using index"
   ]
  },
  {
   "cell_type": "code",
   "execution_count": 48,
   "id": "936be7ec-b5c5-4d0b-be00-1054c12ef940",
   "metadata": {},
   "outputs": [
    {
     "ename": "TypeError",
     "evalue": "'str' object does not support item assignment",
     "output_type": "error",
     "traceback": [
      "\u001b[1;31m---------------------------------------------------------------------------\u001b[0m",
      "\u001b[1;31mTypeError\u001b[0m                                 Traceback (most recent call last)",
      "Cell \u001b[1;32mIn[48], line 1\u001b[0m\n\u001b[1;32m----> 1\u001b[0m str1[\u001b[38;5;241m0\u001b[39m:\u001b[38;5;241m5\u001b[39m]\u001b[38;5;241m=\u001b[39m\u001b[38;5;124m\"\u001b[39m\u001b[38;5;124mHELLO\u001b[39m\u001b[38;5;124m\"\u001b[39m\n",
      "\u001b[1;31mTypeError\u001b[0m: 'str' object does not support item assignment"
     ]
    }
   ],
   "source": [
    "str1[0:5]=\"HELLO\""
   ]
  },
  {
   "cell_type": "code",
   "execution_count": null,
   "id": "906a9c3e-2e53-445d-be51-1991cff9049a",
   "metadata": {},
   "outputs": [],
   "source": [
    "#### Delete a string"
   ]
  },
  {
   "cell_type": "markdown",
   "id": "5b022dbc-785c-4c5e-9ed8-9c90f4fef368",
   "metadata": {},
   "source": [
    "del str1"
   ]
  },
  {
   "cell_type": "code",
   "execution_count": 50,
   "id": "328b8fc9-5f96-4f1a-98d8-4a802ef59da7",
   "metadata": {},
   "outputs": [
    {
     "ename": "NameError",
     "evalue": "name 'str1' is not defined",
     "output_type": "error",
     "traceback": [
      "\u001b[1;31m---------------------------------------------------------------------------\u001b[0m",
      "\u001b[1;31mNameError\u001b[0m                                 Traceback (most recent call last)",
      "Cell \u001b[1;32mIn[50], line 1\u001b[0m\n\u001b[1;32m----> 1\u001b[0m str1\n",
      "\u001b[1;31mNameError\u001b[0m: name 'str1' is not defined"
     ]
    }
   ],
   "source": [
    "str1"
   ]
  },
  {
   "cell_type": "markdown",
   "id": "47e2fd20-11f0-474c-b593-b03da679cf20",
   "metadata": {},
   "source": [
    "### string concatenation"
   ]
  },
  {
   "cell_type": "code",
   "execution_count": 51,
   "id": "8379802e-0106-41f8-b23a-189f002d1e38",
   "metadata": {},
   "outputs": [
    {
     "data": {
      "text/plain": [
       "'PremaLatha'"
      ]
     },
     "execution_count": 51,
     "metadata": {},
     "output_type": "execute_result"
    }
   ],
   "source": [
    "first_name=\"Prema\"\n",
    "last_name=\"Latha\"\n",
    "full_name=first_name+last_name\n",
    "full_name"
   ]
  },
  {
   "cell_type": "code",
   "execution_count": 54,
   "id": "84487364-eb20-483e-9bf2-82004145a144",
   "metadata": {},
   "outputs": [
    {
     "data": {
      "text/plain": [
       "'Prema Latha'"
      ]
     },
     "execution_count": 54,
     "metadata": {},
     "output_type": "execute_result"
    }
   ],
   "source": [
    "first_name=\"Prema\"\n",
    "last_name=\"Latha\"\n",
    "full_name=first_name+\" \"+last_name\n",
    "full_name"
   ]
  },
  {
   "cell_type": "markdown",
   "id": "318351f8-999d-47c9-abbe-0f6cdd2e4a2c",
   "metadata": {},
   "source": [
    "### Iterating through a string"
   ]
  },
  {
   "cell_type": "code",
   "execution_count": 55,
   "id": "255e65d2-d134-40ce-b640-6123d9f1e094",
   "metadata": {},
   "outputs": [
    {
     "name": "stdout",
     "output_type": "stream",
     "text": [
      "P\n",
      "r\n",
      "e\n",
      "m\n",
      "a\n",
      " \n",
      "L\n",
      "a\n",
      "t\n",
      "h\n",
      "a\n"
     ]
    }
   ],
   "source": [
    "for i in full_name:\n",
    "    print(i)"
   ]
  },
  {
   "cell_type": "code",
   "execution_count": null,
   "id": "edc7233b-7d35-4414-9ff5-7afccb8031a9",
   "metadata": {},
   "outputs": [],
   "source": [
    "### String Membership"
   ]
  },
  {
   "cell_type": "code",
   "execution_count": 56,
   "id": "54e462e1-f197-47e6-ba00-0e05a6418c3d",
   "metadata": {},
   "outputs": [
    {
     "data": {
      "text/plain": [
       "True"
      ]
     },
     "execution_count": 56,
     "metadata": {},
     "output_type": "execute_result"
    }
   ],
   "source": [
    "\"a\" in full_name"
   ]
  },
  {
   "cell_type": "code",
   "execution_count": 57,
   "id": "4a56adc3-5de5-4c8c-a613-42c7a1d58fda",
   "metadata": {},
   "outputs": [
    {
     "data": {
      "text/plain": [
       "False"
      ]
     },
     "execution_count": 57,
     "metadata": {},
     "output_type": "execute_result"
    }
   ],
   "source": [
    "\"k\" in full_name"
   ]
  },
  {
   "cell_type": "code",
   "execution_count": 58,
   "id": "30eff3de-1242-4835-954e-2f79fcacc165",
   "metadata": {},
   "outputs": [
    {
     "data": {
      "text/plain": [
       "'Prema Latha'"
      ]
     },
     "execution_count": 58,
     "metadata": {},
     "output_type": "execute_result"
    }
   ],
   "source": [
    "full_name.strip()"
   ]
  },
  {
   "cell_type": "code",
   "execution_count": 59,
   "id": "8f5c5c48-fa03-46c6-9fd2-4f7b4ed88c7c",
   "metadata": {},
   "outputs": [
    {
     "data": {
      "text/plain": [
       "'Premalatha'"
      ]
     },
     "execution_count": 59,
     "metadata": {},
     "output_type": "execute_result"
    }
   ],
   "source": [
    "full_name=\"      Premalatha   \" ### Removes whitespace\n",
    "full_name.strip()"
   ]
  },
  {
   "cell_type": "code",
   "execution_count": 60,
   "id": "1ce10794-1181-4552-8a11-90edd0939f50",
   "metadata": {},
   "outputs": [
    {
     "data": {
      "text/plain": [
       "'Prema  latha'"
      ]
     },
     "execution_count": 60,
     "metadata": {},
     "output_type": "execute_result"
    }
   ],
   "source": [
    "full_name=\"      Prema  latha   \" \n",
    "full_name.strip()"
   ]
  },
  {
   "cell_type": "code",
   "execution_count": 61,
   "id": "383f616c-0211-4d37-b08d-7584e51e579b",
   "metadata": {},
   "outputs": [
    {
     "data": {
      "text/plain": [
       "'      Prema  latha'"
      ]
     },
     "execution_count": 61,
     "metadata": {},
     "output_type": "execute_result"
    }
   ],
   "source": [
    "full_name.rstrip()"
   ]
  },
  {
   "cell_type": "code",
   "execution_count": 62,
   "id": "d5fdb556-281b-48db-af09-54a0680385fc",
   "metadata": {},
   "outputs": [
    {
     "data": {
      "text/plain": [
       "'Prema  latha   '"
      ]
     },
     "execution_count": 62,
     "metadata": {},
     "output_type": "execute_result"
    }
   ],
   "source": [
    "full_name.lstrip()"
   ]
  },
  {
   "cell_type": "code",
   "execution_count": 64,
   "id": "a1007216-221d-4d24-8c88-6d46dcc02bdd",
   "metadata": {},
   "outputs": [
    {
     "data": {
      "text/plain": [
       "'Hello Everyone!!!!***********All the Best'"
      ]
     },
     "execution_count": 64,
     "metadata": {},
     "output_type": "execute_result"
    }
   ],
   "source": [
    "str2=\"***********Hello Everyone!!!!***********All the Best*****\"\n",
    "str2.strip('*')"
   ]
  },
  {
   "cell_type": "code",
   "execution_count": 65,
   "id": "8a5e79b5-0a71-44f9-b56d-e18e5ce570d4",
   "metadata": {},
   "outputs": [
    {
     "data": {
      "text/plain": [
       "'Hello Everyone!!!!***********All the Best*****'"
      ]
     },
     "execution_count": 65,
     "metadata": {},
     "output_type": "execute_result"
    }
   ],
   "source": [
    "str2.lstrip('*')"
   ]
  },
  {
   "cell_type": "code",
   "execution_count": 67,
   "id": "fc21b32f-b303-403f-af2e-ed615a3a61c0",
   "metadata": {},
   "outputs": [
    {
     "data": {
      "text/plain": [
       "'***********Hello Everyone!!!!***********All the Best'"
      ]
     },
     "execution_count": 67,
     "metadata": {},
     "output_type": "execute_result"
    }
   ],
   "source": [
    "str2.rstrip('*')"
   ]
  },
  {
   "cell_type": "code",
   "execution_count": 71,
   "id": "b30cd277-a119-46a6-984d-acbd7e886746",
   "metadata": {},
   "outputs": [
    {
     "data": {
      "text/plain": [
       "'hello python'"
      ]
     },
     "execution_count": 71,
     "metadata": {},
     "output_type": "execute_result"
    }
   ],
   "source": [
    "str1.lower()"
   ]
  },
  {
   "cell_type": "code",
   "execution_count": 72,
   "id": "bc9a4ee1-01ab-464f-ae7b-9726a8b11aa4",
   "metadata": {},
   "outputs": [
    {
     "data": {
      "text/plain": [
       "'HELLO PYTHON'"
      ]
     },
     "execution_count": 72,
     "metadata": {},
     "output_type": "execute_result"
    }
   ],
   "source": [
    "str1.upper()"
   ]
  },
  {
   "cell_type": "code",
   "execution_count": 73,
   "id": "032eb533-9214-4eba-8089-a290ee38bde0",
   "metadata": {},
   "outputs": [
    {
     "data": {
      "text/plain": [
       "'Welcome To The Session'"
      ]
     },
     "execution_count": 73,
     "metadata": {},
     "output_type": "execute_result"
    }
   ],
   "source": [
    "str3=\"welcome to the session\"\n",
    "str3.title()"
   ]
  },
  {
   "cell_type": "code",
   "execution_count": 74,
   "id": "37482ece-fd9b-42d3-81d4-e8a95f2b2a60",
   "metadata": {},
   "outputs": [
    {
     "data": {
      "text/plain": [
       "'Hello Python'"
      ]
     },
     "execution_count": 74,
     "metadata": {},
     "output_type": "execute_result"
    }
   ],
   "source": [
    "str1"
   ]
  },
  {
   "cell_type": "code",
   "execution_count": 75,
   "id": "6736c5e7-6f10-476a-b4af-6c311d4c64f6",
   "metadata": {},
   "outputs": [
    {
     "data": {
      "text/plain": [
       "'Hallo Python'"
      ]
     },
     "execution_count": 75,
     "metadata": {},
     "output_type": "execute_result"
    }
   ],
   "source": [
    "str1.replace(\"Hello\",\"Hallo\")"
   ]
  },
  {
   "cell_type": "code",
   "execution_count": 76,
   "id": "31679ac0-a339-4208-9d10-1d386a6fa6b8",
   "metadata": {},
   "outputs": [
    {
     "data": {
      "text/plain": [
       "'Hello Java'"
      ]
     },
     "execution_count": 76,
     "metadata": {},
     "output_type": "execute_result"
    }
   ],
   "source": [
    "str1.replace(\"Python\",\"Java\")"
   ]
  },
  {
   "cell_type": "code",
   "execution_count": 77,
   "id": "6c7084cc-a824-4a96-b04c-0e019e2cd685",
   "metadata": {},
   "outputs": [
    {
     "data": {
      "text/plain": [
       "40"
      ]
     },
     "execution_count": 77,
     "metadata": {},
     "output_type": "execute_result"
    }
   ],
   "source": [
    "str4=\"one two three one two one three four one\"\n",
    "len(str4)"
   ]
  },
  {
   "cell_type": "code",
   "execution_count": 78,
   "id": "ae4f7544-8a69-4a9d-abaf-daffa1e4fcb3",
   "metadata": {},
   "outputs": [
    {
     "data": {
      "text/plain": [
       "4"
      ]
     },
     "execution_count": 78,
     "metadata": {},
     "output_type": "execute_result"
    }
   ],
   "source": [
    "str4.count(\"one\")"
   ]
  },
  {
   "cell_type": "code",
   "execution_count": 79,
   "id": "24f56822-02bc-45c3-a133-4cd1ac27e266",
   "metadata": {},
   "outputs": [
    {
     "data": {
      "text/plain": [
       "0"
      ]
     },
     "execution_count": 79,
     "metadata": {},
     "output_type": "execute_result"
    }
   ],
   "source": [
    "str4.count(\"five\")"
   ]
  },
  {
   "cell_type": "code",
   "execution_count": 80,
   "id": "c3fc844b-8365-4999-a64d-7de5e1946941",
   "metadata": {},
   "outputs": [
    {
     "data": {
      "text/plain": [
       "True"
      ]
     },
     "execution_count": 80,
     "metadata": {},
     "output_type": "execute_result"
    }
   ],
   "source": [
    "\"three\" in str4"
   ]
  },
  {
   "cell_type": "code",
   "execution_count": 81,
   "id": "294a0fbc-28f1-4b74-894b-278881b8a561",
   "metadata": {},
   "outputs": [
    {
     "data": {
      "text/plain": [
       "False"
      ]
     },
     "execution_count": 81,
     "metadata": {},
     "output_type": "execute_result"
    }
   ],
   "source": [
    "\"five\" in str4"
   ]
  },
  {
   "cell_type": "code",
   "execution_count": 82,
   "id": "e0156e2b-ad0f-400e-a7a4-7aff717cbefc",
   "metadata": {},
   "outputs": [
    {
     "name": "stdout",
     "output_type": "stream",
     "text": [
      "o\n",
      "n\n",
      "e\n",
      " \n",
      "t\n",
      "w\n",
      "o\n",
      " \n",
      "t\n",
      "h\n",
      "r\n",
      "e\n",
      "e\n",
      " \n",
      "o\n",
      "n\n",
      "e\n",
      " \n",
      "t\n",
      "w\n",
      "o\n",
      " \n",
      "o\n",
      "n\n",
      "e\n",
      " \n",
      "t\n",
      "h\n",
      "r\n",
      "e\n",
      "e\n",
      " \n",
      "f\n",
      "o\n",
      "u\n",
      "r\n",
      " \n",
      "o\n",
      "n\n",
      "e\n"
     ]
    }
   ],
   "source": [
    "for i in str4:\n",
    "    print(i)"
   ]
  },
  {
   "cell_type": "code",
   "execution_count": 83,
   "id": "f135ab10-e3e0-462c-aef7-53509e021879",
   "metadata": {},
   "outputs": [
    {
     "data": {
      "text/plain": [
       "True"
      ]
     },
     "execution_count": 83,
     "metadata": {},
     "output_type": "execute_result"
    }
   ],
   "source": [
    "str4.startswith(\"one\")"
   ]
  },
  {
   "cell_type": "code",
   "execution_count": 85,
   "id": "cf4372e2-7b4c-4d64-98a5-5072af27cf34",
   "metadata": {},
   "outputs": [
    {
     "data": {
      "text/plain": [
       "False"
      ]
     },
     "execution_count": 85,
     "metadata": {},
     "output_type": "execute_result"
    }
   ],
   "source": [
    "str4.endswith(\"five\")"
   ]
  },
  {
   "cell_type": "code",
   "execution_count": 86,
   "id": "6c05fe15-5b5f-4855-a87f-d462f80fa61c",
   "metadata": {},
   "outputs": [
    {
     "data": {
      "text/plain": [
       "['one', 'two', 'three', 'one', 'two', 'one', 'three', 'four', 'one']"
      ]
     },
     "execution_count": 86,
     "metadata": {},
     "output_type": "execute_result"
    }
   ],
   "source": [
    "str4.split()"
   ]
  },
  {
   "cell_type": "code",
   "execution_count": 92,
   "id": "bc7c32fa-7983-41c6-834b-dbdf7f666b4f",
   "metadata": {},
   "outputs": [
    {
     "data": {
      "text/plain": [
       "'                                          welcome Everyone                                          '"
      ]
     },
     "execution_count": 92,
     "metadata": {},
     "output_type": "execute_result"
    }
   ],
   "source": [
    "str5=\"welcome Everyone\"\n",
    "str5.center(100)"
   ]
  },
  {
   "cell_type": "code",
   "execution_count": 93,
   "id": "4d25c400-ee84-4177-8bc8-fb03ec4094b9",
   "metadata": {},
   "outputs": [
    {
     "data": {
      "text/plain": [
       "'                                                                                    welcome Everyone'"
      ]
     },
     "execution_count": 93,
     "metadata": {},
     "output_type": "execute_result"
    }
   ],
   "source": [
    "str5.rjust(100)"
   ]
  },
  {
   "cell_type": "code",
   "execution_count": 94,
   "id": "f3e033aa-c2f2-4249-b903-4a913b472caa",
   "metadata": {},
   "outputs": [
    {
     "data": {
      "text/plain": [
       "'welcome Everyone                                                                                    '"
      ]
     },
     "execution_count": 94,
     "metadata": {},
     "output_type": "execute_result"
    }
   ],
   "source": [
    "str5.ljust(100)"
   ]
  },
  {
   "cell_type": "code",
   "execution_count": 95,
   "id": "afceb39d-ce36-494f-b7f7-fc43f4b09a7c",
   "metadata": {},
   "outputs": [
    {
     "data": {
      "text/plain": [
       "True"
      ]
     },
     "execution_count": 95,
     "metadata": {},
     "output_type": "execute_result"
    }
   ],
   "source": [
    "\"one\" in str5"
   ]
  },
  {
   "cell_type": "code",
   "execution_count": 96,
   "id": "6adbe43d-d652-4072-af14-24efb4d8c03c",
   "metadata": {},
   "outputs": [
    {
     "data": {
      "text/plain": [
       "13"
      ]
     },
     "execution_count": 96,
     "metadata": {},
     "output_type": "execute_result"
    }
   ],
   "source": [
    "str5.find(\"one\")"
   ]
  },
  {
   "cell_type": "code",
   "execution_count": 97,
   "id": "f5f05041-778c-4fb3-937f-f4a2f0829bad",
   "metadata": {},
   "outputs": [
    {
     "data": {
      "text/plain": [
       "13"
      ]
     },
     "execution_count": 97,
     "metadata": {},
     "output_type": "execute_result"
    }
   ],
   "source": [
    "str5.index(\"one\")"
   ]
  },
  {
   "cell_type": "markdown",
   "id": "2e1588f4-59e4-45a9-a21b-014051a175d0",
   "metadata": {},
   "source": [
    "### List"
   ]
  },
  {
   "cell_type": "code",
   "execution_count": null,
   "id": "2fb8ffe4-ca1a-43d4-8727-986e0afe35b6",
   "metadata": {},
   "outputs": [],
   "source": [
    "### heterogenous->allow multiple data types\n",
    "### Square bracket\n",
    "### Retrieved using index\n",
    "### List is mutable(change is accepted)"
   ]
  },
  {
   "cell_type": "code",
   "execution_count": 98,
   "id": "b3cd250e-88cd-40be-b4ec-276deedcfea9",
   "metadata": {},
   "outputs": [
    {
     "data": {
      "text/plain": [
       "[12, 25, 12.87, True, 'python', 'sql']"
      ]
     },
     "execution_count": 98,
     "metadata": {},
     "output_type": "execute_result"
    }
   ],
   "source": [
    "list1=[12,25,12.87,True,\"python\",\"sql\"]\n",
    "list1"
   ]
  },
  {
   "cell_type": "code",
   "execution_count": 99,
   "id": "7596ab11-3d4c-41ca-9d6f-e2879da616b6",
   "metadata": {},
   "outputs": [
    {
     "data": {
      "text/plain": [
       "12"
      ]
     },
     "execution_count": 99,
     "metadata": {},
     "output_type": "execute_result"
    }
   ],
   "source": [
    "list1[0]"
   ]
  },
  {
   "cell_type": "code",
   "execution_count": 100,
   "id": "cdd31890-c864-4113-96d5-1ff4ab970c26",
   "metadata": {},
   "outputs": [
    {
     "data": {
      "text/plain": [
       "'sql'"
      ]
     },
     "execution_count": 100,
     "metadata": {},
     "output_type": "execute_result"
    }
   ],
   "source": [
    "list1[5]"
   ]
  },
  {
   "cell_type": "code",
   "execution_count": 101,
   "id": "e93bb829-01b1-4155-bc5d-562d3c7fa3a1",
   "metadata": {},
   "outputs": [
    {
     "ename": "IndexError",
     "evalue": "list index out of range",
     "output_type": "error",
     "traceback": [
      "\u001b[1;31m---------------------------------------------------------------------------\u001b[0m",
      "\u001b[1;31mIndexError\u001b[0m                                Traceback (most recent call last)",
      "Cell \u001b[1;32mIn[101], line 1\u001b[0m\n\u001b[1;32m----> 1\u001b[0m list1[\u001b[38;5;241m15\u001b[39m]\n",
      "\u001b[1;31mIndexError\u001b[0m: list index out of range"
     ]
    }
   ],
   "source": [
    "list1[15]"
   ]
  },
  {
   "cell_type": "code",
   "execution_count": 103,
   "id": "1f461c1a-98cf-4abe-a885-cc38dd63d912",
   "metadata": {},
   "outputs": [
    {
     "data": {
      "text/plain": [
       "['python', 'sql']"
      ]
     },
     "execution_count": 103,
     "metadata": {},
     "output_type": "execute_result"
    }
   ],
   "source": [
    "list1[4:]"
   ]
  },
  {
   "cell_type": "code",
   "execution_count": 105,
   "id": "2c86aa60-2a22-4ece-9760-dc1a1549e3dd",
   "metadata": {},
   "outputs": [
    {
     "data": {
      "text/plain": [
       "['python', 'sql']"
      ]
     },
     "execution_count": 105,
     "metadata": {},
     "output_type": "execute_result"
    }
   ],
   "source": [
    "list1[4:6]"
   ]
  },
  {
   "cell_type": "code",
   "execution_count": 106,
   "id": "5cb7659c-721b-4742-85fa-cc538d4d5895",
   "metadata": {},
   "outputs": [
    {
     "data": {
      "text/plain": [
       "['python', 'sql']"
      ]
     },
     "execution_count": 106,
     "metadata": {},
     "output_type": "execute_result"
    }
   ],
   "source": [
    "list1[-2:]"
   ]
  },
  {
   "cell_type": "code",
   "execution_count": 107,
   "id": "d8ac4bb3-aea0-45d7-a23e-97134c1d99da",
   "metadata": {},
   "outputs": [
    {
     "data": {
      "text/plain": [
       "[12, 25, 12.87, True]"
      ]
     },
     "execution_count": 107,
     "metadata": {},
     "output_type": "execute_result"
    }
   ],
   "source": [
    "list1[:-2]"
   ]
  },
  {
   "cell_type": "code",
   "execution_count": 109,
   "id": "159551d3-9de2-4eae-b748-ca21c178da01",
   "metadata": {},
   "outputs": [
    {
     "data": {
      "text/plain": [
       "['Python', 25, [31, 21.8, False]]"
      ]
     },
     "execution_count": 109,
     "metadata": {},
     "output_type": "execute_result"
    }
   ],
   "source": [
    "### nested list\n",
    "list2=[\"Python\",25,[31,21.8,False]]\n",
    "list2"
   ]
  },
  {
   "cell_type": "code",
   "execution_count": 110,
   "id": "40331004-ad80-422f-ac3a-24a39ad96ed6",
   "metadata": {},
   "outputs": [
    {
     "data": {
      "text/plain": [
       "list"
      ]
     },
     "execution_count": 110,
     "metadata": {},
     "output_type": "execute_result"
    }
   ],
   "source": [
    "type(list2)"
   ]
  },
  {
   "cell_type": "code",
   "execution_count": 111,
   "id": "6211a990-2345-4bb3-b558-7e146ffe97b4",
   "metadata": {},
   "outputs": [
    {
     "data": {
      "text/plain": [
       "6"
      ]
     },
     "execution_count": 111,
     "metadata": {},
     "output_type": "execute_result"
    }
   ],
   "source": [
    "len(list1)"
   ]
  },
  {
   "cell_type": "code",
   "execution_count": 112,
   "id": "16f56b6c-1101-4a92-ae27-cfe4f5db016f",
   "metadata": {},
   "outputs": [
    {
     "data": {
      "text/plain": [
       "3"
      ]
     },
     "execution_count": 112,
     "metadata": {},
     "output_type": "execute_result"
    }
   ],
   "source": [
    "len(list2)"
   ]
  },
  {
   "cell_type": "code",
   "execution_count": 114,
   "id": "ef0ff336-9671-4c76-95ee-471eff874236",
   "metadata": {},
   "outputs": [
    {
     "data": {
      "text/plain": [
       "31"
      ]
     },
     "execution_count": 114,
     "metadata": {},
     "output_type": "execute_result"
    }
   ],
   "source": [
    "list2[2][0]"
   ]
  },
  {
   "cell_type": "code",
   "execution_count": 115,
   "id": "3bdc488a-f791-44c6-b24a-ae5998ca774e",
   "metadata": {},
   "outputs": [
    {
     "data": {
      "text/plain": [
       "False"
      ]
     },
     "execution_count": 115,
     "metadata": {},
     "output_type": "execute_result"
    }
   ],
   "source": [
    "list2[-1][-1]"
   ]
  },
  {
   "cell_type": "code",
   "execution_count": 116,
   "id": "48d4639f-bacd-430b-8cc5-36ad6f74fcc3",
   "metadata": {},
   "outputs": [
    {
     "ename": "AttributeError",
     "evalue": "'list' object has no attribute 'add'",
     "output_type": "error",
     "traceback": [
      "\u001b[1;31m---------------------------------------------------------------------------\u001b[0m",
      "\u001b[1;31mAttributeError\u001b[0m                            Traceback (most recent call last)",
      "Cell \u001b[1;32mIn[116], line 1\u001b[0m\n\u001b[1;32m----> 1\u001b[0m list2\u001b[38;5;241m.\u001b[39madd(\u001b[38;5;241m10\u001b[39m)\n",
      "\u001b[1;31mAttributeError\u001b[0m: 'list' object has no attribute 'add'"
     ]
    }
   ],
   "source": [
    "list2.add(10)"
   ]
  },
  {
   "cell_type": "code",
   "execution_count": 117,
   "id": "65e46146-63ad-4140-b470-983c6e4637f0",
   "metadata": {},
   "outputs": [],
   "source": [
    "list2.append(10)"
   ]
  },
  {
   "cell_type": "code",
   "execution_count": 118,
   "id": "f6c94bc7-cd7f-41b1-aa49-ee3f5a78016b",
   "metadata": {},
   "outputs": [
    {
     "data": {
      "text/plain": [
       "['Python', 25, [31, 21.8, False], 10]"
      ]
     },
     "execution_count": 118,
     "metadata": {},
     "output_type": "execute_result"
    }
   ],
   "source": [
    "list2"
   ]
  },
  {
   "cell_type": "code",
   "execution_count": 119,
   "id": "d569a434-7ba5-4e58-98e0-4fce8cf3dd7d",
   "metadata": {},
   "outputs": [],
   "source": [
    "list2.append(1)"
   ]
  },
  {
   "cell_type": "code",
   "execution_count": 120,
   "id": "3a7e434d-17bb-402b-b2d2-2525b35fb310",
   "metadata": {},
   "outputs": [
    {
     "data": {
      "text/plain": [
       "['Python', 25, [31, 21.8, False], 10, 1]"
      ]
     },
     "execution_count": 120,
     "metadata": {},
     "output_type": "execute_result"
    }
   ],
   "source": [
    "list2"
   ]
  },
  {
   "cell_type": "code",
   "execution_count": 122,
   "id": "105c8ffc-e899-46e2-8366-7607d90f9390",
   "metadata": {},
   "outputs": [],
   "source": [
    "list2.insert(2,22.7)"
   ]
  },
  {
   "cell_type": "code",
   "execution_count": 123,
   "id": "7c55fe67-b34b-414a-872a-735775206959",
   "metadata": {},
   "outputs": [
    {
     "data": {
      "text/plain": [
       "['Python', 25, 22.7, [31, 21.8, False], 10, 1]"
      ]
     },
     "execution_count": 123,
     "metadata": {},
     "output_type": "execute_result"
    }
   ],
   "source": [
    "list2"
   ]
  },
  {
   "cell_type": "code",
   "execution_count": 125,
   "id": "8426ebbe-829e-4727-9bf0-25a195886a73",
   "metadata": {},
   "outputs": [],
   "source": [
    "list2.remove(10)"
   ]
  },
  {
   "cell_type": "code",
   "execution_count": 126,
   "id": "159459c9-8373-421a-90be-c6fae4d7f166",
   "metadata": {},
   "outputs": [
    {
     "data": {
      "text/plain": [
       "['Python', 25, 22.7, [31, 21.8, False], 1]"
      ]
     },
     "execution_count": 126,
     "metadata": {},
     "output_type": "execute_result"
    }
   ],
   "source": [
    "list2"
   ]
  },
  {
   "cell_type": "code",
   "execution_count": 127,
   "id": "b1a4bf50-010e-4992-9fb7-2396d3030aa8",
   "metadata": {},
   "outputs": [
    {
     "data": {
      "text/plain": [
       "1"
      ]
     },
     "execution_count": 127,
     "metadata": {},
     "output_type": "execute_result"
    }
   ],
   "source": [
    "list2.pop()"
   ]
  },
  {
   "cell_type": "code",
   "execution_count": 128,
   "id": "1e82ead0-d17c-4d1a-b1d9-9afcf7949467",
   "metadata": {},
   "outputs": [
    {
     "data": {
      "text/plain": [
       "['Python', 25, 22.7, [31, 21.8, False]]"
      ]
     },
     "execution_count": 128,
     "metadata": {},
     "output_type": "execute_result"
    }
   ],
   "source": [
    "list2"
   ]
  },
  {
   "cell_type": "code",
   "execution_count": 129,
   "id": "b0d9370c-778a-485b-ad96-113a44636a59",
   "metadata": {},
   "outputs": [
    {
     "data": {
      "text/plain": [
       "['Python', 25, 22.7]"
      ]
     },
     "execution_count": 129,
     "metadata": {},
     "output_type": "execute_result"
    }
   ],
   "source": [
    "list2.pop()\n",
    "list2"
   ]
  },
  {
   "cell_type": "code",
   "execution_count": 130,
   "id": "94400791-db4e-44cc-b7ed-463bf8e76bd6",
   "metadata": {},
   "outputs": [
    {
     "data": {
      "text/plain": [
       "22.7"
      ]
     },
     "execution_count": 130,
     "metadata": {},
     "output_type": "execute_result"
    }
   ],
   "source": [
    "### list2.remove(22.7)\n",
    "list2.pop(2)"
   ]
  },
  {
   "cell_type": "code",
   "execution_count": 131,
   "id": "217e2fea-930a-4e45-b7c5-ac306a55d8fb",
   "metadata": {},
   "outputs": [
    {
     "data": {
      "text/plain": [
       "['Python', 25]"
      ]
     },
     "execution_count": 131,
     "metadata": {},
     "output_type": "execute_result"
    }
   ],
   "source": [
    "list2"
   ]
  },
  {
   "cell_type": "code",
   "execution_count": 132,
   "id": "495c4a7c-d3f2-47e6-9bac-3a690ad6d1d5",
   "metadata": {},
   "outputs": [
    {
     "data": {
      "text/plain": [
       "[12, 25, 12.87, True, 'python', 'sql']"
      ]
     },
     "execution_count": 132,
     "metadata": {},
     "output_type": "execute_result"
    }
   ],
   "source": [
    "list1"
   ]
  },
  {
   "cell_type": "code",
   "execution_count": 133,
   "id": "0af8301f-2c1b-42f8-a1ed-6e9998d3b916",
   "metadata": {},
   "outputs": [],
   "source": [
    "list1[0]=13"
   ]
  },
  {
   "cell_type": "code",
   "execution_count": 134,
   "id": "c78ad3c6-c7ad-47f4-a64b-2127a6009e65",
   "metadata": {},
   "outputs": [
    {
     "data": {
      "text/plain": [
       "[13, 25, 12.87, True, 'python', 'sql']"
      ]
     },
     "execution_count": 134,
     "metadata": {},
     "output_type": "execute_result"
    }
   ],
   "source": [
    "list1"
   ]
  },
  {
   "cell_type": "code",
   "execution_count": 135,
   "id": "e7a176a0-19a0-4c79-94d5-c71a9696230f",
   "metadata": {},
   "outputs": [],
   "source": [
    "del list2"
   ]
  },
  {
   "cell_type": "code",
   "execution_count": 136,
   "id": "1b9aba61-de53-4446-8f5d-7bacd5b108e7",
   "metadata": {},
   "outputs": [
    {
     "ename": "NameError",
     "evalue": "name 'list2' is not defined",
     "output_type": "error",
     "traceback": [
      "\u001b[1;31m---------------------------------------------------------------------------\u001b[0m",
      "\u001b[1;31mNameError\u001b[0m                                 Traceback (most recent call last)",
      "Cell \u001b[1;32mIn[136], line 1\u001b[0m\n\u001b[1;32m----> 1\u001b[0m list2\n",
      "\u001b[1;31mNameError\u001b[0m: name 'list2' is not defined"
     ]
    }
   ],
   "source": [
    "list2"
   ]
  },
  {
   "cell_type": "code",
   "execution_count": 137,
   "id": "3267cd28-7e39-486d-bf6d-1ef44b7905f9",
   "metadata": {},
   "outputs": [
    {
     "data": {
      "text/plain": [
       "[13, 25, 12.87, True, 'python', 'sql']"
      ]
     },
     "execution_count": 137,
     "metadata": {},
     "output_type": "execute_result"
    }
   ],
   "source": [
    "list1"
   ]
  },
  {
   "cell_type": "code",
   "execution_count": 138,
   "id": "4d52290b-11de-408e-ab9b-33c3750d04da",
   "metadata": {},
   "outputs": [
    {
     "data": {
      "text/plain": [
       "[13, 25, 12.87, True, 'python', 'sql']"
      ]
     },
     "execution_count": 138,
     "metadata": {},
     "output_type": "execute_result"
    }
   ],
   "source": [
    "list3=list1.copy()\n",
    "list3"
   ]
  },
  {
   "cell_type": "code",
   "execution_count": 140,
   "id": "08904f57-6edd-433b-a4b5-f519c2856cec",
   "metadata": {},
   "outputs": [],
   "source": [
    "list4=list1+list3"
   ]
  },
  {
   "cell_type": "code",
   "execution_count": 141,
   "id": "2e23a8f0-c792-4356-b0df-a30aabfa06af",
   "metadata": {},
   "outputs": [
    {
     "data": {
      "text/plain": [
       "[13, 25, 12.87, True, 'python', 'sql', 13, 25, 12.87, True, 'python', 'sql']"
      ]
     },
     "execution_count": 141,
     "metadata": {},
     "output_type": "execute_result"
    }
   ],
   "source": [
    "list4"
   ]
  },
  {
   "cell_type": "code",
   "execution_count": 147,
   "id": "c37563ba-0b48-4016-a3ff-280d7ad0727f",
   "metadata": {},
   "outputs": [],
   "source": [
    "list1.extend(list3)"
   ]
  },
  {
   "cell_type": "code",
   "execution_count": 153,
   "id": "9ba18b92-1289-4de4-aefa-e066d177b4fc",
   "metadata": {},
   "outputs": [
    {
     "data": {
      "text/plain": [
       "[13,\n",
       " 25,\n",
       " 12.87,\n",
       " True,\n",
       " 'python',\n",
       " 'sql',\n",
       " 13,\n",
       " 25,\n",
       " 12.87,\n",
       " True,\n",
       " 'python',\n",
       " 'sql',\n",
       " 13,\n",
       " 25,\n",
       " 12.87,\n",
       " True,\n",
       " 'python',\n",
       " 'sql',\n",
       " 13,\n",
       " 25,\n",
       " 12.87,\n",
       " True,\n",
       " 'python',\n",
       " 'sql',\n",
       " 13,\n",
       " 25,\n",
       " 12.87,\n",
       " True,\n",
       " 'python',\n",
       " 'sql']"
      ]
     },
     "execution_count": 153,
     "metadata": {},
     "output_type": "execute_result"
    }
   ],
   "source": [
    "list1"
   ]
  },
  {
   "cell_type": "code",
   "execution_count": 149,
   "id": "f9713155-0da5-4018-b3ab-a2d3ffe37452",
   "metadata": {},
   "outputs": [
    {
     "data": {
      "text/plain": [
       "True"
      ]
     },
     "execution_count": 149,
     "metadata": {},
     "output_type": "execute_result"
    }
   ],
   "source": [
    "\"python\" in list1"
   ]
  },
  {
   "cell_type": "code",
   "execution_count": 151,
   "id": "a67db084-105a-4a0b-afa0-454055de7cf7",
   "metadata": {},
   "outputs": [
    {
     "data": {
      "text/plain": [
       "False"
      ]
     },
     "execution_count": 151,
     "metadata": {},
     "output_type": "execute_result"
    }
   ],
   "source": [
    "\"one\" in list1"
   ]
  },
  {
   "cell_type": "code",
   "execution_count": 152,
   "id": "c7b9a7d4-149a-4197-aa64-25c75b346ba7",
   "metadata": {},
   "outputs": [
    {
     "name": "stdout",
     "output_type": "stream",
     "text": [
      "There is python in the list\n"
     ]
    }
   ],
   "source": [
    "if \"python\" in list1:\n",
    "    print(\"There is python in the list\")\n",
    "else:\n",
    "    print(\"There is no python word in the list\")"
   ]
  },
  {
   "cell_type": "code",
   "execution_count": 154,
   "id": "c1e5a137-3cd5-4777-ab47-5a212c292303",
   "metadata": {},
   "outputs": [
    {
     "data": {
      "text/plain": [
       "[13,\n",
       " 25,\n",
       " 12.87,\n",
       " True,\n",
       " 'python',\n",
       " 'sql',\n",
       " 13,\n",
       " 25,\n",
       " 12.87,\n",
       " True,\n",
       " 'python',\n",
       " 'sql',\n",
       " 13,\n",
       " 25,\n",
       " 12.87,\n",
       " True,\n",
       " 'python',\n",
       " 'sql',\n",
       " 13,\n",
       " 25,\n",
       " 12.87,\n",
       " True,\n",
       " 'python',\n",
       " 'sql',\n",
       " 13,\n",
       " 25,\n",
       " 12.87,\n",
       " True,\n",
       " 'python',\n",
       " 'sql']"
      ]
     },
     "execution_count": 154,
     "metadata": {},
     "output_type": "execute_result"
    }
   ],
   "source": [
    "list1"
   ]
  },
  {
   "cell_type": "code",
   "execution_count": 155,
   "id": "da817cab-caa2-48c2-a2ef-da8f280f34c0",
   "metadata": {},
   "outputs": [
    {
     "data": {
      "text/plain": [
       "[10, 20, 30, 21, 41, 79]"
      ]
     },
     "execution_count": 155,
     "metadata": {},
     "output_type": "execute_result"
    }
   ],
   "source": [
    "### Reverse this list\n",
    "list1=[10,20,30,21,41,79]\n",
    "list1"
   ]
  },
  {
   "cell_type": "code",
   "execution_count": 156,
   "id": "54328303-f82e-4a05-a9be-22062851ec35",
   "metadata": {},
   "outputs": [],
   "source": [
    "list1.reverse()"
   ]
  },
  {
   "cell_type": "code",
   "execution_count": 157,
   "id": "ddc5f00f-e364-4ea7-85d6-7b95fd3a4525",
   "metadata": {},
   "outputs": [
    {
     "data": {
      "text/plain": [
       "[79, 41, 21, 30, 20, 10]"
      ]
     },
     "execution_count": 157,
     "metadata": {},
     "output_type": "execute_result"
    }
   ],
   "source": [
    "list1"
   ]
  },
  {
   "cell_type": "code",
   "execution_count": 158,
   "id": "06186d51-ef5d-4748-8aa8-de77dd67c28b",
   "metadata": {},
   "outputs": [],
   "source": [
    "list1.sort()"
   ]
  },
  {
   "cell_type": "code",
   "execution_count": 159,
   "id": "01d49ba3-c791-48b7-a716-a079145c5dcd",
   "metadata": {},
   "outputs": [
    {
     "data": {
      "text/plain": [
       "[10, 20, 21, 30, 41, 79]"
      ]
     },
     "execution_count": 159,
     "metadata": {},
     "output_type": "execute_result"
    }
   ],
   "source": [
    "list1"
   ]
  },
  {
   "cell_type": "code",
   "execution_count": 160,
   "id": "3640a101-cb4a-459c-8ca1-4b34277db0f9",
   "metadata": {},
   "outputs": [],
   "source": [
    "list1.sort(reverse=True)"
   ]
  },
  {
   "cell_type": "code",
   "execution_count": 161,
   "id": "3f61677c-76d5-46c7-8418-563edd2ee8fa",
   "metadata": {},
   "outputs": [
    {
     "data": {
      "text/plain": [
       "[79, 41, 30, 21, 20, 10]"
      ]
     },
     "execution_count": 161,
     "metadata": {},
     "output_type": "execute_result"
    }
   ],
   "source": [
    "list1"
   ]
  },
  {
   "cell_type": "code",
   "execution_count": 162,
   "id": "03b0ac95-670d-45f7-8a37-77c4a4577f5a",
   "metadata": {},
   "outputs": [
    {
     "data": {
      "text/plain": [
       "[79, 41, 30, 21, 20, 10]"
      ]
     },
     "execution_count": 162,
     "metadata": {},
     "output_type": "execute_result"
    }
   ],
   "source": [
    "list1"
   ]
  },
  {
   "cell_type": "code",
   "execution_count": 163,
   "id": "9a6054b8-f98a-42f1-ad02-59630b02b059",
   "metadata": {},
   "outputs": [
    {
     "data": {
      "text/plain": [
       "[10, 20, 21, 30, 41, 79]"
      ]
     },
     "execution_count": 163,
     "metadata": {},
     "output_type": "execute_result"
    }
   ],
   "source": [
    "list1[::-1] #reverse the list"
   ]
  },
  {
   "cell_type": "code",
   "execution_count": 164,
   "id": "c784d8d4-1564-4b66-ac6d-f3cf981ce18b",
   "metadata": {},
   "outputs": [
    {
     "name": "stdout",
     "output_type": "stream",
     "text": [
      "79\n",
      "41\n",
      "30\n",
      "21\n",
      "20\n",
      "10\n"
     ]
    }
   ],
   "source": [
    "for i in list1:\n",
    "    print(i)"
   ]
  },
  {
   "cell_type": "code",
   "execution_count": 165,
   "id": "c48614da-f2e1-424b-baa1-0ee12550dacc",
   "metadata": {},
   "outputs": [
    {
     "data": {
      "text/plain": [
       "1"
      ]
     },
     "execution_count": 165,
     "metadata": {},
     "output_type": "execute_result"
    }
   ],
   "source": [
    "list1.count(10)"
   ]
  },
  {
   "cell_type": "code",
   "execution_count": 166,
   "id": "cb909dd5-8ed5-4212-a513-f2d80bc7d1bf",
   "metadata": {},
   "outputs": [],
   "source": [
    "list3=[10,20,30,21,41,79,\"Python\",\"pyspark\"]"
   ]
  },
  {
   "cell_type": "code",
   "execution_count": 167,
   "id": "fe88d678-1034-4d8a-90e7-f1b861a1e88b",
   "metadata": {},
   "outputs": [
    {
     "ename": "TypeError",
     "evalue": "'<' not supported between instances of 'str' and 'int'",
     "output_type": "error",
     "traceback": [
      "\u001b[1;31m---------------------------------------------------------------------------\u001b[0m",
      "\u001b[1;31mTypeError\u001b[0m                                 Traceback (most recent call last)",
      "Cell \u001b[1;32mIn[167], line 1\u001b[0m\n\u001b[1;32m----> 1\u001b[0m list3\u001b[38;5;241m.\u001b[39msort()\n",
      "\u001b[1;31mTypeError\u001b[0m: '<' not supported between instances of 'str' and 'int'"
     ]
    }
   ],
   "source": [
    "list3.sort()"
   ]
  },
  {
   "cell_type": "code",
   "execution_count": 168,
   "id": "62c25480-88ff-4fee-8502-fa62b36209a8",
   "metadata": {},
   "outputs": [],
   "source": [
    "list4=[\"sql\",\"java\",\"Python\",\"pyspark\"]\n",
    "list4.sort()"
   ]
  },
  {
   "cell_type": "code",
   "execution_count": 169,
   "id": "3ac96579-8e8f-4d97-a7c1-ab755fd25e5c",
   "metadata": {},
   "outputs": [
    {
     "data": {
      "text/plain": [
       "['Python', 'java', 'pyspark', 'sql']"
      ]
     },
     "execution_count": 169,
     "metadata": {},
     "output_type": "execute_result"
    }
   ],
   "source": [
    "list4"
   ]
  },
  {
   "cell_type": "markdown",
   "id": "3db526d8-a0e9-479e-921b-95dc24f4f4ac",
   "metadata": {},
   "source": [
    "### Tuple"
   ]
  },
  {
   "cell_type": "code",
   "execution_count": null,
   "id": "08e34ff9-4fa2-4a38-ba1b-03490a5dc1aa",
   "metadata": {},
   "outputs": [],
   "source": [
    "#### Paranthesis or without any brackets\n",
    "#### immutable\n",
    "#### heterogenous\n",
    "#### retrieve it using index"
   ]
  },
  {
   "cell_type": "code",
   "execution_count": 182,
   "id": "527b5c0c-9e52-4026-862b-d4cfd334eca0",
   "metadata": {},
   "outputs": [
    {
     "data": {
      "text/plain": [
       "(10, 29, 52, 26.8)"
      ]
     },
     "execution_count": 182,
     "metadata": {},
     "output_type": "execute_result"
    }
   ],
   "source": [
    "tuple1=(10,29,52,26.8)\n",
    "tuple1"
   ]
  },
  {
   "cell_type": "code",
   "execution_count": 171,
   "id": "44473398-0968-4400-bcec-1491758afee4",
   "metadata": {},
   "outputs": [
    {
     "data": {
      "text/plain": [
       "tuple"
      ]
     },
     "execution_count": 171,
     "metadata": {},
     "output_type": "execute_result"
    }
   ],
   "source": [
    "type(tuple1)"
   ]
  },
  {
   "cell_type": "code",
   "execution_count": 172,
   "id": "93be97e0-0657-48cd-8056-3589529ca248",
   "metadata": {},
   "outputs": [
    {
     "data": {
      "text/plain": [
       "(10, 29, 52, 26.8)"
      ]
     },
     "execution_count": 172,
     "metadata": {},
     "output_type": "execute_result"
    }
   ],
   "source": [
    "tuple2=10,29,52,26.8\n",
    "tuple2"
   ]
  },
  {
   "cell_type": "code",
   "execution_count": 173,
   "id": "a2be7b0b-3b60-4a48-9f45-e01b5fa1f7e5",
   "metadata": {},
   "outputs": [
    {
     "data": {
      "text/plain": [
       "tuple"
      ]
     },
     "execution_count": 173,
     "metadata": {},
     "output_type": "execute_result"
    }
   ],
   "source": [
    "type(tuple2)"
   ]
  },
  {
   "cell_type": "code",
   "execution_count": 174,
   "id": "978a76e3-5b3e-4fa3-b490-71af9a3bb2c1",
   "metadata": {},
   "outputs": [
    {
     "data": {
      "text/plain": [
       "10"
      ]
     },
     "execution_count": 174,
     "metadata": {},
     "output_type": "execute_result"
    }
   ],
   "source": [
    "tuple2[0]"
   ]
  },
  {
   "cell_type": "code",
   "execution_count": 175,
   "id": "3281f768-ca08-416d-8d37-21101fe996b3",
   "metadata": {},
   "outputs": [
    {
     "data": {
      "text/plain": [
       "(10, 29)"
      ]
     },
     "execution_count": 175,
     "metadata": {},
     "output_type": "execute_result"
    }
   ],
   "source": [
    "tuple2[0:2]"
   ]
  },
  {
   "cell_type": "code",
   "execution_count": 176,
   "id": "a7166851-3bfb-4e34-bde7-22077a42b2ad",
   "metadata": {},
   "outputs": [
    {
     "data": {
      "text/plain": [
       "True"
      ]
     },
     "execution_count": 176,
     "metadata": {},
     "output_type": "execute_result"
    }
   ],
   "source": [
    "10 in tuple1\n"
   ]
  },
  {
   "cell_type": "code",
   "execution_count": 177,
   "id": "646975db-efe4-4cf8-a17f-1a50bf3903a5",
   "metadata": {},
   "outputs": [
    {
     "ename": "AttributeError",
     "evalue": "'tuple' object has no attribute 'reverse'",
     "output_type": "error",
     "traceback": [
      "\u001b[1;31m---------------------------------------------------------------------------\u001b[0m",
      "\u001b[1;31mAttributeError\u001b[0m                            Traceback (most recent call last)",
      "Cell \u001b[1;32mIn[177], line 1\u001b[0m\n\u001b[1;32m----> 1\u001b[0m tuple1\u001b[38;5;241m.\u001b[39mreverse()\n",
      "\u001b[1;31mAttributeError\u001b[0m: 'tuple' object has no attribute 'reverse'"
     ]
    }
   ],
   "source": [
    "tuple1.reverse()"
   ]
  },
  {
   "cell_type": "code",
   "execution_count": 178,
   "id": "bd7eded8-83cc-4f5e-9e69-45503f01f1da",
   "metadata": {},
   "outputs": [
    {
     "ename": "AttributeError",
     "evalue": "'tuple' object has no attribute 'sort'",
     "output_type": "error",
     "traceback": [
      "\u001b[1;31m---------------------------------------------------------------------------\u001b[0m",
      "\u001b[1;31mAttributeError\u001b[0m                            Traceback (most recent call last)",
      "Cell \u001b[1;32mIn[178], line 1\u001b[0m\n\u001b[1;32m----> 1\u001b[0m tuple1\u001b[38;5;241m.\u001b[39msort()\n",
      "\u001b[1;31mAttributeError\u001b[0m: 'tuple' object has no attribute 'sort'"
     ]
    }
   ],
   "source": [
    "tuple1.sort()"
   ]
  },
  {
   "cell_type": "code",
   "execution_count": 179,
   "id": "36657ec3-ad7a-4bb7-abbb-07022df66ec7",
   "metadata": {},
   "outputs": [
    {
     "ename": "AttributeError",
     "evalue": "'tuple' object has no attribute 'sort'",
     "output_type": "error",
     "traceback": [
      "\u001b[1;31m---------------------------------------------------------------------------\u001b[0m",
      "\u001b[1;31mAttributeError\u001b[0m                            Traceback (most recent call last)",
      "Cell \u001b[1;32mIn[179], line 1\u001b[0m\n\u001b[1;32m----> 1\u001b[0m tuple1\u001b[38;5;241m.\u001b[39msort(reverse\u001b[38;5;241m=\u001b[39m\u001b[38;5;28;01mTrue\u001b[39;00m)\n",
      "\u001b[1;31mAttributeError\u001b[0m: 'tuple' object has no attribute 'sort'"
     ]
    }
   ],
   "source": [
    "tuple1.sort(reverse=True)"
   ]
  },
  {
   "cell_type": "code",
   "execution_count": 180,
   "id": "e007914a-eb82-4221-af68-39ef23b169c7",
   "metadata": {},
   "outputs": [],
   "source": [
    "del tuple1"
   ]
  },
  {
   "cell_type": "code",
   "execution_count": 181,
   "id": "75699edb-aa52-48bc-bb2f-d7423d25f0a2",
   "metadata": {},
   "outputs": [
    {
     "ename": "NameError",
     "evalue": "name 'tuple1' is not defined",
     "output_type": "error",
     "traceback": [
      "\u001b[1;31m---------------------------------------------------------------------------\u001b[0m",
      "\u001b[1;31mNameError\u001b[0m                                 Traceback (most recent call last)",
      "Cell \u001b[1;32mIn[181], line 1\u001b[0m\n\u001b[1;32m----> 1\u001b[0m tuple1\n",
      "\u001b[1;31mNameError\u001b[0m: name 'tuple1' is not defined"
     ]
    }
   ],
   "source": [
    "tuple1"
   ]
  },
  {
   "cell_type": "code",
   "execution_count": 183,
   "id": "6bfbc29d-6251-4e85-b899-4c22ed1182d5",
   "metadata": {},
   "outputs": [
    {
     "ename": "TypeError",
     "evalue": "'tuple' object does not support item assignment",
     "output_type": "error",
     "traceback": [
      "\u001b[1;31m---------------------------------------------------------------------------\u001b[0m",
      "\u001b[1;31mTypeError\u001b[0m                                 Traceback (most recent call last)",
      "Cell \u001b[1;32mIn[183], line 1\u001b[0m\n\u001b[1;32m----> 1\u001b[0m tuple1[\u001b[38;5;241m0\u001b[39m]\u001b[38;5;241m=\u001b[39m\u001b[38;5;241m100\u001b[39m\n",
      "\u001b[1;31mTypeError\u001b[0m: 'tuple' object does not support item assignment"
     ]
    }
   ],
   "source": [
    "tuple1[0]=100"
   ]
  },
  {
   "cell_type": "code",
   "execution_count": 185,
   "id": "577c7f7d-8759-4d88-94e1-9dc5e1a66282",
   "metadata": {},
   "outputs": [
    {
     "name": "stdout",
     "output_type": "stream",
     "text": [
      "10\n",
      "29\n",
      "52\n",
      "26.8\n"
     ]
    }
   ],
   "source": [
    "for i in tuple1:\n",
    "    print (i)"
   ]
  },
  {
   "cell_type": "code",
   "execution_count": 186,
   "id": "5f04698b-e9c3-4545-8f1f-53c84f6126b9",
   "metadata": {},
   "outputs": [
    {
     "data": {
      "text/plain": [
       "1"
      ]
     },
     "execution_count": 186,
     "metadata": {},
     "output_type": "execute_result"
    }
   ],
   "source": [
    "tuple1.count(10)"
   ]
  },
  {
   "cell_type": "code",
   "execution_count": 187,
   "id": "455fa69a-f63d-4f99-b311-1ec22f857324",
   "metadata": {},
   "outputs": [
    {
     "data": {
      "text/plain": [
       "0"
      ]
     },
     "execution_count": 187,
     "metadata": {},
     "output_type": "execute_result"
    }
   ],
   "source": [
    "tuple1.index(10)"
   ]
  },
  {
   "cell_type": "code",
   "execution_count": 188,
   "id": "6ecf64cb-fe92-4116-90a5-039969b43d17",
   "metadata": {},
   "outputs": [
    {
     "data": {
      "text/plain": [
       "[10, 29, 52, 26.8]"
      ]
     },
     "execution_count": 188,
     "metadata": {},
     "output_type": "execute_result"
    }
   ],
   "source": [
    "sample=list(tuple1)\n",
    "sample"
   ]
  },
  {
   "cell_type": "code",
   "execution_count": 189,
   "id": "13abb5f0-f3c6-45dc-8981-565317d38324",
   "metadata": {},
   "outputs": [
    {
     "data": {
      "text/plain": [
       "(10, 29, 52, 26.8)"
      ]
     },
     "execution_count": 189,
     "metadata": {},
     "output_type": "execute_result"
    }
   ],
   "source": [
    "sample1=tuple(sample)\n",
    "sample1"
   ]
  },
  {
   "cell_type": "code",
   "execution_count": null,
   "id": "f520db8a-2259-42ea-b17b-3dfac20ce0ef",
   "metadata": {},
   "outputs": [],
   "source": [
    "### Self-Assessment1: https://github.com/Premalatha-success/syn_python_jan_25/blob/main/string_exercise.docx\n"
   ]
  },
  {
   "cell_type": "code",
   "execution_count": null,
   "id": "35ac202f-623c-4522-a651-9ca37b1faee8",
   "metadata": {},
   "outputs": [],
   "source": [
    "o\tWrite a Python code to check if the word \"learn\" is in the sentence \"Let's all learn Python!\".\n",
    "o\tConvert the string \"hello world\" to uppercase.\n",
    "o\tConcatenate two strings: \"Data\" and \"Analysis\".\n",
    "o\tReplace all occurrences of \"a\" with \"@\" in the string \"DataAnalytics\".\n",
    "o\tWrite a Python code to reverse the string \"Python\".\n",
    "o\tCount how many times the letter \"e\" appears in the string \"Experience\".\n",
    "o\tSplit the string \"Learn,Analyze,Build\" into a list of words.\n",
    "o\tCreate a string variable with your full name.\n",
    "o\tWhat is the length of the string \"PythonProgramming\"?\n",
    "o\tHow would you extract the first three characters of the string \"DataScience\"?\n"
   ]
  },
  {
   "cell_type": "markdown",
   "id": "b5b7bb34-bd17-4d9f-b16d-4166301fca04",
   "metadata": {},
   "source": [
    "### Dictionary"
   ]
  },
  {
   "cell_type": "code",
   "execution_count": null,
   "id": "58bce92c-7645-4580-8cd5-08a04f5ea326",
   "metadata": {},
   "outputs": [],
   "source": [
    "mylist=[\"one\",\"two\",\"three\",1,2,3]"
   ]
  },
  {
   "cell_type": "code",
   "execution_count": null,
   "id": "c706bb30-2f80-46d8-830c-8fbbf1e06c87",
   "metadata": {},
   "outputs": [],
   "source": [
    "mytup=\"one\",\"two\",\"three\",1,2,3"
   ]
  },
  {
   "cell_type": "code",
   "execution_count": 190,
   "id": "f7922cfd-202e-43f6-b4b6-4a4a818e233f",
   "metadata": {},
   "outputs": [],
   "source": [
    "mydict={1:\"one\",2:\"two\",3:\"three\"}"
   ]
  },
  {
   "cell_type": "code",
   "execution_count": null,
   "id": "f2b14acf-63cc-4a49-9c04-ae4c6b34d70e",
   "metadata": {},
   "outputs": [],
   "source": [
    "#### {}\n",
    "#### key-value pairs\n",
    "#### key is unique\n",
    "#### values can be duplicated\n",
    "#### Value can be retrieved using key"
   ]
  },
  {
   "cell_type": "code",
   "execution_count": 191,
   "id": "c4e0b653-eed3-494f-b513-061bd772d56b",
   "metadata": {},
   "outputs": [
    {
     "data": {
      "text/plain": [
       "{1: 'one', 2: 'two', 3: 'three'}"
      ]
     },
     "execution_count": 191,
     "metadata": {},
     "output_type": "execute_result"
    }
   ],
   "source": [
    "mydict"
   ]
  },
  {
   "cell_type": "code",
   "execution_count": 192,
   "id": "9a9bfa99-173d-41b8-9477-30112bb5aa16",
   "metadata": {},
   "outputs": [],
   "source": [
    "mydict={\"one\":\"A\",2:\"two\",3:\"three\"}"
   ]
  },
  {
   "cell_type": "code",
   "execution_count": 193,
   "id": "4b87b421-eb4c-48e2-a53d-90ef0223e6b3",
   "metadata": {},
   "outputs": [
    {
     "data": {
      "text/plain": [
       "dict_keys(['one', 2, 3])"
      ]
     },
     "execution_count": 193,
     "metadata": {},
     "output_type": "execute_result"
    }
   ],
   "source": [
    "mydict.keys()"
   ]
  },
  {
   "cell_type": "code",
   "execution_count": 194,
   "id": "ca398d96-bbd5-4095-97b7-3063bf4d0df4",
   "metadata": {},
   "outputs": [
    {
     "data": {
      "text/plain": [
       "dict_values(['A', 'two', 'three'])"
      ]
     },
     "execution_count": 194,
     "metadata": {},
     "output_type": "execute_result"
    }
   ],
   "source": [
    "mydict.values()"
   ]
  },
  {
   "cell_type": "code",
   "execution_count": 195,
   "id": "717d97b5-8a15-4ac0-8e27-ac05df00d27d",
   "metadata": {},
   "outputs": [
    {
     "data": {
      "text/plain": [
       "dict_items([('one', 'A'), (2, 'two'), (3, 'three')])"
      ]
     },
     "execution_count": 195,
     "metadata": {},
     "output_type": "execute_result"
    }
   ],
   "source": [
    "mydict.items()"
   ]
  },
  {
   "cell_type": "code",
   "execution_count": 198,
   "id": "64164835-37d7-49c4-a848-d52dd571fc90",
   "metadata": {},
   "outputs": [
    {
     "data": {
      "text/plain": [
       "{1: 'one', 2: 'hello', 3: 'news', 4: 'hi', 8: 'one'}"
      ]
     },
     "execution_count": 198,
     "metadata": {},
     "output_type": "execute_result"
    }
   ],
   "source": [
    "mydict1={1:\"one\",2:\"two\",3:\"three\",4:\"hi\",2:\"hello\",3:\"news\",8:\"one\"}\n",
    "mydict1"
   ]
  },
  {
   "cell_type": "code",
   "execution_count": 199,
   "id": "1a11f1ba-6f82-4166-bcc9-5915646ac941",
   "metadata": {},
   "outputs": [
    {
     "ename": "KeyError",
     "evalue": "0",
     "output_type": "error",
     "traceback": [
      "\u001b[1;31m---------------------------------------------------------------------------\u001b[0m",
      "\u001b[1;31mKeyError\u001b[0m                                  Traceback (most recent call last)",
      "Cell \u001b[1;32mIn[199], line 1\u001b[0m\n\u001b[1;32m----> 1\u001b[0m mydict1[\u001b[38;5;241m0\u001b[39m]\n",
      "\u001b[1;31mKeyError\u001b[0m: 0"
     ]
    }
   ],
   "source": [
    "mydict1[0]"
   ]
  },
  {
   "cell_type": "code",
   "execution_count": 200,
   "id": "94d12e80-d704-4852-bd48-f7c4794d5764",
   "metadata": {},
   "outputs": [
    {
     "data": {
      "text/plain": [
       "'one'"
      ]
     },
     "execution_count": 200,
     "metadata": {},
     "output_type": "execute_result"
    }
   ],
   "source": [
    "mydict1[1]"
   ]
  },
  {
   "cell_type": "code",
   "execution_count": 201,
   "id": "efac479f-27e0-4e68-97c7-4e7b67311296",
   "metadata": {},
   "outputs": [
    {
     "data": {
      "text/plain": [
       "'hi'"
      ]
     },
     "execution_count": 201,
     "metadata": {},
     "output_type": "execute_result"
    }
   ],
   "source": [
    "mydict1[4]"
   ]
  },
  {
   "cell_type": "code",
   "execution_count": 202,
   "id": "8f0c648b-8ddf-4361-b85d-df8cdfa4c266",
   "metadata": {},
   "outputs": [
    {
     "data": {
      "text/plain": [
       "{1: 'one',\n",
       " 2: 'two',\n",
       " 'C': ['latha', 'pds', 39, 166000],\n",
       " 4: ('Apple', 'Bat', 'Cat'),\n",
       " 'd': {'Name': 'Prem', 'Age': '42'}}"
      ]
     },
     "execution_count": 202,
     "metadata": {},
     "output_type": "execute_result"
    }
   ],
   "source": [
    "dict={1:\"one\",2:\"two\",\"C\":[\"latha\",\"pds\",39,166000],4:(\"Apple\",\"Bat\",\"Cat\"),\"d\":{\"Name\":\"Prem\",\"Age\":\"42\"}}\n",
    "dict"
   ]
  },
  {
   "cell_type": "code",
   "execution_count": 203,
   "id": "56a46c26-4311-4d54-8442-1526c8f0b504",
   "metadata": {},
   "outputs": [
    {
     "data": {
      "text/plain": [
       "dict_keys([1, 2, 'C', 4, 'd'])"
      ]
     },
     "execution_count": 203,
     "metadata": {},
     "output_type": "execute_result"
    }
   ],
   "source": [
    "dict.keys()"
   ]
  },
  {
   "cell_type": "code",
   "execution_count": 204,
   "id": "ac0ae7d4-4960-46ed-bc25-f1db9e1a9d1f",
   "metadata": {},
   "outputs": [
    {
     "data": {
      "text/plain": [
       "dict_values(['one', 'two', ['latha', 'pds', 39, 166000], ('Apple', 'Bat', 'Cat'), {'Name': 'Prem', 'Age': '42'}])"
      ]
     },
     "execution_count": 204,
     "metadata": {},
     "output_type": "execute_result"
    }
   ],
   "source": [
    "dict.values()"
   ]
  },
  {
   "cell_type": "code",
   "execution_count": 206,
   "id": "46ea1e87-66b5-4a60-b93d-1a734e9b0241",
   "metadata": {},
   "outputs": [
    {
     "data": {
      "text/plain": [
       "dict_items([(1, 'one'), (2, 'two'), ('C', ['latha', 'pds', 39, 166000]), (4, ('Apple', 'Bat', 'Cat')), ('d', {'Name': 'Prem', 'Age': '42'})])"
      ]
     },
     "execution_count": 206,
     "metadata": {},
     "output_type": "execute_result"
    }
   ],
   "source": [
    "dict.items()"
   ]
  },
  {
   "cell_type": "code",
   "execution_count": null,
   "id": "a28326c1-44cd-428e-875c-59e8741f796e",
   "metadata": {},
   "outputs": [],
   "source": [
    "### Adding a simple key-value pair"
   ]
  },
  {
   "cell_type": "code",
   "execution_count": 207,
   "id": "7d659152-47a5-4f8f-a5fa-0740c16b7d70",
   "metadata": {},
   "outputs": [
    {
     "data": {
      "text/plain": [
       "{1: 'one',\n",
       " 2: 'two',\n",
       " 'C': ['latha', 'pds', 39, 166000],\n",
       " 4: ('Apple', 'Bat', 'Cat'),\n",
       " 'd': {'Name': 'Prem', 'Age': '42'},\n",
       " 'DOB': 2014,\n",
       " 'Place': 'Chennai'}"
      ]
     },
     "execution_count": 207,
     "metadata": {},
     "output_type": "execute_result"
    }
   ],
   "source": [
    "dict[\"DOB\"]=2014\n",
    "dict[\"Place\"]=\"Chennai\"\n",
    "dict"
   ]
  },
  {
   "cell_type": "code",
   "execution_count": 208,
   "id": "253672b4-c3fb-4e18-bd82-683031ab525c",
   "metadata": {},
   "outputs": [
    {
     "data": {
      "text/plain": [
       "{1: 'one',\n",
       " 2: 'two',\n",
       " 'C': ['latha', 'pds', 39, 166000],\n",
       " 4: ('Apple', 'Bat', 'Cat'),\n",
       " 'd': {'Name': 'Prem', 'Age': '42'},\n",
       " 'DOB': 2004,\n",
       " 'Place': 'Chennai'}"
      ]
     },
     "execution_count": 208,
     "metadata": {},
     "output_type": "execute_result"
    }
   ],
   "source": [
    "dict1={\"DOB\":2004}\n",
    "dict.update(dict1)\n",
    "dict"
   ]
  },
  {
   "cell_type": "code",
   "execution_count": 209,
   "id": "13c28984-216b-411f-b4b0-0be670f53c9f",
   "metadata": {},
   "outputs": [
    {
     "data": {
      "text/plain": [
       "{1: 'one',\n",
       " 2: 'two',\n",
       " 'C': ['latha', 'pds', 39, 166000],\n",
       " 4: ('Apple', 'Bat', 'Cat'),\n",
       " 'd': {'Name': 'Prem', 'Age': '42'},\n",
       " 'DOB': 2004,\n",
       " 'Place': 'Chennai',\n",
       " 'Job': 'Analyst'}"
      ]
     },
     "execution_count": 209,
     "metadata": {},
     "output_type": "execute_result"
    }
   ],
   "source": [
    "dict[\"Job\"]=\"Analyst\"\n",
    "dict"
   ]
  },
  {
   "cell_type": "code",
   "execution_count": 210,
   "id": "f5e5c0ad-8ba1-48fa-9f40-f082d48e416e",
   "metadata": {},
   "outputs": [
    {
     "data": {
      "text/plain": [
       "2004"
      ]
     },
     "execution_count": 210,
     "metadata": {},
     "output_type": "execute_result"
    }
   ],
   "source": [
    "dict.pop(\"DOB\")"
   ]
  },
  {
   "cell_type": "code",
   "execution_count": 211,
   "id": "922f84b5-1408-4615-be13-a248b98d6398",
   "metadata": {},
   "outputs": [
    {
     "data": {
      "text/plain": [
       "{1: 'one',\n",
       " 2: 'two',\n",
       " 'C': ['latha', 'pds', 39, 166000],\n",
       " 4: ('Apple', 'Bat', 'Cat'),\n",
       " 'd': {'Name': 'Prem', 'Age': '42'},\n",
       " 'Place': 'Chennai',\n",
       " 'Job': 'Analyst'}"
      ]
     },
     "execution_count": 211,
     "metadata": {},
     "output_type": "execute_result"
    }
   ],
   "source": [
    "dict"
   ]
  },
  {
   "cell_type": "code",
   "execution_count": 212,
   "id": "1aafe4d1-4b69-46c9-bd69-5d8c4615f08c",
   "metadata": {},
   "outputs": [],
   "source": [
    "dict1=dict.copy()"
   ]
  },
  {
   "cell_type": "code",
   "execution_count": 213,
   "id": "a6f4162a-eac8-4e3e-8585-505e4918abf8",
   "metadata": {},
   "outputs": [
    {
     "data": {
      "text/plain": [
       "{1: 'one',\n",
       " 2: 'two',\n",
       " 'C': ['latha', 'pds', 39, 166000],\n",
       " 4: ('Apple', 'Bat', 'Cat'),\n",
       " 'd': {'Name': 'Prem', 'Age': '42'},\n",
       " 'Place': 'Chennai',\n",
       " 'Job': 'Analyst'}"
      ]
     },
     "execution_count": 213,
     "metadata": {},
     "output_type": "execute_result"
    }
   ],
   "source": [
    "dict1"
   ]
  },
  {
   "cell_type": "code",
   "execution_count": 216,
   "id": "b6aafb8f-5b9e-41b4-9142-44d0e19aec3c",
   "metadata": {},
   "outputs": [
    {
     "name": "stdout",
     "output_type": "stream",
     "text": [
      "1 : one\n",
      "2 : two\n",
      "C : ['latha', 'pds', 39, 166000]\n",
      "4 : ('Apple', 'Bat', 'Cat')\n",
      "d : {'Name': 'Prem', 'Age': '42'}\n",
      "Place : Chennai\n",
      "Job : Analyst\n"
     ]
    }
   ],
   "source": [
    "### Looping\n",
    "for i in dict1:\n",
    "    print (i,\":\",dict1[i])"
   ]
  },
  {
   "cell_type": "code",
   "execution_count": 217,
   "id": "eb0bdb03-e606-4bc1-a05e-4e9a18701e8c",
   "metadata": {},
   "outputs": [
    {
     "data": {
      "text/plain": [
       "True"
      ]
     },
     "execution_count": 217,
     "metadata": {},
     "output_type": "execute_result"
    }
   ],
   "source": [
    "\"Place\" in dict1"
   ]
  },
  {
   "cell_type": "code",
   "execution_count": null,
   "id": "32d65f5d-e952-4e5a-939a-659ddc2ee83a",
   "metadata": {},
   "outputs": [],
   "source": [
    "Self-Assessment 2"
   ]
  },
  {
   "cell_type": "code",
   "execution_count": null,
   "id": "22c78863-ccfa-4530-b91f-9f852d53c5a4",
   "metadata": {},
   "outputs": [],
   "source": [
    "1.\tCreate a list of five numbers.\n",
    "2.\tHow would you append the number 6 to the list [1, 2, 3, 4, 5]?\n",
    "3.\tHow would you access the third element in the list [\"apple\", \"banana\", \"cherry\", \"date\"]?\n",
    "4.\tRemove the last item from the list [10, 20, 30, 40].\n",
    "5.\tWrite a Python code to sort the list [4, 1, 8, 5, 2] in ascending order.\n",
    "6.\tCreate a list with mixed data types: an integer, a string, and a floating-point number.\n",
    "7.\tUse list slicing to get the first three elements of the list [10, 20, 30, 40, 50].\n",
    "8.\tCount how many times the number 3 appears in the list [1, 3, 3, 5, 7].\n",
    "9.\tWrite a Python code to merge the lists [1, 2] and [3, 4] into one list.\n",
    "10.\tHow would you clear all the items in the list [\"a\", \"b\", \"c\", \"d\"]?\n"
   ]
  },
  {
   "cell_type": "code",
   "execution_count": null,
   "id": "c33be511-d206-4ebe-a273-2ba29818678b",
   "metadata": {},
   "outputs": [],
   "source": [
    "https://github.com/Premalatha-success/Python_sep_2024/blob/main/Dictionary_exercise.docx\n",
    "https://github.com/Premalatha-success/Python_sep_2024/blob/main/Tuple_exercise.docx\n",
    "https://github.com/Premalatha-success/TIAA_batch1_nov/blob/main/Operators_assignment.docx"
   ]
  },
  {
   "cell_type": "markdown",
   "id": "99bc2a44-acbd-4292-b316-ffae53a623d0",
   "metadata": {},
   "source": [
    "### Operators"
   ]
  },
  {
   "cell_type": "markdown",
   "id": "73d3d8b3-0fbe-4e42-b207-2d999cdaa1e6",
   "metadata": {},
   "source": [
    "#### Arithmetic operators"
   ]
  },
  {
   "cell_type": "code",
   "execution_count": 1,
   "id": "b5183851-ebed-49f4-a755-6015a7f8cd0d",
   "metadata": {},
   "outputs": [
    {
     "data": {
      "text/plain": [
       "13"
      ]
     },
     "execution_count": 1,
     "metadata": {},
     "output_type": "execute_result"
    }
   ],
   "source": [
    "5+8"
   ]
  },
  {
   "cell_type": "code",
   "execution_count": 5,
   "id": "e7df72c1-9a4a-4466-8e70-9e01c80eeea1",
   "metadata": {},
   "outputs": [
    {
     "data": {
      "text/plain": [
       "7.0"
      ]
     },
     "execution_count": 5,
     "metadata": {},
     "output_type": "execute_result"
    }
   ],
   "source": [
    "3.0+4.0"
   ]
  },
  {
   "cell_type": "code",
   "execution_count": 6,
   "id": "264ff8cb-e4e6-4cbf-a030-e82bff2e2cb2",
   "metadata": {},
   "outputs": [
    {
     "data": {
      "text/plain": [
       "14.3"
      ]
     },
     "execution_count": 6,
     "metadata": {},
     "output_type": "execute_result"
    }
   ],
   "source": [
    "5+9.3"
   ]
  },
  {
   "cell_type": "code",
   "execution_count": 7,
   "id": "8ec54646-a4bb-4e87-9573-311bf0807f37",
   "metadata": {},
   "outputs": [
    {
     "data": {
      "text/plain": [
       "'hellopython'"
      ]
     },
     "execution_count": 7,
     "metadata": {},
     "output_type": "execute_result"
    }
   ],
   "source": [
    "\"hello\"+\"python\""
   ]
  },
  {
   "cell_type": "code",
   "execution_count": 8,
   "id": "1dda1db8-2798-4984-84d8-ed68a23196a3",
   "metadata": {},
   "outputs": [
    {
     "ename": "TypeError",
     "evalue": "can only concatenate str (not \"int\") to str",
     "output_type": "error",
     "traceback": [
      "\u001b[1;31m---------------------------------------------------------------------------\u001b[0m",
      "\u001b[1;31mTypeError\u001b[0m                                 Traceback (most recent call last)",
      "Cell \u001b[1;32mIn[8], line 1\u001b[0m\n\u001b[1;32m----> 1\u001b[0m \u001b[38;5;124m\"\u001b[39m\u001b[38;5;124mhello\u001b[39m\u001b[38;5;124m\"\u001b[39m\u001b[38;5;241m+\u001b[39m\u001b[38;5;241m5\u001b[39m\n",
      "\u001b[1;31mTypeError\u001b[0m: can only concatenate str (not \"int\") to str"
     ]
    }
   ],
   "source": [
    "\"hello\"+5"
   ]
  },
  {
   "cell_type": "code",
   "execution_count": 9,
   "id": "1ebc23d3-e195-460b-aa27-8ba36836ce93",
   "metadata": {},
   "outputs": [
    {
     "ename": "TypeError",
     "evalue": "can only concatenate str (not \"float\") to str",
     "output_type": "error",
     "traceback": [
      "\u001b[1;31m---------------------------------------------------------------------------\u001b[0m",
      "\u001b[1;31mTypeError\u001b[0m                                 Traceback (most recent call last)",
      "Cell \u001b[1;32mIn[9], line 1\u001b[0m\n\u001b[1;32m----> 1\u001b[0m \u001b[38;5;124m\"\u001b[39m\u001b[38;5;124mhello\u001b[39m\u001b[38;5;124m\"\u001b[39m\u001b[38;5;241m+\u001b[39m\u001b[38;5;241m1.0\u001b[39m\n",
      "\u001b[1;31mTypeError\u001b[0m: can only concatenate str (not \"float\") to str"
     ]
    }
   ],
   "source": [
    "\"hello\"+1.0"
   ]
  },
  {
   "cell_type": "code",
   "execution_count": 11,
   "id": "75e15ca2-b828-4d56-8202-61dc66cb7369",
   "metadata": {},
   "outputs": [
    {
     "data": {
      "text/plain": [
       "1010000"
      ]
     },
     "execution_count": 11,
     "metadata": {},
     "output_type": "execute_result"
    }
   ],
   "source": [
    "income=1000000\n",
    "incentive=10000\n",
    "total_income=income+incentive\n",
    "total_income"
   ]
  },
  {
   "cell_type": "code",
   "execution_count": 2,
   "id": "0d38e436-dbb4-4c6a-a417-39dcf6b40595",
   "metadata": {},
   "outputs": [
    {
     "data": {
      "text/plain": [
       "-3"
      ]
     },
     "execution_count": 2,
     "metadata": {},
     "output_type": "execute_result"
    }
   ],
   "source": [
    "5-8"
   ]
  },
  {
   "cell_type": "code",
   "execution_count": 13,
   "id": "97841d5d-3325-4feb-9762-1a33719c968a",
   "metadata": {},
   "outputs": [
    {
     "ename": "TypeError",
     "evalue": "unsupported operand type(s) for -: 'str' and 'str'",
     "output_type": "error",
     "traceback": [
      "\u001b[1;31m---------------------------------------------------------------------------\u001b[0m",
      "\u001b[1;31mTypeError\u001b[0m                                 Traceback (most recent call last)",
      "Cell \u001b[1;32mIn[13], line 1\u001b[0m\n\u001b[1;32m----> 1\u001b[0m \u001b[38;5;124m\"\u001b[39m\u001b[38;5;124mhello\u001b[39m\u001b[38;5;124m\"\u001b[39m\u001b[38;5;241m-\u001b[39m\u001b[38;5;124m\"\u001b[39m\u001b[38;5;124mlo\u001b[39m\u001b[38;5;124m\"\u001b[39m\n",
      "\u001b[1;31mTypeError\u001b[0m: unsupported operand type(s) for -: 'str' and 'str'"
     ]
    }
   ],
   "source": [
    "\"hello\"-\"lo\""
   ]
  },
  {
   "cell_type": "code",
   "execution_count": 3,
   "id": "d56b86b3-c844-4d9c-b3d8-ef8afc196eac",
   "metadata": {},
   "outputs": [
    {
     "data": {
      "text/plain": [
       "40"
      ]
     },
     "execution_count": 3,
     "metadata": {},
     "output_type": "execute_result"
    }
   ],
   "source": [
    "5*8"
   ]
  },
  {
   "cell_type": "code",
   "execution_count": 14,
   "id": "224bd31e-e88e-4897-9451-06a88eec0adc",
   "metadata": {},
   "outputs": [
    {
     "ename": "TypeError",
     "evalue": "can't multiply sequence by non-int of type 'str'",
     "output_type": "error",
     "traceback": [
      "\u001b[1;31m---------------------------------------------------------------------------\u001b[0m",
      "\u001b[1;31mTypeError\u001b[0m                                 Traceback (most recent call last)",
      "Cell \u001b[1;32mIn[14], line 1\u001b[0m\n\u001b[1;32m----> 1\u001b[0m \u001b[38;5;124m\"\u001b[39m\u001b[38;5;124mhello\u001b[39m\u001b[38;5;124m\"\u001b[39m\u001b[38;5;241m*\u001b[39m\u001b[38;5;124m\"\u001b[39m\u001b[38;5;124mpython\u001b[39m\u001b[38;5;124m\"\u001b[39m\n",
      "\u001b[1;31mTypeError\u001b[0m: can't multiply sequence by non-int of type 'str'"
     ]
    }
   ],
   "source": [
    "\"hello\"*\"python\""
   ]
  },
  {
   "cell_type": "code",
   "execution_count": 15,
   "id": "cfb8022c-71d3-46c4-8dae-63ad5c45ebf7",
   "metadata": {},
   "outputs": [
    {
     "data": {
      "text/plain": [
       "'hellohellohello'"
      ]
     },
     "execution_count": 15,
     "metadata": {},
     "output_type": "execute_result"
    }
   ],
   "source": [
    "\"hello\"* 3"
   ]
  },
  {
   "cell_type": "code",
   "execution_count": 16,
   "id": "7ec9f52c-70c5-40c6-9066-bafef7da98f1",
   "metadata": {},
   "outputs": [
    {
     "ename": "TypeError",
     "evalue": "can't multiply sequence by non-int of type 'float'",
     "output_type": "error",
     "traceback": [
      "\u001b[1;31m---------------------------------------------------------------------------\u001b[0m",
      "\u001b[1;31mTypeError\u001b[0m                                 Traceback (most recent call last)",
      "Cell \u001b[1;32mIn[16], line 1\u001b[0m\n\u001b[1;32m----> 1\u001b[0m \u001b[38;5;124m\"\u001b[39m\u001b[38;5;124mhello\u001b[39m\u001b[38;5;124m\"\u001b[39m\u001b[38;5;241m*\u001b[39m \u001b[38;5;241m3.5\u001b[39m\n",
      "\u001b[1;31mTypeError\u001b[0m: can't multiply sequence by non-int of type 'float'"
     ]
    }
   ],
   "source": [
    "\"hello\"* 3.5"
   ]
  },
  {
   "cell_type": "code",
   "execution_count": 4,
   "id": "81252c0e-a5fa-4349-9dac-081df5665fce",
   "metadata": {},
   "outputs": [
    {
     "data": {
      "text/plain": [
       "0.625"
      ]
     },
     "execution_count": 4,
     "metadata": {},
     "output_type": "execute_result"
    }
   ],
   "source": [
    "5/8"
   ]
  },
  {
   "cell_type": "markdown",
   "id": "6f51b841-8e13-4c66-8505-01642b2a96a3",
   "metadata": {},
   "source": [
    "#### Implicit conversion->Data type is changed without programmer's intervention"
   ]
  },
  {
   "cell_type": "code",
   "execution_count": 17,
   "id": "c18de76b-1cc6-4882-8f45-81dcbebf3e59",
   "metadata": {},
   "outputs": [
    {
     "data": {
      "text/plain": [
       "5.0"
      ]
     },
     "execution_count": 17,
     "metadata": {},
     "output_type": "execute_result"
    }
   ],
   "source": [
    "10/2"
   ]
  },
  {
   "cell_type": "code",
   "execution_count": 18,
   "id": "248a756b-70fb-4fd4-99d0-26b3a4274c14",
   "metadata": {},
   "outputs": [
    {
     "data": {
      "text/plain": [
       "2.0"
      ]
     },
     "execution_count": 18,
     "metadata": {},
     "output_type": "execute_result"
    }
   ],
   "source": [
    "3.2/1.6"
   ]
  },
  {
   "cell_type": "code",
   "execution_count": 19,
   "id": "f169082c-2d7e-4b9b-92ea-9190e33f9813",
   "metadata": {},
   "outputs": [
    {
     "data": {
      "text/plain": [
       "3.0"
      ]
     },
     "execution_count": 19,
     "metadata": {},
     "output_type": "execute_result"
    }
   ],
   "source": [
    "6/2.0"
   ]
  },
  {
   "cell_type": "code",
   "execution_count": 20,
   "id": "0ddf3546-ee1d-4318-af4e-e0acfadec6f5",
   "metadata": {},
   "outputs": [
    {
     "ename": "TypeError",
     "evalue": "unsupported operand type(s) for /: 'str' and 'int'",
     "output_type": "error",
     "traceback": [
      "\u001b[1;31m---------------------------------------------------------------------------\u001b[0m",
      "\u001b[1;31mTypeError\u001b[0m                                 Traceback (most recent call last)",
      "Cell \u001b[1;32mIn[20], line 1\u001b[0m\n\u001b[1;32m----> 1\u001b[0m \u001b[38;5;124m\"\u001b[39m\u001b[38;5;124mstring\u001b[39m\u001b[38;5;124m\"\u001b[39m\u001b[38;5;241m/\u001b[39m\u001b[38;5;241m4\u001b[39m\n",
      "\u001b[1;31mTypeError\u001b[0m: unsupported operand type(s) for /: 'str' and 'int'"
     ]
    }
   ],
   "source": [
    "\"string\"/4"
   ]
  },
  {
   "cell_type": "code",
   "execution_count": 21,
   "id": "c0e9a85b-42f8-488b-ab1e-e4a23bc6c253",
   "metadata": {},
   "outputs": [
    {
     "ename": "TypeError",
     "evalue": "unsupported operand type(s) for +: 'int' and 'str'",
     "output_type": "error",
     "traceback": [
      "\u001b[1;31m---------------------------------------------------------------------------\u001b[0m",
      "\u001b[1;31mTypeError\u001b[0m                                 Traceback (most recent call last)",
      "Cell \u001b[1;32mIn[21], line 3\u001b[0m\n\u001b[0;32m      1\u001b[0m income\u001b[38;5;241m=\u001b[39m\u001b[38;5;241m100000\u001b[39m\n\u001b[0;32m      2\u001b[0m incentive\u001b[38;5;241m=\u001b[39m\u001b[38;5;124m\"\u001b[39m\u001b[38;5;124m1000\u001b[39m\u001b[38;5;124m\"\u001b[39m\n\u001b[1;32m----> 3\u001b[0m total\u001b[38;5;241m=\u001b[39mincome\u001b[38;5;241m+\u001b[39mincentive\n\u001b[0;32m      4\u001b[0m total\n",
      "\u001b[1;31mTypeError\u001b[0m: unsupported operand type(s) for +: 'int' and 'str'"
     ]
    }
   ],
   "source": [
    "income=100000\n",
    "incentive=\"1000\"\n",
    "total=income+incentive\n",
    "total"
   ]
  },
  {
   "cell_type": "code",
   "execution_count": 22,
   "id": "ff2c02b3-5fb7-4211-b698-076d05429e2d",
   "metadata": {},
   "outputs": [
    {
     "data": {
      "text/plain": [
       "101000.0"
      ]
     },
     "execution_count": 22,
     "metadata": {},
     "output_type": "execute_result"
    }
   ],
   "source": [
    "total=income+float(incentive)\n",
    "total"
   ]
  },
  {
   "cell_type": "code",
   "execution_count": 23,
   "id": "eee85bf1-747b-4859-a68c-5075255b49b0",
   "metadata": {},
   "outputs": [
    {
     "data": {
      "text/plain": [
       "101000"
      ]
     },
     "execution_count": 23,
     "metadata": {},
     "output_type": "execute_result"
    }
   ],
   "source": [
    "total=income+int(incentive)\n",
    "total"
   ]
  },
  {
   "cell_type": "markdown",
   "id": "c22e36be-c901-4a24-9d9e-ffa29777e611",
   "metadata": {},
   "source": [
    "#### In the above ex,I have changed the data type of incentive.Explicit Conversion"
   ]
  },
  {
   "cell_type": "code",
   "execution_count": 24,
   "id": "162b5d60-98ba-4ad1-a162-2c758cecad9e",
   "metadata": {},
   "outputs": [
    {
     "data": {
      "text/plain": [
       "25"
      ]
     },
     "execution_count": 24,
     "metadata": {},
     "output_type": "execute_result"
    }
   ],
   "source": [
    "5**2 #exponentiation(power)"
   ]
  },
  {
   "cell_type": "code",
   "execution_count": 25,
   "id": "6bf11331-b4be-4e1f-a624-65f4a38b80b6",
   "metadata": {},
   "outputs": [
    {
     "data": {
      "text/plain": [
       "2097152"
      ]
     },
     "execution_count": 25,
     "metadata": {},
     "output_type": "execute_result"
    }
   ],
   "source": [
    "8**7"
   ]
  },
  {
   "cell_type": "code",
   "execution_count": 26,
   "id": "45693f0f-2892-4e5d-9398-0ec218272c4c",
   "metadata": {},
   "outputs": [
    {
     "data": {
      "text/plain": [
       "0"
      ]
     },
     "execution_count": 26,
     "metadata": {},
     "output_type": "execute_result"
    }
   ],
   "source": [
    "10 % 2 ## Modulus"
   ]
  },
  {
   "cell_type": "code",
   "execution_count": 27,
   "id": "67fdf749-bbf1-4e87-9013-594107d5d7dd",
   "metadata": {},
   "outputs": [
    {
     "data": {
      "text/plain": [
       "1"
      ]
     },
     "execution_count": 27,
     "metadata": {},
     "output_type": "execute_result"
    }
   ],
   "source": [
    "10%3"
   ]
  },
  {
   "cell_type": "code",
   "execution_count": 28,
   "id": "574f3667-1fd8-484d-9efc-25f53245cb25",
   "metadata": {},
   "outputs": [
    {
     "data": {
      "text/plain": [
       "2"
      ]
     },
     "execution_count": 28,
     "metadata": {},
     "output_type": "execute_result"
    }
   ],
   "source": [
    "10%4"
   ]
  },
  {
   "cell_type": "code",
   "execution_count": 29,
   "id": "9f7b7f86-c7e9-4767-a91c-c11ef9415a60",
   "metadata": {},
   "outputs": [
    {
     "data": {
      "text/plain": [
       "0"
      ]
     },
     "execution_count": 29,
     "metadata": {},
     "output_type": "execute_result"
    }
   ],
   "source": [
    "10%5"
   ]
  },
  {
   "cell_type": "code",
   "execution_count": 30,
   "id": "9d399941-f91c-4f7d-a514-897b55996103",
   "metadata": {},
   "outputs": [
    {
     "data": {
      "text/plain": [
       "4"
      ]
     },
     "execution_count": 30,
     "metadata": {},
     "output_type": "execute_result"
    }
   ],
   "source": [
    "10%6"
   ]
  },
  {
   "cell_type": "code",
   "execution_count": 31,
   "id": "8977472f-ae90-4d6a-9f25-69804307a788",
   "metadata": {},
   "outputs": [
    {
     "data": {
      "text/plain": [
       "2"
      ]
     },
     "execution_count": 31,
     "metadata": {},
     "output_type": "execute_result"
    }
   ],
   "source": [
    "2%10"
   ]
  },
  {
   "cell_type": "code",
   "execution_count": 32,
   "id": "bf3beb49-f9d9-4162-b244-d6d7073f806e",
   "metadata": {},
   "outputs": [
    {
     "data": {
      "text/plain": [
       "3"
      ]
     },
     "execution_count": 32,
     "metadata": {},
     "output_type": "execute_result"
    }
   ],
   "source": [
    "3%10"
   ]
  },
  {
   "cell_type": "code",
   "execution_count": 33,
   "id": "8f56d571-8f89-4fb8-8df4-a50824e65e93",
   "metadata": {},
   "outputs": [
    {
     "data": {
      "text/plain": [
       "7"
      ]
     },
     "execution_count": 33,
     "metadata": {},
     "output_type": "execute_result"
    }
   ],
   "source": [
    "7%8"
   ]
  },
  {
   "cell_type": "markdown",
   "id": "c8932daa-2b82-428a-b682-40a354206305",
   "metadata": {},
   "source": [
    "#### a % b-> if a >b,it returns remainder,else a"
   ]
  },
  {
   "cell_type": "code",
   "execution_count": 34,
   "id": "df7f2c96-16aa-49df-98ec-7cd3e1833395",
   "metadata": {},
   "outputs": [
    {
     "data": {
      "text/plain": [
       "5"
      ]
     },
     "execution_count": 34,
     "metadata": {},
     "output_type": "execute_result"
    }
   ],
   "source": [
    "10//2"
   ]
  },
  {
   "cell_type": "code",
   "execution_count": 35,
   "id": "000cd5af-713c-4555-9f30-e6efc7a233cf",
   "metadata": {},
   "outputs": [
    {
     "data": {
      "text/plain": [
       "3"
      ]
     },
     "execution_count": 35,
     "metadata": {},
     "output_type": "execute_result"
    }
   ],
   "source": [
    "10//3"
   ]
  },
  {
   "cell_type": "code",
   "execution_count": 36,
   "id": "e7ac8e2e-9757-44b6-b970-352f8bcce0a0",
   "metadata": {},
   "outputs": [
    {
     "data": {
      "text/plain": [
       "2"
      ]
     },
     "execution_count": 36,
     "metadata": {},
     "output_type": "execute_result"
    }
   ],
   "source": [
    "10//4"
   ]
  },
  {
   "cell_type": "code",
   "execution_count": 37,
   "id": "26161a4a-5a9a-4d40-8f69-1de31bdd8152",
   "metadata": {},
   "outputs": [
    {
     "data": {
      "text/plain": [
       "0"
      ]
     },
     "execution_count": 37,
     "metadata": {},
     "output_type": "execute_result"
    }
   ],
   "source": [
    "2//10"
   ]
  },
  {
   "cell_type": "code",
   "execution_count": 38,
   "id": "3e8e467a-6b1e-4060-9f80-cc6d6b9a3b6e",
   "metadata": {},
   "outputs": [
    {
     "data": {
      "text/plain": [
       "0"
      ]
     },
     "execution_count": 38,
     "metadata": {},
     "output_type": "execute_result"
    }
   ],
   "source": [
    "3//10"
   ]
  },
  {
   "cell_type": "code",
   "execution_count": 39,
   "id": "4e36ba32-e1b8-44b0-aa1c-6c8b638476b9",
   "metadata": {},
   "outputs": [
    {
     "data": {
      "text/plain": [
       "0"
      ]
     },
     "execution_count": 39,
     "metadata": {},
     "output_type": "execute_result"
    }
   ],
   "source": [
    "4//10"
   ]
  },
  {
   "cell_type": "markdown",
   "id": "8889ac96-7492-4237-b514-accfa0f9576c",
   "metadata": {},
   "source": [
    "#### a//b-> if a > b it returns quotient else 0"
   ]
  },
  {
   "cell_type": "markdown",
   "id": "2f855c06-ee77-4efb-9186-a8ff1e0d1a02",
   "metadata": {},
   "source": [
    "### Relational Operators"
   ]
  },
  {
   "cell_type": "code",
   "execution_count": 40,
   "id": "4659bd04-ae6d-4451-a91a-bcec41c4f38f",
   "metadata": {},
   "outputs": [],
   "source": [
    "tom_age=25\n",
    "jerry_age=21"
   ]
  },
  {
   "cell_type": "code",
   "execution_count": 41,
   "id": "98460105-201f-4bfa-a014-238e72c08471",
   "metadata": {},
   "outputs": [
    {
     "data": {
      "text/plain": [
       "False"
      ]
     },
     "execution_count": 41,
     "metadata": {},
     "output_type": "execute_result"
    }
   ],
   "source": [
    "tom_age==jerry_age"
   ]
  },
  {
   "cell_type": "code",
   "execution_count": 42,
   "id": "e1635005-b3a1-473c-a31b-a3e043fcd199",
   "metadata": {},
   "outputs": [
    {
     "data": {
      "text/plain": [
       "True"
      ]
     },
     "execution_count": 42,
     "metadata": {},
     "output_type": "execute_result"
    }
   ],
   "source": [
    "tom_age!=jerry_age"
   ]
  },
  {
   "cell_type": "code",
   "execution_count": 43,
   "id": "37947cb8-23ab-43d6-8365-0bee0b732f55",
   "metadata": {},
   "outputs": [
    {
     "data": {
      "text/plain": [
       "True"
      ]
     },
     "execution_count": 43,
     "metadata": {},
     "output_type": "execute_result"
    }
   ],
   "source": [
    "tom_age>jerry_age"
   ]
  },
  {
   "cell_type": "code",
   "execution_count": 44,
   "id": "cc44ec69-f3bd-4d68-aed7-46b659769638",
   "metadata": {},
   "outputs": [
    {
     "data": {
      "text/plain": [
       "False"
      ]
     },
     "execution_count": 44,
     "metadata": {},
     "output_type": "execute_result"
    }
   ],
   "source": [
    "tom_age<jerry_age"
   ]
  },
  {
   "cell_type": "code",
   "execution_count": 45,
   "id": "51de38f2-8052-4514-a5f3-3b58a9ceab4b",
   "metadata": {},
   "outputs": [
    {
     "data": {
      "text/plain": [
       "True"
      ]
     },
     "execution_count": 45,
     "metadata": {},
     "output_type": "execute_result"
    }
   ],
   "source": [
    "tom_age>=jerry_age"
   ]
  },
  {
   "cell_type": "code",
   "execution_count": 46,
   "id": "31dae90c-ab60-45ab-817e-9247cdee1b99",
   "metadata": {},
   "outputs": [
    {
     "data": {
      "text/plain": [
       "False"
      ]
     },
     "execution_count": 46,
     "metadata": {},
     "output_type": "execute_result"
    }
   ],
   "source": [
    "tom_age<=jerry_age"
   ]
  },
  {
   "cell_type": "markdown",
   "id": "bf7a8779-d16c-44af-adae-c84739d62f24",
   "metadata": {},
   "source": [
    "### Logical Operators"
   ]
  },
  {
   "cell_type": "code",
   "execution_count": 47,
   "id": "f17a72ff-df4a-40e1-865f-a3c12de39eca",
   "metadata": {},
   "outputs": [],
   "source": [
    "is_student=True\n",
    "in_college=True\n",
    "in_school=False\n",
    "is_male=False"
   ]
  },
  {
   "cell_type": "code",
   "execution_count": 48,
   "id": "5856bf1a-da59-40aa-9751-aad70d2bcbc1",
   "metadata": {},
   "outputs": [
    {
     "data": {
      "text/plain": [
       "False"
      ]
     },
     "execution_count": 48,
     "metadata": {},
     "output_type": "execute_result"
    }
   ],
   "source": [
    "in_school and is_male"
   ]
  },
  {
   "cell_type": "code",
   "execution_count": 49,
   "id": "12458d27-4d43-4c5b-909d-35fa1c200e23",
   "metadata": {},
   "outputs": [
    {
     "data": {
      "text/plain": [
       "True"
      ]
     },
     "execution_count": 49,
     "metadata": {},
     "output_type": "execute_result"
    }
   ],
   "source": [
    "is_student and in_college"
   ]
  },
  {
   "cell_type": "code",
   "execution_count": 50,
   "id": "34e2fe82-bbd8-490f-9d3d-a062b1c727e1",
   "metadata": {},
   "outputs": [
    {
     "data": {
      "text/plain": [
       "False"
      ]
     },
     "execution_count": 50,
     "metadata": {},
     "output_type": "execute_result"
    }
   ],
   "source": [
    "is_student and in_school"
   ]
  },
  {
   "cell_type": "code",
   "execution_count": 51,
   "id": "2f64974f-addb-4d2d-a3fe-ec85b2445abe",
   "metadata": {},
   "outputs": [
    {
     "data": {
      "text/plain": [
       "False"
      ]
     },
     "execution_count": 51,
     "metadata": {},
     "output_type": "execute_result"
    }
   ],
   "source": [
    "in_school and is_student"
   ]
  },
  {
   "cell_type": "code",
   "execution_count": 52,
   "id": "844d2061-5b88-423e-a5fd-c39e769083fc",
   "metadata": {},
   "outputs": [
    {
     "data": {
      "text/plain": [
       "False"
      ]
     },
     "execution_count": 52,
     "metadata": {},
     "output_type": "execute_result"
    }
   ],
   "source": [
    "in_school or is_male"
   ]
  },
  {
   "cell_type": "code",
   "execution_count": 53,
   "id": "863e8c87-8654-48a5-a23d-69bd88bb5877",
   "metadata": {},
   "outputs": [
    {
     "data": {
      "text/plain": [
       "True"
      ]
     },
     "execution_count": 53,
     "metadata": {},
     "output_type": "execute_result"
    }
   ],
   "source": [
    "is_student or in_college"
   ]
  },
  {
   "cell_type": "code",
   "execution_count": 54,
   "id": "f00cfe9f-cffa-412b-a72e-c0e7d78e1066",
   "metadata": {},
   "outputs": [
    {
     "data": {
      "text/plain": [
       "True"
      ]
     },
     "execution_count": 54,
     "metadata": {},
     "output_type": "execute_result"
    }
   ],
   "source": [
    "is_student or in_school"
   ]
  },
  {
   "cell_type": "code",
   "execution_count": 55,
   "id": "8fe243e6-82d3-41af-bbae-c9cdab8899d8",
   "metadata": {},
   "outputs": [
    {
     "data": {
      "text/plain": [
       "False"
      ]
     },
     "execution_count": 55,
     "metadata": {},
     "output_type": "execute_result"
    }
   ],
   "source": [
    "not(is_student)"
   ]
  },
  {
   "cell_type": "code",
   "execution_count": 56,
   "id": "69f94bd8-4937-4eb9-90ac-425886ce8e8f",
   "metadata": {},
   "outputs": [
    {
     "data": {
      "text/plain": [
       "True"
      ]
     },
     "execution_count": 56,
     "metadata": {},
     "output_type": "execute_result"
    }
   ],
   "source": [
    "not(is_student) or not(in_school)"
   ]
  },
  {
   "cell_type": "code",
   "execution_count": 59,
   "id": "7ac8a468-1169-4b58-8c3b-c08137dab707",
   "metadata": {},
   "outputs": [
    {
     "data": {
      "text/plain": [
       "True"
      ]
     },
     "execution_count": 59,
     "metadata": {},
     "output_type": "execute_result"
    }
   ],
   "source": [
    "is_sunny=False\n",
    "has_free_time=True\n",
    "is_tired=False\n",
    "is_sunny or has_free_time or is_tired"
   ]
  },
  {
   "cell_type": "markdown",
   "id": "980e215c-f04c-4251-90c2-fc5750100d95",
   "metadata": {},
   "source": [
    "### Membership operator(in)\n"
   ]
  },
  {
   "cell_type": "code",
   "execution_count": 60,
   "id": "b916918d-87b2-4447-a96f-d1b47942b293",
   "metadata": {},
   "outputs": [
    {
     "data": {
      "text/plain": [
       "True"
      ]
     },
     "execution_count": 60,
     "metadata": {},
     "output_type": "execute_result"
    }
   ],
   "source": [
    "vowels=\"aeiou\"\n",
    "\"u\" in vowels"
   ]
  },
  {
   "cell_type": "code",
   "execution_count": 61,
   "id": "bfbc24a7-ca0e-4c4c-87a9-e779b247d6d4",
   "metadata": {},
   "outputs": [
    {
     "data": {
      "text/plain": [
       "False"
      ]
     },
     "execution_count": 61,
     "metadata": {},
     "output_type": "execute_result"
    }
   ],
   "source": [
    "\"u\" not in vowels"
   ]
  },
  {
   "cell_type": "code",
   "execution_count": 62,
   "id": "fcefb485-7658-4fb4-a53a-61405ce8753a",
   "metadata": {},
   "outputs": [
    {
     "data": {
      "text/plain": [
       "True"
      ]
     },
     "execution_count": 62,
     "metadata": {},
     "output_type": "execute_result"
    }
   ],
   "source": [
    "\"k\" not in vowels"
   ]
  },
  {
   "cell_type": "code",
   "execution_count": 63,
   "id": "6005ea28-fda7-464e-9aeb-4768a1cdde5f",
   "metadata": {},
   "outputs": [
    {
     "data": {
      "text/plain": [
       "False"
      ]
     },
     "execution_count": 63,
     "metadata": {},
     "output_type": "execute_result"
    }
   ],
   "source": [
    "\"A\" in vowels"
   ]
  },
  {
   "cell_type": "markdown",
   "id": "377910bb-9639-4df3-ae18-1dc7f6d1089f",
   "metadata": {},
   "source": [
    "### Bitwise Operators"
   ]
  },
  {
   "cell_type": "code",
   "execution_count": 5,
   "id": "84bfd764-a368-464a-a881-e965e06f9042",
   "metadata": {},
   "outputs": [
    {
     "name": "stdout",
     "output_type": "stream",
     "text": [
      "2\n",
      "7\n",
      "5\n",
      "1\n",
      "24\n"
     ]
    }
   ],
   "source": [
    "a = 6\n",
    "b = 3\n",
    "\n",
    "print(6 & 3) #bitwise and\n",
    "print(6 | 3) #bitwise or\n",
    "print(6 ^ 3) #bitwise xor\n",
    "print(a >> 2) #Zero fill left shift\n",
    "print(a << 2) #Signed right shift\t"
   ]
  },
  {
   "cell_type": "code",
   "execution_count": null,
   "id": "4de357f5-e0d4-4e76-9798-6f21ee825a6d",
   "metadata": {},
   "outputs": [],
   "source": [
    "### Self-Assessment 3\n",
    "https://github.com/Premalatha-success/TIAA_batch1_nov/blob/main/Operators_assignment.docx"
   ]
  },
  {
   "cell_type": "code",
   "execution_count": null,
   "id": "942dc15a-5e52-46a0-9fda-32fc54b00d7a",
   "metadata": {},
   "outputs": [],
   "source": [
    "1.\tGiven the statements:\n",
    "o\tA = True\n",
    "o\tB = False\n",
    "o\tC = True\n",
    "Evaluate the following:\n",
    "(A and B) or (not C and B)\n",
    "2.\tIf X = False and Y = True, what is the result of:\n",
    "not(X or not Y) and (X or Y)?\n",
    "________________________________________\n",
    "Multiple Choice:\n",
    "3.\tIf P = True, Q = False, and R = True, which of the following evaluates to True?\n",
    "a. (P or Q) and (not R)\n",
    "b. not (Q and R) or P\n",
    "c. (P and not Q) or (Q and R)\n",
    "d. not (P and R)\n",
    "4.\tGiven D = False, E = True, and F = True, what is the value of the expression?\n",
    "D or (not E and F) and (D or E)\n",
    "a. True\n",
    "b. False\n",
    "c. None\n",
    "d. Invalid Expression\n",
    "________________________________________\n",
    "Fill in the Blanks:\n",
    "5.\tFill in the blanks to make the following statement True:\n",
    "(____ and True) or (False and not ____) = True.\n",
    "\n",
    "6.\tIf (A and not B) or (C and D) evaluates to False, which of the following must be False?\n",
    "a. A\n",
    "b. B\n",
    "c. C\n",
    "d. D\n",
    "________________________________________\n",
    "Code Interpretation:\n",
    "7.\tWhat will the following Python code output?\n",
    "A = True\n",
    "B = False\n",
    "C = True\n",
    "result = A and (not B or C) and not (B and C)\n",
    "print(result)\n",
    "8.\tConsider the following pseudocode:\n",
    "if (X and Y) or (not Z):\n",
    "    return True\n",
    "else:\n",
    "    return False\n",
    "What is the output if X = True, Y = False, and Z = False?\n"
   ]
  },
  {
   "cell_type": "code",
   "execution_count": 64,
   "id": "74b0ad5d-60e2-43da-a659-079b423a3c60",
   "metadata": {},
   "outputs": [
    {
     "data": {
      "text/plain": [
       "False"
      ]
     },
     "execution_count": 64,
     "metadata": {},
     "output_type": "execute_result"
    }
   ],
   "source": [
    "\n",
    "A = True\n",
    "B = False\n",
    "C = True\n",
    "\n",
    "(A and B) or (not C and B)"
   ]
  },
  {
   "cell_type": "code",
   "execution_count": 65,
   "id": "7ad4583c-c0ef-40c3-91a1-12dad7e1f573",
   "metadata": {},
   "outputs": [
    {
     "data": {
      "text/plain": [
       "True"
      ]
     },
     "execution_count": 65,
     "metadata": {},
     "output_type": "execute_result"
    }
   ],
   "source": [
    "X = False \n",
    "Y = True\n",
    "not(X or not Y) and (X or Y)"
   ]
  },
  {
   "cell_type": "code",
   "execution_count": 66,
   "id": "616f62ae-5c32-425f-b84f-ce32fe5e67a6",
   "metadata": {},
   "outputs": [
    {
     "name": "stdout",
     "output_type": "stream",
     "text": [
      "True\n"
     ]
    }
   ],
   "source": [
    "A = True\n",
    "B = False\n",
    "C = True\n",
    "result = A and (not B or C) and not (B and C)\n",
    "print(result)"
   ]
  },
  {
   "cell_type": "markdown",
   "id": "9350c8d1-0b9d-48ae-971e-e129de5f1419",
   "metadata": {},
   "source": [
    "### Ml Package(Data Analysis)\n",
    "### numpy -> numerical python"
   ]
  },
  {
   "cell_type": "code",
   "execution_count": 67,
   "id": "6711dfc6-7fa7-4147-8471-c93e60712428",
   "metadata": {},
   "outputs": [],
   "source": [
    "import numpy as np"
   ]
  },
  {
   "cell_type": "code",
   "execution_count": 68,
   "id": "c101674a-79c5-45d5-81ef-b17a92a1eb75",
   "metadata": {},
   "outputs": [
    {
     "data": {
      "text/plain": [
       "array([  1,   2,   3,   4,   5,   6,   7,   8,   9,  10,  11,  12,  13,\n",
       "        14,  15,  16,  17,  18,  19,  20,  21,  22,  23,  24,  25,  26,\n",
       "        27,  28,  29,  30,  31,  32,  33,  34,  35,  36,  37,  38,  39,\n",
       "        40,  41,  42,  43,  44,  45,  46,  47,  48,  49,  50,  51,  52,\n",
       "        53,  54,  55,  56,  57,  58,  59,  60,  61,  62,  63,  64,  65,\n",
       "        66,  67,  68,  69,  70,  71,  72,  73,  74,  75,  76,  77,  78,\n",
       "        79,  80,  81,  82,  83,  84,  85,  86,  87,  88,  89,  90,  91,\n",
       "        92,  93,  94,  95,  96,  97,  98,  99, 100])"
      ]
     },
     "execution_count": 68,
     "metadata": {},
     "output_type": "execute_result"
    }
   ],
   "source": [
    "#### Generate numbers from 1 to 100\n",
    "np.arange(1,101)"
   ]
  },
  {
   "cell_type": "code",
   "execution_count": 69,
   "id": "5c300531-39d5-40d5-9e1c-190cb9da3b7e",
   "metadata": {},
   "outputs": [
    {
     "data": {
      "text/plain": [
       "array([ 0,  1,  2,  3,  4,  5,  6,  7,  8,  9, 10, 11, 12, 13, 14, 15, 16,\n",
       "       17, 18, 19, 20, 21, 22, 23, 24, 25, 26, 27, 28, 29, 30, 31, 32, 33,\n",
       "       34, 35, 36, 37, 38, 39, 40])"
      ]
     },
     "execution_count": 69,
     "metadata": {},
     "output_type": "execute_result"
    }
   ],
   "source": [
    "np.arange(41)"
   ]
  },
  {
   "cell_type": "code",
   "execution_count": 70,
   "id": "57644c99-86ae-4e00-9b66-05dc12fea165",
   "metadata": {},
   "outputs": [
    {
     "data": {
      "text/plain": [
       "array([ 2,  4,  6,  8, 10, 12, 14])"
      ]
     },
     "execution_count": 70,
     "metadata": {},
     "output_type": "execute_result"
    }
   ],
   "source": [
    "np.arange(2,15,2)"
   ]
  },
  {
   "cell_type": "code",
   "execution_count": 71,
   "id": "e758474d-735a-4717-92a5-5b5bc77bdc5a",
   "metadata": {},
   "outputs": [
    {
     "data": {
      "text/plain": [
       "array([100,  99,  98,  97,  96,  95,  94,  93,  92,  91,  90,  89,  88,\n",
       "        87,  86,  85,  84,  83,  82,  81,  80,  79,  78,  77,  76,  75,\n",
       "        74,  73,  72,  71,  70,  69,  68,  67,  66,  65,  64,  63,  62,\n",
       "        61,  60,  59,  58,  57,  56,  55,  54,  53,  52,  51,  50,  49,\n",
       "        48,  47,  46,  45,  44,  43,  42,  41,  40,  39,  38,  37,  36,\n",
       "        35,  34,  33,  32,  31,  30,  29,  28,  27,  26,  25,  24,  23,\n",
       "        22,  21,  20,  19,  18,  17,  16,  15,  14,  13,  12,  11,  10,\n",
       "         9,   8,   7,   6,   5,   4,   3,   2,   1])"
      ]
     },
     "execution_count": 71,
     "metadata": {},
     "output_type": "execute_result"
    }
   ],
   "source": [
    "np.arange(100,0,-1)"
   ]
  },
  {
   "cell_type": "code",
   "execution_count": 73,
   "id": "660ea465-a718-441f-bbf9-3b6a5f786a9d",
   "metadata": {},
   "outputs": [
    {
     "data": {
      "text/plain": [
       "array([0, 0, 0, 0, 0, 0, 0, 0, 0, 0, 0, 0, 0, 0, 0, 0, 0, 0, 0, 0, 0, 0,\n",
       "       0, 0, 0, 0, 0, 0, 0, 0, 0, 0, 0, 0, 0, 0, 0, 0, 0, 0, 0, 0, 0, 0,\n",
       "       0, 0, 0, 0, 0, 0])"
      ]
     },
     "execution_count": 73,
     "metadata": {},
     "output_type": "execute_result"
    }
   ],
   "source": [
    "### 50 zeroes\n",
    "np.zeros(50,int)"
   ]
  },
  {
   "cell_type": "code",
   "execution_count": 74,
   "id": "13cf9a30-ae68-4f4b-8ee4-022f7501913a",
   "metadata": {},
   "outputs": [
    {
     "data": {
      "text/plain": [
       "array([1, 1, 1, 1, 1, 1, 1, 1, 1, 1, 1, 1, 1, 1, 1, 1, 1, 1, 1, 1, 1, 1,\n",
       "       1, 1, 1, 1, 1, 1, 1, 1, 1, 1, 1, 1, 1, 1, 1, 1, 1, 1, 1, 1, 1, 1,\n",
       "       1, 1, 1, 1, 1, 1])"
      ]
     },
     "execution_count": 74,
     "metadata": {},
     "output_type": "execute_result"
    }
   ],
   "source": [
    "np.ones(50,int)"
   ]
  },
  {
   "cell_type": "code",
   "execution_count": 76,
   "id": "60090f8b-529d-4fc6-afb3-2f9f33ef6cfa",
   "metadata": {},
   "outputs": [
    {
     "data": {
      "text/plain": [
       "array([0. , 0.5, 1. , 1.5, 2. ])"
      ]
     },
     "execution_count": 76,
     "metadata": {},
     "output_type": "execute_result"
    }
   ],
   "source": [
    "np.linspace(0,2,5)"
   ]
  },
  {
   "cell_type": "code",
   "execution_count": 77,
   "id": "a3e66028-1f2c-4b50-86be-d78ea836e3e7",
   "metadata": {},
   "outputs": [
    {
     "data": {
      "text/plain": [
       "array([ 0.,  2.,  4.,  6.,  8., 10., 12., 14., 16., 18., 20.])"
      ]
     },
     "execution_count": 77,
     "metadata": {},
     "output_type": "execute_result"
    }
   ],
   "source": [
    "np.linspace(0,20,11)"
   ]
  },
  {
   "cell_type": "code",
   "execution_count": 80,
   "id": "dc4a0073-9c7e-4631-a1f4-c7bf66d93a07",
   "metadata": {},
   "outputs": [
    {
     "data": {
      "text/plain": [
       "array([[1, 0, 0, 0, 0],\n",
       "       [0, 1, 0, 0, 0],\n",
       "       [0, 0, 1, 0, 0],\n",
       "       [0, 0, 0, 1, 0],\n",
       "       [0, 0, 0, 0, 1]])"
      ]
     },
     "execution_count": 80,
     "metadata": {},
     "output_type": "execute_result"
    }
   ],
   "source": [
    "np.eye(5,dtype=int)"
   ]
  },
  {
   "cell_type": "code",
   "execution_count": 85,
   "id": "0c0058ed-659a-4f1b-a656-a88a86cb70bc",
   "metadata": {},
   "outputs": [
    {
     "data": {
      "text/plain": [
       "array([[0.07941376, 0.29521257, 0.77113366],\n",
       "       [0.94663292, 0.72109437, 0.44182352]])"
      ]
     },
     "execution_count": 85,
     "metadata": {},
     "output_type": "execute_result"
    }
   ],
   "source": [
    "np.random.rand(2,3)"
   ]
  },
  {
   "cell_type": "code",
   "execution_count": 87,
   "id": "21c2cc54-3dd8-48df-b5b1-7e62536a8e06",
   "metadata": {},
   "outputs": [
    {
     "data": {
      "text/plain": [
       "array([[-1.39389564,  0.22650558,  0.30599615],\n",
       "       [-0.6147777 , -1.87511262, -0.01350352]])"
      ]
     },
     "execution_count": 87,
     "metadata": {},
     "output_type": "execute_result"
    }
   ],
   "source": [
    "np.random.randn(2,3)"
   ]
  },
  {
   "cell_type": "code",
   "execution_count": 91,
   "id": "e4bc8955-cecb-4dbb-bacd-e42f5ee8de19",
   "metadata": {},
   "outputs": [
    {
     "data": {
      "text/plain": [
       "2"
      ]
     },
     "execution_count": 91,
     "metadata": {},
     "output_type": "execute_result"
    }
   ],
   "source": [
    "np.random.randint(2,6)"
   ]
  },
  {
   "cell_type": "code",
   "execution_count": 92,
   "id": "f210d1d0-4098-48cd-8fcd-329bfe5a2783",
   "metadata": {},
   "outputs": [
    {
     "data": {
      "text/plain": [
       "array([50, 48, 30, 20, 58, 63, 43, 35, 76, 45, 72, 20, 75, 30, 27, 60, 58,\n",
       "       26, 65, 27, 45, 74, 72, 63, 67, 23, 43, 48, 71, 38, 54, 52, 73, 55,\n",
       "       75, 77, 70, 75, 59, 40, 21, 33, 52, 54, 60, 20, 57, 29, 71, 20, 40,\n",
       "       27, 28, 33, 69, 57, 35, 30, 27, 37, 51, 30, 42, 24, 43, 23, 51, 28,\n",
       "       35, 64, 21, 37, 65, 43, 29, 77, 30, 56, 76, 73, 40, 41, 72, 42, 20,\n",
       "       70, 26, 27, 55, 31, 21, 66, 28, 69, 69, 66, 61, 69, 28, 61])"
      ]
     },
     "execution_count": 92,
     "metadata": {},
     "output_type": "execute_result"
    }
   ],
   "source": [
    "np.random.randint(20,78,100)"
   ]
  },
  {
   "cell_type": "code",
   "execution_count": 94,
   "id": "5befe026-da3f-4d8a-ab70-03641ac81f62",
   "metadata": {},
   "outputs": [
    {
     "data": {
      "text/plain": [
       "array([ 0,  1,  2,  3,  4,  5,  6,  7,  8,  9, 10, 11, 12, 13, 14, 15, 16,\n",
       "       17, 18, 19, 20, 21, 22, 23, 24, 25, 26, 27, 28, 29])"
      ]
     },
     "execution_count": 94,
     "metadata": {},
     "output_type": "execute_result"
    }
   ],
   "source": [
    "### Create an array from 0 to 29\n",
    "\n",
    "sample=np.arange(0,30)\n",
    "sample"
   ]
  },
  {
   "cell_type": "code",
   "execution_count": 95,
   "id": "5d773775-2afd-482a-92d1-0f16b2625fd8",
   "metadata": {},
   "outputs": [
    {
     "data": {
      "text/plain": [
       "array([[ 0,  1,  2,  3,  4,  5],\n",
       "       [ 6,  7,  8,  9, 10, 11],\n",
       "       [12, 13, 14, 15, 16, 17],\n",
       "       [18, 19, 20, 21, 22, 23],\n",
       "       [24, 25, 26, 27, 28, 29]])"
      ]
     },
     "execution_count": 95,
     "metadata": {},
     "output_type": "execute_result"
    }
   ],
   "source": [
    "sample.reshape(5,6)"
   ]
  },
  {
   "cell_type": "code",
   "execution_count": 96,
   "id": "7f99b092-35f0-43f2-bfc0-4f2bd192b3ac",
   "metadata": {},
   "outputs": [
    {
     "ename": "ValueError",
     "evalue": "cannot reshape array of size 30 into shape (4,7)",
     "output_type": "error",
     "traceback": [
      "\u001b[1;31m---------------------------------------------------------------------------\u001b[0m",
      "\u001b[1;31mValueError\u001b[0m                                Traceback (most recent call last)",
      "Cell \u001b[1;32mIn[96], line 1\u001b[0m\n\u001b[1;32m----> 1\u001b[0m sample\u001b[38;5;241m.\u001b[39mreshape(\u001b[38;5;241m4\u001b[39m,\u001b[38;5;241m7\u001b[39m)\n",
      "\u001b[1;31mValueError\u001b[0m: cannot reshape array of size 30 into shape (4,7)"
     ]
    }
   ],
   "source": [
    "sample.reshape(4,7)"
   ]
  },
  {
   "cell_type": "code",
   "execution_count": 97,
   "id": "6c29e2f7-d269-4b29-a99c-00ac4d55e830",
   "metadata": {},
   "outputs": [],
   "source": [
    "rand_array=np.random.rand(6,7)"
   ]
  },
  {
   "cell_type": "code",
   "execution_count": 98,
   "id": "e9e1434e-f342-4224-b468-7110a27afb5f",
   "metadata": {},
   "outputs": [
    {
     "data": {
      "text/plain": [
       "array([[0.99219676, 0.29553745, 0.76479232, 0.11430524, 0.47010028,\n",
       "        0.81867772, 0.54674843],\n",
       "       [0.9888968 , 0.38851664, 0.51676985, 0.67153575, 0.22097116,\n",
       "        0.39068512, 0.82443896],\n",
       "       [0.69134354, 0.64114544, 0.34011178, 0.10591391, 0.70405697,\n",
       "        0.29531944, 0.94028123],\n",
       "       [0.19969783, 0.42049707, 0.28609599, 0.67561045, 0.93704898,\n",
       "        0.10790354, 0.43772696],\n",
       "       [0.1251357 , 0.08983677, 0.43281755, 0.89627309, 0.69632513,\n",
       "        0.4236894 , 0.45541342],\n",
       "       [0.99180389, 0.96296451, 0.25644811, 0.51723956, 0.13492175,\n",
       "        0.12254827, 0.56204487]])"
      ]
     },
     "execution_count": 98,
     "metadata": {},
     "output_type": "execute_result"
    }
   ],
   "source": [
    "rand_array"
   ]
  },
  {
   "cell_type": "code",
   "execution_count": 99,
   "id": "9bb85e0e-960c-4258-acb3-c3a1f6ad638a",
   "metadata": {},
   "outputs": [
    {
     "data": {
      "text/plain": [
       "0.992196760020129"
      ]
     },
     "execution_count": 99,
     "metadata": {},
     "output_type": "execute_result"
    }
   ],
   "source": [
    "rand_array.max()"
   ]
  },
  {
   "cell_type": "code",
   "execution_count": 100,
   "id": "08217153-cebb-42d4-8d68-109862299cee",
   "metadata": {},
   "outputs": [
    {
     "data": {
      "text/plain": [
       "0.0898367680309281"
      ]
     },
     "execution_count": 100,
     "metadata": {},
     "output_type": "execute_result"
    }
   ],
   "source": [
    "rand_array.min()"
   ]
  },
  {
   "cell_type": "code",
   "execution_count": 101,
   "id": "1f20a0cf-0720-4b79-99a6-0300b8eb0542",
   "metadata": {},
   "outputs": [
    {
     "data": {
      "text/plain": [
       "array([[0.99219676, 0.9888968 , 0.69134354, 0.19969783, 0.1251357 ,\n",
       "        0.99180389],\n",
       "       [0.29553745, 0.38851664, 0.64114544, 0.42049707, 0.08983677,\n",
       "        0.96296451],\n",
       "       [0.76479232, 0.51676985, 0.34011178, 0.28609599, 0.43281755,\n",
       "        0.25644811],\n",
       "       [0.11430524, 0.67153575, 0.10591391, 0.67561045, 0.89627309,\n",
       "        0.51723956],\n",
       "       [0.47010028, 0.22097116, 0.70405697, 0.93704898, 0.69632513,\n",
       "        0.13492175],\n",
       "       [0.81867772, 0.39068512, 0.29531944, 0.10790354, 0.4236894 ,\n",
       "        0.12254827],\n",
       "       [0.54674843, 0.82443896, 0.94028123, 0.43772696, 0.45541342,\n",
       "        0.56204487]])"
      ]
     },
     "execution_count": 101,
     "metadata": {},
     "output_type": "execute_result"
    }
   ],
   "source": [
    "rand_array.T"
   ]
  },
  {
   "cell_type": "code",
   "execution_count": 102,
   "id": "358c74a0-e878-43a4-b170-9b6bf417b277",
   "metadata": {},
   "outputs": [],
   "source": [
    "### create an array from 10 to 20\n",
    "sample_array=np.arange(10,21)"
   ]
  },
  {
   "cell_type": "code",
   "execution_count": 103,
   "id": "fed90d7d-c81e-4295-b832-356afed02005",
   "metadata": {},
   "outputs": [
    {
     "data": {
      "text/plain": [
       "array([10, 11, 12, 13, 14, 15, 16, 17, 18, 19, 20])"
      ]
     },
     "execution_count": 103,
     "metadata": {},
     "output_type": "execute_result"
    }
   ],
   "source": [
    "sample_array"
   ]
  },
  {
   "cell_type": "code",
   "execution_count": 104,
   "id": "ada5db42-fc5a-4672-9606-f3ce9dbb18e7",
   "metadata": {},
   "outputs": [
    {
     "data": {
      "text/plain": [
       "10"
      ]
     },
     "execution_count": 104,
     "metadata": {},
     "output_type": "execute_result"
    }
   ],
   "source": [
    "sample_array[0]"
   ]
  },
  {
   "cell_type": "code",
   "execution_count": 105,
   "id": "5e1e30c3-5331-42bd-8ccb-0d362a7fec7e",
   "metadata": {},
   "outputs": [
    {
     "data": {
      "text/plain": [
       "15"
      ]
     },
     "execution_count": 105,
     "metadata": {},
     "output_type": "execute_result"
    }
   ],
   "source": [
    "sample_array[5]"
   ]
  },
  {
   "cell_type": "code",
   "execution_count": 106,
   "id": "c81c900e-5c35-4b1b-b9db-ea61d99345ed",
   "metadata": {},
   "outputs": [
    {
     "ename": "IndexError",
     "evalue": "index 100 is out of bounds for axis 0 with size 11",
     "output_type": "error",
     "traceback": [
      "\u001b[1;31m---------------------------------------------------------------------------\u001b[0m",
      "\u001b[1;31mIndexError\u001b[0m                                Traceback (most recent call last)",
      "Cell \u001b[1;32mIn[106], line 1\u001b[0m\n\u001b[1;32m----> 1\u001b[0m sample_array[\u001b[38;5;241m100\u001b[39m]\n",
      "\u001b[1;31mIndexError\u001b[0m: index 100 is out of bounds for axis 0 with size 11"
     ]
    }
   ],
   "source": [
    "sample_array[100]"
   ]
  },
  {
   "cell_type": "code",
   "execution_count": 107,
   "id": "f4797a06-7563-4d80-8e60-c9b65eef8c2c",
   "metadata": {},
   "outputs": [
    {
     "data": {
      "text/plain": [
       "array([10, 11, 12, 13, 14])"
      ]
     },
     "execution_count": 107,
     "metadata": {},
     "output_type": "execute_result"
    }
   ],
   "source": [
    "sample_array[0:5]"
   ]
  },
  {
   "cell_type": "code",
   "execution_count": 108,
   "id": "cf8d59f1-b075-4f01-8b91-014592d94420",
   "metadata": {},
   "outputs": [
    {
     "data": {
      "text/plain": [
       "array([10, 11, 12, 13, 14, 15, 16, 17, 18, 19, 20])"
      ]
     },
     "execution_count": 108,
     "metadata": {},
     "output_type": "execute_result"
    }
   ],
   "source": [
    "sample_array[0:]"
   ]
  },
  {
   "cell_type": "code",
   "execution_count": 109,
   "id": "dbfdd348-a2b0-49ac-b46f-d8b0954c637e",
   "metadata": {},
   "outputs": [
    {
     "data": {
      "text/plain": [
       "array([15, 16, 17, 18, 19, 20])"
      ]
     },
     "execution_count": 109,
     "metadata": {},
     "output_type": "execute_result"
    }
   ],
   "source": [
    "sample_array[5:]"
   ]
  },
  {
   "cell_type": "code",
   "execution_count": 110,
   "id": "cd390912-1593-4f8f-9a54-16b2cc49685a",
   "metadata": {},
   "outputs": [
    {
     "data": {
      "text/plain": [
       "array([20, 19, 18, 17, 16, 15, 14, 13, 12, 11, 10])"
      ]
     },
     "execution_count": 110,
     "metadata": {},
     "output_type": "execute_result"
    }
   ],
   "source": [
    "sample_array[::-1]"
   ]
  },
  {
   "cell_type": "code",
   "execution_count": 111,
   "id": "11c50b35-1759-4ec1-8120-7cd5ae6147f7",
   "metadata": {},
   "outputs": [
    {
     "data": {
      "text/plain": [
       "20"
      ]
     },
     "execution_count": 111,
     "metadata": {},
     "output_type": "execute_result"
    }
   ],
   "source": [
    "sample_array.max()"
   ]
  },
  {
   "cell_type": "code",
   "execution_count": 112,
   "id": "dfcdde59-acb5-4d49-9f97-2d5730878810",
   "metadata": {},
   "outputs": [
    {
     "data": {
      "text/plain": [
       "20"
      ]
     },
     "execution_count": 112,
     "metadata": {},
     "output_type": "execute_result"
    }
   ],
   "source": [
    "np.max(sample_array)"
   ]
  },
  {
   "cell_type": "code",
   "execution_count": 113,
   "id": "b50f6aea-526b-4645-9fcd-1ed9bd513b1e",
   "metadata": {},
   "outputs": [
    {
     "data": {
      "text/plain": [
       "10"
      ]
     },
     "execution_count": 113,
     "metadata": {},
     "output_type": "execute_result"
    }
   ],
   "source": [
    "np.min(sample_array)"
   ]
  },
  {
   "cell_type": "code",
   "execution_count": 114,
   "id": "99497249-8266-4e60-bc10-0bd7fb4532da",
   "metadata": {},
   "outputs": [
    {
     "data": {
      "text/plain": [
       "array([100, 121, 144, 169, 196, 225, 256, 289, 324, 361, 400])"
      ]
     },
     "execution_count": 114,
     "metadata": {},
     "output_type": "execute_result"
    }
   ],
   "source": [
    "np.square(sample_array)"
   ]
  },
  {
   "cell_type": "code",
   "execution_count": 115,
   "id": "ae506808-cb36-4149-875a-9fbf1017ba34",
   "metadata": {},
   "outputs": [
    {
     "data": {
      "text/plain": [
       "array([3.16227766, 3.31662479, 3.46410162, 3.60555128, 3.74165739,\n",
       "       3.87298335, 4.        , 4.12310563, 4.24264069, 4.35889894,\n",
       "       4.47213595])"
      ]
     },
     "execution_count": 115,
     "metadata": {},
     "output_type": "execute_result"
    }
   ],
   "source": [
    "np.sqrt(sample_array)"
   ]
  },
  {
   "cell_type": "code",
   "execution_count": 116,
   "id": "ba1cf79b-0fc1-476c-929f-8659b0530639",
   "metadata": {},
   "outputs": [
    {
     "data": {
      "text/plain": [
       "array([2.30258509, 2.39789527, 2.48490665, 2.56494936, 2.63905733,\n",
       "       2.7080502 , 2.77258872, 2.83321334, 2.89037176, 2.94443898,\n",
       "       2.99573227])"
      ]
     },
     "execution_count": 116,
     "metadata": {},
     "output_type": "execute_result"
    }
   ],
   "source": [
    "np.log(sample_array)"
   ]
  },
  {
   "cell_type": "code",
   "execution_count": 117,
   "id": "39d9c91c-7e39-46c2-996f-6816d43e798c",
   "metadata": {},
   "outputs": [
    {
     "data": {
      "text/plain": [
       "array([2.20264658e+04, 5.98741417e+04, 1.62754791e+05, 4.42413392e+05,\n",
       "       1.20260428e+06, 3.26901737e+06, 8.88611052e+06, 2.41549528e+07,\n",
       "       6.56599691e+07, 1.78482301e+08, 4.85165195e+08])"
      ]
     },
     "execution_count": 117,
     "metadata": {},
     "output_type": "execute_result"
    }
   ],
   "source": [
    "np.exp(sample_array)"
   ]
  },
  {
   "cell_type": "code",
   "execution_count": 118,
   "id": "b098d204-84da-4ff0-b304-d27ff2af4480",
   "metadata": {},
   "outputs": [
    {
     "data": {
      "text/plain": [
       "15.0"
      ]
     },
     "execution_count": 118,
     "metadata": {},
     "output_type": "execute_result"
    }
   ],
   "source": [
    "np.mean(sample_array)"
   ]
  },
  {
   "cell_type": "code",
   "execution_count": 119,
   "id": "99d6c0e9-8450-4c47-b8e2-f1a836922817",
   "metadata": {},
   "outputs": [
    {
     "data": {
      "text/plain": [
       "15.0"
      ]
     },
     "execution_count": 119,
     "metadata": {},
     "output_type": "execute_result"
    }
   ],
   "source": [
    "np.median(sample_array)"
   ]
  },
  {
   "cell_type": "code",
   "execution_count": 120,
   "id": "f81de740-8342-497e-977c-9d307c2aa8bd",
   "metadata": {},
   "outputs": [
    {
     "data": {
      "text/plain": [
       "3.1622776601683795"
      ]
     },
     "execution_count": 120,
     "metadata": {},
     "output_type": "execute_result"
    }
   ],
   "source": [
    "np.std(sample_array)"
   ]
  },
  {
   "cell_type": "code",
   "execution_count": 121,
   "id": "f1ea303e-b7f8-4004-a418-6b81e9ce7e0d",
   "metadata": {},
   "outputs": [
    {
     "data": {
      "text/plain": [
       "10.0"
      ]
     },
     "execution_count": 121,
     "metadata": {},
     "output_type": "execute_result"
    }
   ],
   "source": [
    "np.var(sample_array)"
   ]
  },
  {
   "cell_type": "code",
   "execution_count": 125,
   "id": "576a3d3a-ccc5-41fd-983e-8a238ccc80c6",
   "metadata": {},
   "outputs": [
    {
     "data": {
      "text/plain": [
       "array([[0.99219676, 0.29553745, 0.76479232, 0.11430524, 0.47010028,\n",
       "        0.81867772, 0.54674843],\n",
       "       [0.9888968 , 0.38851664, 0.51676985, 0.67153575, 0.22097116,\n",
       "        0.39068512, 0.82443896],\n",
       "       [0.69134354, 0.64114544, 0.34011178, 0.10591391, 0.70405697,\n",
       "        0.29531944, 0.94028123],\n",
       "       [0.19969783, 0.42049707, 0.28609599, 0.67561045, 0.93704898,\n",
       "        0.10790354, 0.43772696],\n",
       "       [0.1251357 , 0.08983677, 0.43281755, 0.89627309, 0.69632513,\n",
       "        0.4236894 , 0.45541342],\n",
       "       [0.99180389, 0.96296451, 0.25644811, 0.51723956, 0.13492175,\n",
       "        0.12254827, 0.56204487]])"
      ]
     },
     "execution_count": 125,
     "metadata": {},
     "output_type": "execute_result"
    }
   ],
   "source": [
    "rand_array"
   ]
  },
  {
   "cell_type": "code",
   "execution_count": 126,
   "id": "69d4bddc-5f83-4b67-a063-88bc94d9df6b",
   "metadata": {},
   "outputs": [
    {
     "data": {
      "text/plain": [
       "array([[0.992, 0.296, 0.765, 0.114, 0.47 , 0.819, 0.547],\n",
       "       [0.989, 0.389, 0.517, 0.672, 0.221, 0.391, 0.824],\n",
       "       [0.691, 0.641, 0.34 , 0.106, 0.704, 0.295, 0.94 ],\n",
       "       [0.2  , 0.42 , 0.286, 0.676, 0.937, 0.108, 0.438],\n",
       "       [0.125, 0.09 , 0.433, 0.896, 0.696, 0.424, 0.455],\n",
       "       [0.992, 0.963, 0.256, 0.517, 0.135, 0.123, 0.562]])"
      ]
     },
     "execution_count": 126,
     "metadata": {},
     "output_type": "execute_result"
    }
   ],
   "source": [
    "np.round(rand_array,decimals=3)"
   ]
  },
  {
   "cell_type": "code",
   "execution_count": 129,
   "id": "81510f6b-ba6b-4713-a26f-eeb1534f3668",
   "metadata": {},
   "outputs": [
    {
     "data": {
      "text/plain": [
       "array([[23, 15, 27],\n",
       "       [16, 63, 29],\n",
       "       [45, 67, 32]])"
      ]
     },
     "execution_count": 129,
     "metadata": {},
     "output_type": "execute_result"
    }
   ],
   "source": [
    "sample_matrix=np.array([[23,15,27],[16,63,29],[45,67,32]])\n",
    "sample_matrix"
   ]
  },
  {
   "cell_type": "code",
   "execution_count": 130,
   "id": "f77b30c6-12c3-4fdc-8bdc-198e6857473d",
   "metadata": {},
   "outputs": [
    {
     "data": {
      "text/plain": [
       "array([23, 15, 27])"
      ]
     },
     "execution_count": 130,
     "metadata": {},
     "output_type": "execute_result"
    }
   ],
   "source": [
    "sample_matrix[0]"
   ]
  },
  {
   "cell_type": "code",
   "execution_count": 131,
   "id": "95145252-b78d-46e8-9cca-4ff384fb8408",
   "metadata": {},
   "outputs": [
    {
     "data": {
      "text/plain": [
       "29"
      ]
     },
     "execution_count": 131,
     "metadata": {},
     "output_type": "execute_result"
    }
   ],
   "source": [
    "sample_matrix[1,2]"
   ]
  },
  {
   "cell_type": "code",
   "execution_count": 133,
   "id": "42c792de-90b9-4d3c-9ada-0db9e0825d54",
   "metadata": {},
   "outputs": [
    {
     "data": {
      "text/plain": [
       "array([45, 67, 32])"
      ]
     },
     "execution_count": 133,
     "metadata": {},
     "output_type": "execute_result"
    }
   ],
   "source": [
    "sample_matrix[2,:]"
   ]
  },
  {
   "cell_type": "code",
   "execution_count": 134,
   "id": "2b1c9625-98df-453e-98ca-bfa2e466089f",
   "metadata": {},
   "outputs": [
    {
     "data": {
      "text/plain": [
       "array([23, 16, 45])"
      ]
     },
     "execution_count": 134,
     "metadata": {},
     "output_type": "execute_result"
    }
   ],
   "source": [
    "sample_matrix[:,0]"
   ]
  },
  {
   "cell_type": "code",
   "execution_count": 137,
   "id": "72678227-d3f0-4797-bd6c-f0c50ab6fcb3",
   "metadata": {},
   "outputs": [
    {
     "data": {
      "text/plain": [
       "array([[27, 15],\n",
       "       [29, 63],\n",
       "       [32, 67]])"
      ]
     },
     "execution_count": 137,
     "metadata": {},
     "output_type": "execute_result"
    }
   ],
   "source": [
    "sample_matrix[:,(2,1)]"
   ]
  },
  {
   "cell_type": "code",
   "execution_count": 139,
   "id": "6998c99f-266e-47ba-9bdc-79ec9e9c183b",
   "metadata": {},
   "outputs": [
    {
     "data": {
      "text/plain": [
       "array([[ 529,  225,  729],\n",
       "       [ 256, 3969,  841],\n",
       "       [2025, 4489, 1024]])"
      ]
     },
     "execution_count": 139,
     "metadata": {},
     "output_type": "execute_result"
    }
   ],
   "source": [
    "np.square(sample_matrix)"
   ]
  },
  {
   "cell_type": "code",
   "execution_count": 140,
   "id": "a13f6317-21cc-4041-a668-f5f111348e13",
   "metadata": {},
   "outputs": [
    {
     "data": {
      "text/plain": [
       "array(['golf', 'cricket', 'football', 'Cricket', 'fball', 'cricket'],\n",
       "      dtype='<U8')"
      ]
     },
     "execution_count": 140,
     "metadata": {},
     "output_type": "execute_result"
    }
   ],
   "source": [
    "sports=np.array([\"golf\",\"cricket\",\"football\",\"Cricket\",\"fball\",\"cricket\"])\n",
    "sports"
   ]
  },
  {
   "cell_type": "code",
   "execution_count": 142,
   "id": "c39020a8-d5a9-459f-b47c-e2cfea2a2685",
   "metadata": {},
   "outputs": [
    {
     "ename": "AttributeError",
     "evalue": "'numpy.ndarray' object has no attribute 'unique'",
     "output_type": "error",
     "traceback": [
      "\u001b[1;31m---------------------------------------------------------------------------\u001b[0m",
      "\u001b[1;31mAttributeError\u001b[0m                            Traceback (most recent call last)",
      "Cell \u001b[1;32mIn[142], line 1\u001b[0m\n\u001b[1;32m----> 1\u001b[0m sports\u001b[38;5;241m.\u001b[39munique()\n",
      "\u001b[1;31mAttributeError\u001b[0m: 'numpy.ndarray' object has no attribute 'unique'"
     ]
    }
   ],
   "source": [
    "sports.unique()"
   ]
  },
  {
   "cell_type": "code",
   "execution_count": 147,
   "id": "602395ac-1903-4a30-9981-d592f13f3c4b",
   "metadata": {},
   "outputs": [
    {
     "data": {
      "text/plain": [
       "array(['Cricket', 'cricket', 'fball', 'football', 'golf'], dtype='<U8')"
      ]
     },
     "execution_count": 147,
     "metadata": {},
     "output_type": "execute_result"
    }
   ],
   "source": [
    "np.unique(sports)"
   ]
  },
  {
   "cell_type": "code",
   "execution_count": 148,
   "id": "613f4ac6-a1f9-47b6-8c93-a48b9831dce3",
   "metadata": {},
   "outputs": [
    {
     "ename": "AttributeError",
     "evalue": "module 'numpy' has no attribute 'nunique'",
     "output_type": "error",
     "traceback": [
      "\u001b[1;31m---------------------------------------------------------------------------\u001b[0m",
      "\u001b[1;31mAttributeError\u001b[0m                            Traceback (most recent call last)",
      "Cell \u001b[1;32mIn[148], line 1\u001b[0m\n\u001b[1;32m----> 1\u001b[0m np\u001b[38;5;241m.\u001b[39mnunique(sports)\n",
      "File \u001b[1;32m~\\anaconda3\\Lib\\site-packages\\numpy\\__init__.py:333\u001b[0m, in \u001b[0;36m__getattr__\u001b[1;34m(attr)\u001b[0m\n\u001b[0;32m    330\u001b[0m     \u001b[38;5;124m\"\u001b[39m\u001b[38;5;124mRemoved in NumPy 1.25.0\u001b[39m\u001b[38;5;124m\"\u001b[39m\n\u001b[0;32m    331\u001b[0m     \u001b[38;5;28;01mraise\u001b[39;00m \u001b[38;5;167;01mRuntimeError\u001b[39;00m(\u001b[38;5;124m\"\u001b[39m\u001b[38;5;124mTester was removed in NumPy 1.25.\u001b[39m\u001b[38;5;124m\"\u001b[39m)\n\u001b[1;32m--> 333\u001b[0m \u001b[38;5;28;01mraise\u001b[39;00m \u001b[38;5;167;01mAttributeError\u001b[39;00m(\u001b[38;5;124m\"\u001b[39m\u001b[38;5;124mmodule \u001b[39m\u001b[38;5;132;01m{!r}\u001b[39;00m\u001b[38;5;124m has no attribute \u001b[39m\u001b[38;5;124m\"\u001b[39m\n\u001b[0;32m    334\u001b[0m                      \u001b[38;5;124m\"\u001b[39m\u001b[38;5;132;01m{!r}\u001b[39;00m\u001b[38;5;124m\"\u001b[39m\u001b[38;5;241m.\u001b[39mformat(\u001b[38;5;18m__name__\u001b[39m, attr))\n",
      "\u001b[1;31mAttributeError\u001b[0m: module 'numpy' has no attribute 'nunique'"
     ]
    }
   ],
   "source": [
    "np.nunique(sports)"
   ]
  },
  {
   "cell_type": "code",
   "execution_count": 149,
   "id": "4d00f223-2a86-4eda-908b-303b7c3bd7b9",
   "metadata": {},
   "outputs": [
    {
     "ename": "AttributeError",
     "evalue": "'numpy.ndarray' object has no attribute 'nunique'",
     "output_type": "error",
     "traceback": [
      "\u001b[1;31m---------------------------------------------------------------------------\u001b[0m",
      "\u001b[1;31mAttributeError\u001b[0m                            Traceback (most recent call last)",
      "Cell \u001b[1;32mIn[149], line 1\u001b[0m\n\u001b[1;32m----> 1\u001b[0m sports\u001b[38;5;241m.\u001b[39mnunique()\n",
      "\u001b[1;31mAttributeError\u001b[0m: 'numpy.ndarray' object has no attribute 'nunique'"
     ]
    }
   ],
   "source": [
    "sports.nunique()"
   ]
  },
  {
   "cell_type": "code",
   "execution_count": 150,
   "id": "8513e434-e353-447f-86d1-e28cbf98f8d2",
   "metadata": {},
   "outputs": [
    {
     "data": {
      "text/plain": [
       "5"
      ]
     },
     "execution_count": 150,
     "metadata": {},
     "output_type": "execute_result"
    }
   ],
   "source": [
    " len(np.unique(sports))"
   ]
  },
  {
   "cell_type": "markdown",
   "id": "a8c45a24-1cbe-4752-975d-1a0ceabcd596",
   "metadata": {},
   "source": [
    "### Python Flow Controls"
   ]
  },
  {
   "cell_type": "markdown",
   "id": "88472d42-3b38-45ec-826c-087dd8b9a3a0",
   "metadata": {},
   "source": [
    "#### Conditional statements"
   ]
  },
  {
   "cell_type": "code",
   "execution_count": 151,
   "id": "dd737b5c-ede0-46ff-846f-4c10ed588fcd",
   "metadata": {},
   "outputs": [
    {
     "name": "stdout",
     "output_type": "stream",
     "text": [
      "8 is greater than zero\n"
     ]
    }
   ],
   "source": [
    "number=8\n",
    "\n",
    "if number>0:\n",
    "    print(number,\"is greater than zero\")"
   ]
  },
  {
   "cell_type": "code",
   "execution_count": 155,
   "id": "abda37a8-3cb5-46e0-9e5b-9397f590ff47",
   "metadata": {},
   "outputs": [],
   "source": [
    "number=0\n",
    "\n",
    "if number>0:\n",
    "    print(number,\"is greater than zero\")"
   ]
  },
  {
   "cell_type": "code",
   "execution_count": 156,
   "id": "77758842-e1cd-4fa8-8bb0-4a50fd7f5de6",
   "metadata": {},
   "outputs": [
    {
     "name": "stdout",
     "output_type": "stream",
     "text": [
      "-3 is lesser than zero\n"
     ]
    }
   ],
   "source": [
    "number=-3\n",
    "\n",
    "if number<0:\n",
    "    print(number,\"is lesser than zero\")"
   ]
  },
  {
   "cell_type": "code",
   "execution_count": 158,
   "id": "6183c336-2f71-444b-bc16-0c13464a7f61",
   "metadata": {},
   "outputs": [],
   "source": [
    "number=0\n",
    "\n",
    "if number<0:\n",
    "    print(number,\"is lesser than zero\")"
   ]
  },
  {
   "cell_type": "code",
   "execution_count": 160,
   "id": "347bac57-5396-42a0-8d6b-64ee2a63e847",
   "metadata": {},
   "outputs": [
    {
     "name": "stdout",
     "output_type": "stream",
     "text": [
      "-5 is lesser than zero\n"
     ]
    }
   ],
   "source": [
    "number=-5\n",
    "\n",
    "if number>0:\n",
    "    print(number,\"is greater than zero\")\n",
    "else:\n",
    "    print(number,\"is lesser than zero\")"
   ]
  },
  {
   "cell_type": "code",
   "execution_count": 163,
   "id": "51b96557-9760-41eb-9596-f0cfac391d7c",
   "metadata": {},
   "outputs": [
    {
     "name": "stdout",
     "output_type": "stream",
     "text": [
      "-5.6 is lesser than zero\n"
     ]
    }
   ],
   "source": [
    "number=-5.6\n",
    "\n",
    "if number>0:\n",
    "    print(number,\"is greater than zero\")\n",
    "else:\n",
    "    print(number,\"is lesser than zero\")"
   ]
  },
  {
   "cell_type": "code",
   "execution_count": 168,
   "id": "dcbfa8b5-7f84-43f7-8f15-d65d2f93ca5e",
   "metadata": {},
   "outputs": [
    {
     "name": "stdout",
     "output_type": "stream",
     "text": [
      "0.0 is equal to zero\n"
     ]
    }
   ],
   "source": [
    "number=0.0\n",
    "\n",
    "if number>0:\n",
    "    print(number,\"is greater than zero\")\n",
    "elif number==0:\n",
    "    print(number,\"is equal to zero\")\n",
    "else:\n",
    "    print(number,\"is lesser than zero\")"
   ]
  },
  {
   "cell_type": "code",
   "execution_count": 182,
   "id": "31c27600-9d93-4cac-ae09-3b312d231592",
   "metadata": {},
   "outputs": [
    {
     "name": "stdout",
     "output_type": "stream",
     "text": [
      "Entry fee is 20\n"
     ]
    }
   ],
   "source": [
    "age=10\n",
    "\n",
    "if 0<age<=3:\n",
    "    print(\"No fare\")\n",
    "elif 3<age<=10:\n",
    "    print(\"Entry fee is 20\")\n",
    "elif 10<age<=20:\n",
    "    print(\"Entry fee is 25\")\n",
    "else:\n",
    "    print(\"Entry fee is 30\")"
   ]
  },
  {
   "cell_type": "code",
   "execution_count": 186,
   "id": "718a6680-5239-4338-9b25-c4ad239148a7",
   "metadata": {},
   "outputs": [
    {
     "name": "stdout",
     "output_type": "stream",
     "text": [
      "The given number is odd\n"
     ]
    }
   ],
   "source": [
    "number=-11\n",
    "\n",
    "if number %2==0:\n",
    "    print(\"The given number is even\")\n",
    "else:\n",
    "    print(\"The given number is odd\")"
   ]
  },
  {
   "cell_type": "code",
   "execution_count": 187,
   "id": "59a4a28a-eede-4486-a556-60498ed09e54",
   "metadata": {},
   "outputs": [
    {
     "name": "stdout",
     "output_type": "stream",
     "text": [
      "b is greater than a\n"
     ]
    }
   ],
   "source": [
    "a=10\n",
    "b=12\n",
    "\n",
    "if a>b:\n",
    "    print(\"a is greater than b\")\n",
    "else:\n",
    "    print(\"b is greater than a\")"
   ]
  },
  {
   "cell_type": "code",
   "execution_count": null,
   "id": "9b6e9110-14f8-41f8-b727-623f17b5dfff",
   "metadata": {},
   "outputs": [],
   "source": [
    "### Write a program to find whether the person is eligible to vote\n",
    "### Write a program to check whether the gn char is a vowel or not"
   ]
  },
  {
   "cell_type": "code",
   "execution_count": 191,
   "id": "106f77cd-7177-49f1-894d-92773faf353f",
   "metadata": {},
   "outputs": [
    {
     "name": "stdout",
     "output_type": "stream",
     "text": [
      "The character is a vowel\n"
     ]
    }
   ],
   "source": [
    "char=\"A\"\n",
    "\n",
    "if char in \"aeiouAEIOU\":\n",
    "    print(\"The character is a vowel\")\n",
    "else:\n",
    "    print(\"The character is not a vowel\")"
   ]
  },
  {
   "cell_type": "code",
   "execution_count": null,
   "id": "c4f81be8-ae11-4854-8096-733d32cdfe14",
   "metadata": {},
   "outputs": [],
   "source": [
    "### Write a program to check whether the triangle is equilateral,isoceles or scalene triangle\n",
    "a=20\n",
    "b=10\n",
    "c=20\n",
    "if a==b==c:\n",
    "    print(\"Equilateral Triangle\")\n",
    "elif a==b or b==c or a==c:\n",
    "    print(\"isoceles triangle\")\n",
    "else:\n",
    "    print(\"Scalene\")"
   ]
  },
  {
   "cell_type": "code",
   "execution_count": null,
   "id": "01682f4b-6afb-460c-99bf-d8d3fc83e19a",
   "metadata": {},
   "outputs": [],
   "source": [
    "a=float(input(\"Enter first side of the traingle\"))\n",
    "b=float(input(\"Enter second side of the traingle\"))\n",
    "c=float(input(\"Enter third side of the traingle\"))\n",
    "\n",
    "if a==b==c:\n",
    "    print(\"Equilateral Triangle\")\n",
    "elif a==b or b==c or a==c:\n",
    "    print(\"isoceles triangle\")\n",
    "else:\n",
    "    print(\"Scalene\")"
   ]
  },
  {
   "cell_type": "code",
   "execution_count": 194,
   "id": "8511925d-2e62-4031-859d-c359e3e74c22",
   "metadata": {},
   "outputs": [
    {
     "name": "stdout",
     "output_type": "stream",
     "text": [
      "44  is not divisible by both 5 and 11\n"
     ]
    }
   ],
   "source": [
    "### Write a program to check whether the number is divisible by both 5 and 11\n",
    "\n",
    "number=44\n",
    "\n",
    "if number%5==0 and number%11==0:\n",
    "    print(number,\" is divisible by both 5 and 11\") \n",
    "else :\n",
    "    print(number,\" is not divisible by both 5 and 11\")"
   ]
  },
  {
   "cell_type": "code",
   "execution_count": 198,
   "id": "524e3c5e-2748-43dd-8f87-86e212e94a4b",
   "metadata": {},
   "outputs": [
    {
     "name": "stdout",
     "output_type": "stream",
     "text": [
      "400  is the greatest\n"
     ]
    }
   ],
   "source": [
    "### Check the largest among the three given numbers\n",
    "\n",
    "number1 = 20 \n",
    "number2 = 400\n",
    "number3 = 400\n",
    "\n",
    "list1 = [number1,number2,number3] \n",
    "max(list1)\n",
    "\n",
    "if number1 > number2 and number1 > number3 :\n",
    "    print(number1,\" is the greatest\")\n",
    "elif number2 > number1 and number2 > number3 :\n",
    "    print(number2,\" is the greatest\") \n",
    "else :\n",
    "    print(number3,\" is the greatest\")"
   ]
  },
  {
   "cell_type": "code",
   "execution_count": 199,
   "id": "cf6038ab-0357-4713-8439-28cc720b2eba",
   "metadata": {},
   "outputs": [
    {
     "data": {
      "text/plain": [
       "array([1, 2, 3, 4, 5])"
      ]
     },
     "execution_count": 199,
     "metadata": {},
     "output_type": "execute_result"
    }
   ],
   "source": [
    "### Print 1 2 3 4 5\n",
    "np.arange(1,6)"
   ]
  },
  {
   "cell_type": "code",
   "execution_count": 200,
   "id": "f8a07fc7-ffe6-4997-8a9a-9abb6680d01e",
   "metadata": {},
   "outputs": [
    {
     "name": "stdout",
     "output_type": "stream",
     "text": [
      "1\n",
      "2\n",
      "3\n",
      "4\n",
      "5\n"
     ]
    }
   ],
   "source": [
    "### Loops\n",
    "for i in range(1,6):\n",
    "    print(i)"
   ]
  },
  {
   "cell_type": "code",
   "execution_count": 201,
   "id": "c1377532-8480-4fd3-8422-9251a96f2508",
   "metadata": {},
   "outputs": [
    {
     "data": {
      "text/plain": [
       "array([1, 3, 5, 7, 9])"
      ]
     },
     "execution_count": 201,
     "metadata": {},
     "output_type": "execute_result"
    }
   ],
   "source": [
    "np.arange(1,10,2)"
   ]
  },
  {
   "cell_type": "code",
   "execution_count": 202,
   "id": "54bb6532-fd78-4666-99c3-057d85581adb",
   "metadata": {},
   "outputs": [
    {
     "name": "stdout",
     "output_type": "stream",
     "text": [
      "1\n",
      "3\n",
      "5\n",
      "7\n",
      "9\n"
     ]
    }
   ],
   "source": [
    "for i in range(1,11,2):\n",
    "    print(i)"
   ]
  },
  {
   "cell_type": "code",
   "execution_count": 203,
   "id": "3738304a-8dbb-4b84-8d96-acbf2612c383",
   "metadata": {},
   "outputs": [
    {
     "name": "stdout",
     "output_type": "stream",
     "text": [
      "2\n",
      "4\n",
      "6\n",
      "8\n",
      "10\n",
      "12\n",
      "14\n",
      "16\n",
      "18\n",
      "20\n",
      "22\n",
      "24\n",
      "26\n",
      "28\n",
      "30\n",
      "32\n",
      "34\n",
      "36\n",
      "38\n",
      "40\n",
      "42\n",
      "44\n",
      "46\n",
      "48\n",
      "50\n"
     ]
    }
   ],
   "source": [
    "for i in range(2,51,2):\n",
    "    print(i)"
   ]
  },
  {
   "cell_type": "code",
   "execution_count": 204,
   "id": "909f48c5-13e5-4c4b-a06a-3f4b171531ae",
   "metadata": {},
   "outputs": [
    {
     "name": "stdout",
     "output_type": "stream",
     "text": [
      "2\n",
      "4\n",
      "6\n",
      "8\n",
      "10\n",
      "12\n",
      "14\n",
      "16\n",
      "18\n",
      "20\n",
      "22\n",
      "24\n",
      "26\n",
      "28\n",
      "30\n",
      "32\n",
      "34\n",
      "36\n",
      "38\n",
      "40\n",
      "42\n",
      "44\n",
      "46\n",
      "48\n",
      "50\n"
     ]
    }
   ],
   "source": [
    "for i in range(1,51):\n",
    "    if i%2==0:\n",
    "        print(i)"
   ]
  },
  {
   "cell_type": "code",
   "execution_count": 205,
   "id": "040a6d45-5da2-436f-9da8-8c9cb0ed03dc",
   "metadata": {},
   "outputs": [
    {
     "name": "stdout",
     "output_type": "stream",
     "text": [
      "5\n",
      "10\n",
      "15\n",
      "20\n",
      "25\n",
      "30\n",
      "35\n",
      "40\n",
      "45\n",
      "50\n",
      "55\n",
      "60\n"
     ]
    }
   ],
   "source": [
    "for i in range(5,61):\n",
    "    if i %5==0:\n",
    "        print(i)"
   ]
  },
  {
   "cell_type": "code",
   "execution_count": 206,
   "id": "c42e60b1-0f6c-4fe7-a6e4-042da8eddc9f",
   "metadata": {},
   "outputs": [
    {
     "name": "stdout",
     "output_type": "stream",
     "text": [
      "5\n",
      "10\n",
      "15\n",
      "20\n",
      "25\n",
      "30\n",
      "35\n",
      "40\n",
      "45\n",
      "50\n",
      "55\n",
      "60\n"
     ]
    }
   ],
   "source": [
    "for i in range(5,61,5):\n",
    "      print(i)"
   ]
  },
  {
   "cell_type": "code",
   "execution_count": 207,
   "id": "94893c58-6d30-4093-bde0-82df67cc337f",
   "metadata": {},
   "outputs": [
    {
     "name": "stdout",
     "output_type": "stream",
     "text": [
      "5\n",
      "10\n",
      "15\n",
      "20\n",
      "25\n",
      "30\n",
      "35\n",
      "40\n",
      "45\n",
      "50\n",
      "55\n",
      "60\n"
     ]
    }
   ],
   "source": [
    "for i in range(1,13):\n",
    "    print(i*5)"
   ]
  },
  {
   "cell_type": "code",
   "execution_count": 208,
   "id": "83e4831f-8f12-4e11-b76f-a1ba0465b42d",
   "metadata": {},
   "outputs": [
    {
     "data": {
      "text/plain": [
       "array([ 5, 10, 15, 20, 25, 30, 35, 40, 45, 50, 55, 60])"
      ]
     },
     "execution_count": 208,
     "metadata": {},
     "output_type": "execute_result"
    }
   ],
   "source": [
    "np.arange(5,61,5)"
   ]
  },
  {
   "cell_type": "code",
   "execution_count": 209,
   "id": "e0b9cc4e-1597-4c7f-94b5-35137c52d248",
   "metadata": {},
   "outputs": [
    {
     "name": "stdout",
     "output_type": "stream",
     "text": [
      "55\n"
     ]
    }
   ],
   "source": [
    "### Summation\n",
    "\n",
    "sum=0\n",
    "for i in range(1,11):\n",
    "    sum=sum+i\n",
    "print(sum)"
   ]
  },
  {
   "cell_type": "code",
   "execution_count": 210,
   "id": "2e27997a-ff84-4dd6-996e-2795fa213fc9",
   "metadata": {},
   "outputs": [
    {
     "name": "stdout",
     "output_type": "stream",
     "text": [
      "30\n"
     ]
    }
   ],
   "source": [
    "sum=0\n",
    "\n",
    "for i in range(2,11,2):\n",
    "    sum=sum+i\n",
    "print(sum)"
   ]
  },
  {
   "cell_type": "code",
   "execution_count": 211,
   "id": "b5ef2a08-a5fc-4ff1-8cf1-35587104c853",
   "metadata": {},
   "outputs": [
    {
     "name": "stdout",
     "output_type": "stream",
     "text": [
      "1\n",
      "2\n",
      "3\n",
      "4\n",
      "5\n"
     ]
    }
   ],
   "source": [
    "## print numbers from 1 to 5\n",
    "for i in range(1,6):\n",
    "    print(i)"
   ]
  },
  {
   "cell_type": "code",
   "execution_count": 212,
   "id": "245feafa-9c94-440d-bd23-acaff4df6ba1",
   "metadata": {},
   "outputs": [
    {
     "name": "stdout",
     "output_type": "stream",
     "text": [
      "1\n",
      "2\n",
      "3\n",
      "4\n",
      "5\n"
     ]
    }
   ],
   "source": [
    "count=1\n",
    "\n",
    "while count<=5:\n",
    "    print(count)\n",
    "    count+=1"
   ]
  },
  {
   "cell_type": "code",
   "execution_count": 213,
   "id": "f123399d-6d8e-42e1-8e4f-88fac2179f41",
   "metadata": {},
   "outputs": [
    {
     "name": "stdout",
     "output_type": "stream",
     "text": [
      "hello\n",
      "hello\n",
      "hello\n"
     ]
    }
   ],
   "source": [
    "count=0\n",
    "\n",
    "while count<3:\n",
    "    print(\"hello\")\n",
    "    count+=1"
   ]
  },
  {
   "cell_type": "code",
   "execution_count": 214,
   "id": "720b27f0-5734-4d57-9f26-c1f0c301ceee",
   "metadata": {},
   "outputs": [
    {
     "name": "stdout",
     "output_type": "stream",
     "text": [
      "5\n",
      "4\n",
      "3\n",
      "2\n",
      "1\n"
     ]
    }
   ],
   "source": [
    "### Print 5 4 3 2 1 using while loop\n",
    "count=5\n",
    "\n",
    "while count>=1:\n",
    "    print(count)\n",
    "    count-=1"
   ]
  },
  {
   "cell_type": "code",
   "execution_count": 219,
   "id": "77ed88cf-92a0-47eb-9319-05888307e838",
   "metadata": {},
   "outputs": [
    {
     "name": "stdout",
     "output_type": "stream",
     "text": [
      "D\n",
      "a\n",
      "t\n",
      "a\n",
      "s\n",
      "c\n",
      "i\n"
     ]
    }
   ],
   "source": [
    "text=\"Datascience\"\n",
    "\n",
    "for letter in text:\n",
    "    if letter==\"e\":\n",
    "        break\n",
    "    print(letter)\n",
    "    "
   ]
  },
  {
   "cell_type": "code",
   "execution_count": 218,
   "id": "e697bd30-4041-473b-a8f7-302dcabd850e",
   "metadata": {},
   "outputs": [
    {
     "name": "stdout",
     "output_type": "stream",
     "text": [
      "D\n",
      "a\n",
      "t\n",
      "a\n",
      "s\n",
      "c\n",
      "i\n",
      "The loop skipped a space here\n",
      "n\n",
      "c\n",
      "The loop skipped a space here\n"
     ]
    }
   ],
   "source": [
    "text=\"Datascience\"\n",
    "\n",
    "for letter in text:\n",
    "    if letter==\"e\":\n",
    "        print(\"The loop skipped a space here\")\n",
    "        continue\n",
    "    print(letter)"
   ]
  },
  {
   "cell_type": "markdown",
   "id": "4e7f0dfe-191e-4593-9ec5-3f05c79f44bd",
   "metadata": {},
   "source": [
    "#### Self-Assessment 4:\n",
    "#### https://github.com/Premalatha-success/TIAA_batch1_nov/blob/main/Worksheet_dict.docx"
   ]
  },
  {
   "cell_type": "code",
   "execution_count": null,
   "id": "9b9854ca-bb00-4f01-84a2-9ede62a4fab3",
   "metadata": {},
   "outputs": [],
   "source": [
    "Worksheet: Dictionary Hands-On Exercises\n",
    "1. Create and Access a Dictionary\n",
    "   - Create a dictionary called `student` with the following key-value pairs:\n",
    "     Name: 'John Doe'\n",
    "     Age: 21\n",
    "     Subjects: ['Math', 'Science', 'History']\n",
    "   - Access and print:\n",
    "     - The name of the student.\n",
    "     - The age of the student.\n",
    "     - The second subject in the `Subjects` list.\n",
    "\n",
    "2. Update and Add Items\n",
    "   - Update the `Age` of the student to 22.\n",
    "   - Add a new key-value pair: `Grade: 'A'`.\n",
    "   - Print the updated dictionary.\n",
    "\n",
    "3. Remove an Item\n",
    "   - Remove the `Subjects` key from the `student` dictionary.\n",
    "   - Print the modified dictionary.\n",
    "\n",
    "4. Iterating Through a Dictionary\n",
    "   - Using a `for` loop, iterate over the `student` dictionary to print keys and their corresponding values in the format:\n",
    "     Key: Value\n",
    "\n",
    "5. Using Dictionary Methods\n",
    "   - Use the `keys()`, `values()`, and `items()` methods on the `student` dictionary and print the results.\n",
    "\n",
    "---\n",
    "\n",
    "\n",
    "6. Nested Dictionaries\n",
    "   - Create a nested dictionary called `classroom` with the following structure:\n",
    "     {\n",
    "         'Student1': {'Name': 'Alice', 'Age': 20, 'Subjects': ['English', 'Biology']},\n",
    "         'Student2': {'Name': 'Bob', 'Age': 22, 'Subjects': ['Math', 'Chemistry']},\n",
    "         'Student3': {'Name': 'Charlie', 'Age': 21, 'Subjects': ['History', 'Physics']}\n",
    "     }\n",
    "   - Access and print:\n",
    "     - The name of `Student2`.\n",
    "     - The subjects of `Student3`.\n",
    "\n",
    "7. Merge Two Dictionaries\n",
    "   - Given two dictionaries:\n",
    "     dict1 = {'a': 1, 'b': 2}\n",
    "     dict2 = {'b': 3, 'c': 4}\n",
    "   - Merge them into one dictionary such that if a key exists in both, its value in the resulting dictionary is the sum of the values.\n",
    "     Expected output:\n",
    "     {'a': 1, 'b': 5, 'c': 4}\n",
    "\n",
    "8. i) Check whether “a” in dict 1 as a key\n",
    "ii) Check whether 4 in dict2 as a value\n"
   ]
  },
  {
   "cell_type": "code",
   "execution_count": 220,
   "id": "d75baabf-496d-4589-bbd1-ff1e1f9f525d",
   "metadata": {},
   "outputs": [],
   "source": [
    "student={ \"Name\": 'John Doe',\"Age\": 21,\"Subjects\": ['Math', 'Science', 'History']}"
   ]
  },
  {
   "cell_type": "code",
   "execution_count": 221,
   "id": "777a2dc1-d64d-4546-986c-a6e0314efa5c",
   "metadata": {},
   "outputs": [
    {
     "data": {
      "text/plain": [
       "{'Name': 'John Doe', 'Age': 21, 'Subjects': ['Math', 'Science', 'History']}"
      ]
     },
     "execution_count": 221,
     "metadata": {},
     "output_type": "execute_result"
    }
   ],
   "source": [
    "student"
   ]
  },
  {
   "cell_type": "code",
   "execution_count": 223,
   "id": "74e506cb-67bc-4731-b4b3-2172117e8763",
   "metadata": {},
   "outputs": [
    {
     "data": {
      "text/plain": [
       "'John Doe'"
      ]
     },
     "execution_count": 223,
     "metadata": {},
     "output_type": "execute_result"
    }
   ],
   "source": [
    "student[\"Name\"]"
   ]
  },
  {
   "cell_type": "code",
   "execution_count": 224,
   "id": "11f5f483-8c17-477e-9861-d180e0d09523",
   "metadata": {},
   "outputs": [
    {
     "data": {
      "text/plain": [
       "21"
      ]
     },
     "execution_count": 224,
     "metadata": {},
     "output_type": "execute_result"
    }
   ],
   "source": [
    "student[\"Age\"]"
   ]
  },
  {
   "cell_type": "code",
   "execution_count": 226,
   "id": "d0276d50-6ff6-4ab1-b6e4-f618c36e4cbc",
   "metadata": {},
   "outputs": [
    {
     "data": {
      "text/plain": [
       "'Science'"
      ]
     },
     "execution_count": 226,
     "metadata": {},
     "output_type": "execute_result"
    }
   ],
   "source": [
    "student[\"Subjects\"][1]"
   ]
  },
  {
   "cell_type": "code",
   "execution_count": 227,
   "id": "e17cc5e4-b005-455c-a3d6-d15aaabe9598",
   "metadata": {},
   "outputs": [],
   "source": [
    "student[\"Age\"]=22"
   ]
  },
  {
   "cell_type": "code",
   "execution_count": 228,
   "id": "6cffc65f-669d-4941-a119-5a328784ce3f",
   "metadata": {},
   "outputs": [
    {
     "data": {
      "text/plain": [
       "{'Name': 'John Doe', 'Age': 22, 'Subjects': ['Math', 'Science', 'History']}"
      ]
     },
     "execution_count": 228,
     "metadata": {},
     "output_type": "execute_result"
    }
   ],
   "source": [
    "student"
   ]
  },
  {
   "cell_type": "code",
   "execution_count": 229,
   "id": "09226245-b159-4003-b3fc-aeab88b6c155",
   "metadata": {},
   "outputs": [
    {
     "data": {
      "text/plain": [
       "{'Name': 'John Doe',\n",
       " 'Age': 22,\n",
       " 'Subjects': ['Math', 'Science', 'History'],\n",
       " 'Grade': 'A'}"
      ]
     },
     "execution_count": 229,
     "metadata": {},
     "output_type": "execute_result"
    }
   ],
   "source": [
    "student[\"Grade\"]=\"A\"\n",
    "student"
   ]
  },
  {
   "cell_type": "code",
   "execution_count": 230,
   "id": "26b791c3-3497-49be-ba27-a7ebde840965",
   "metadata": {},
   "outputs": [
    {
     "data": {
      "text/plain": [
       "{'Name': 'John Doe', 'Age': 22, 'Grade': 'A'}"
      ]
     },
     "execution_count": 230,
     "metadata": {},
     "output_type": "execute_result"
    }
   ],
   "source": [
    "del student[\"Subjects\"]\n",
    "student"
   ]
  },
  {
   "cell_type": "code",
   "execution_count": 231,
   "id": "b05e6d77-07a1-45c3-a659-8180d83977ab",
   "metadata": {},
   "outputs": [
    {
     "name": "stdout",
     "output_type": "stream",
     "text": [
      "Name:John Doe\n",
      "Age:22\n",
      "Grade:A\n"
     ]
    }
   ],
   "source": [
    "for i in student:\n",
    "    print(f\"{i}:{student[i]}\")"
   ]
  },
  {
   "cell_type": "code",
   "execution_count": 232,
   "id": "c3b7d1a0-94f6-4545-ba07-3f046089e970",
   "metadata": {},
   "outputs": [
    {
     "data": {
      "text/plain": [
       "dict_items([('Name', 'John Doe'), ('Age', 22), ('Grade', 'A')])"
      ]
     },
     "execution_count": 232,
     "metadata": {},
     "output_type": "execute_result"
    }
   ],
   "source": [
    "student.keys()\n",
    "student.values()\n",
    "student.items()"
   ]
  },
  {
   "cell_type": "code",
   "execution_count": 233,
   "id": "97cc264a-0b07-4f3d-87e6-e2550c7760db",
   "metadata": {},
   "outputs": [],
   "source": [
    "classroom = {\n",
    "    'Student1': {'Name': 'Alice', 'Age': 20, 'Subjects': ['English', 'Biology']},\n",
    "    'Student2': {'Name': 'Bob', 'Age': 22, 'Subjects': ['Math', 'Chemistry']},\n",
    "    'Student3': {'Name': 'Charlie', 'Age': 21, 'Subjects': ['History', 'Physics']}\n",
    "}"
   ]
  },
  {
   "cell_type": "code",
   "execution_count": 234,
   "id": "2a950db2-5868-4f32-9011-5e950f18ec2a",
   "metadata": {},
   "outputs": [
    {
     "data": {
      "text/plain": [
       "{'Student1': {'Name': 'Alice', 'Age': 20, 'Subjects': ['English', 'Biology']},\n",
       " 'Student2': {'Name': 'Bob', 'Age': 22, 'Subjects': ['Math', 'Chemistry']},\n",
       " 'Student3': {'Name': 'Charlie',\n",
       "  'Age': 21,\n",
       "  'Subjects': ['History', 'Physics']}}"
      ]
     },
     "execution_count": 234,
     "metadata": {},
     "output_type": "execute_result"
    }
   ],
   "source": [
    "classroom"
   ]
  },
  {
   "cell_type": "code",
   "execution_count": 235,
   "id": "ec70c438-55c5-49da-8e89-5942f16393f6",
   "metadata": {},
   "outputs": [
    {
     "data": {
      "text/plain": [
       "'Bob'"
      ]
     },
     "execution_count": 235,
     "metadata": {},
     "output_type": "execute_result"
    }
   ],
   "source": [
    "classroom[\"Student2\"][\"Name\"]"
   ]
  },
  {
   "cell_type": "code",
   "execution_count": 237,
   "id": "407b5f3c-f5d0-4bc0-a0da-59c8efdda9a3",
   "metadata": {},
   "outputs": [
    {
     "data": {
      "text/plain": [
       "['History', 'Physics']"
      ]
     },
     "execution_count": 237,
     "metadata": {},
     "output_type": "execute_result"
    }
   ],
   "source": [
    "classroom[\"Student3\"][\"Subjects\"]"
   ]
  },
  {
   "cell_type": "markdown",
   "id": "32fad8ae-4eb6-4f80-a801-2894914a293a",
   "metadata": {},
   "source": [
    "### List Comprehension"
   ]
  },
  {
   "cell_type": "code",
   "execution_count": null,
   "id": "a3ddbd3a-e389-41a1-a5c4-a3eebcd0f498",
   "metadata": {},
   "outputs": [],
   "source": [
    "expression for item in iterable if condition"
   ]
  },
  {
   "cell_type": "code",
   "execution_count": 1,
   "id": "91da4a8c-3924-4794-97de-8e1654a8fc08",
   "metadata": {},
   "outputs": [
    {
     "name": "stdout",
     "output_type": "stream",
     "text": [
      "1\n",
      "2\n",
      "3\n",
      "4\n",
      "5\n",
      "6\n",
      "7\n",
      "8\n",
      "9\n",
      "10\n"
     ]
    }
   ],
   "source": [
    "### Print numbers from 1 to 10\n",
    "\n",
    "for i in range(1,11):\n",
    "    print(i)"
   ]
  },
  {
   "cell_type": "code",
   "execution_count": 2,
   "id": "83ce91d3-35be-4d19-b3e1-6935421404de",
   "metadata": {},
   "outputs": [
    {
     "data": {
      "text/plain": [
       "[1, 2, 3, 4, 5, 6, 7, 8, 9, 10]"
      ]
     },
     "execution_count": 2,
     "metadata": {},
     "output_type": "execute_result"
    }
   ],
   "source": [
    "[i for i in range(1,11)]"
   ]
  },
  {
   "cell_type": "code",
   "execution_count": 3,
   "id": "67c2b89d-0cc6-46f5-b08e-44a7919549b5",
   "metadata": {},
   "outputs": [
    {
     "name": "stdout",
     "output_type": "stream",
     "text": [
      "1\n",
      "4\n",
      "9\n",
      "16\n",
      "25\n",
      "36\n",
      "49\n",
      "64\n",
      "81\n",
      "100\n"
     ]
    }
   ],
   "source": [
    "### Square of numbers from 1 to 10\n",
    "for i in range(1,11):\n",
    "    print(i**2)"
   ]
  },
  {
   "cell_type": "code",
   "execution_count": 4,
   "id": "7451da98-bae0-4ef4-a736-5a56c97342cc",
   "metadata": {},
   "outputs": [
    {
     "data": {
      "text/plain": [
       "[1, 4, 9, 16, 25, 36, 49, 64, 81, 100]"
      ]
     },
     "execution_count": 4,
     "metadata": {},
     "output_type": "execute_result"
    }
   ],
   "source": [
    "[i**2 for i in range(1,11)]"
   ]
  },
  {
   "cell_type": "code",
   "execution_count": 5,
   "id": "0900e47d-60de-4fd8-9577-797526032c33",
   "metadata": {},
   "outputs": [
    {
     "data": {
      "text/plain": [
       "[14, 3.6, 6.8, 4.2, 196]"
      ]
     },
     "execution_count": 5,
     "metadata": {},
     "output_type": "execute_result"
    }
   ],
   "source": [
    "### List of prices->7,1.8,3.4,2.1,98\n",
    "prices=[7,1.8,3.4,2.1,98]\n",
    "[item*2 for item in prices]"
   ]
  },
  {
   "cell_type": "code",
   "execution_count": 6,
   "id": "d045f5e9-7a37-4db5-b2f1-3bff97883a5f",
   "metadata": {},
   "outputs": [
    {
     "data": {
      "text/plain": [
       "'NLP is little complicated but sounds interesting'"
      ]
     },
     "execution_count": 6,
     "metadata": {},
     "output_type": "execute_result"
    }
   ],
   "source": [
    "sent=\"NLP is little complicated but sounds interesting\"\n",
    "sent"
   ]
  },
  {
   "cell_type": "code",
   "execution_count": 7,
   "id": "c6225740-3fde-4dfd-afa3-8f1410be1224",
   "metadata": {},
   "outputs": [
    {
     "data": {
      "text/plain": [
       "['i', 'i', 'e', 'o', 'i', 'a', 'e', 'u', 'o', 'u', 'i', 'e', 'e', 'i']"
      ]
     },
     "execution_count": 7,
     "metadata": {},
     "output_type": "execute_result"
    }
   ],
   "source": [
    "[vowel for vowel in sent if vowel in \"aeiouAEIOU\"]"
   ]
  },
  {
   "cell_type": "code",
   "execution_count": 8,
   "id": "33992ace-499c-41d7-b3e3-c3b7cd89e2ec",
   "metadata": {},
   "outputs": [
    {
     "data": {
      "text/plain": [
       "['N',\n",
       " 'L',\n",
       " 'P',\n",
       " ' ',\n",
       " 's',\n",
       " ' ',\n",
       " 'l',\n",
       " 't',\n",
       " 't',\n",
       " 'l',\n",
       " ' ',\n",
       " 'c',\n",
       " 'm',\n",
       " 'p',\n",
       " 'l',\n",
       " 'c',\n",
       " 't',\n",
       " 'd',\n",
       " ' ',\n",
       " 'b',\n",
       " 't',\n",
       " ' ',\n",
       " 's',\n",
       " 'n',\n",
       " 'd',\n",
       " 's',\n",
       " ' ',\n",
       " 'n',\n",
       " 't',\n",
       " 'r',\n",
       " 's',\n",
       " 't',\n",
       " 'n',\n",
       " 'g']"
      ]
     },
     "execution_count": 8,
     "metadata": {},
     "output_type": "execute_result"
    }
   ],
   "source": [
    "#### Try to print the consonants from the above sent\n",
    "[cons for cons in sent if cons not in \"aeiouAEIOU\"]"
   ]
  },
  {
   "cell_type": "code",
   "execution_count": 9,
   "id": "9391dccf-daa5-4a7d-92b2-da93ffe0c6ca",
   "metadata": {},
   "outputs": [
    {
     "data": {
      "text/plain": [
       "[2, 4, 6, 8, 10, 12, 14, 16, 18, 20]"
      ]
     },
     "execution_count": 9,
     "metadata": {},
     "output_type": "execute_result"
    }
   ],
   "source": [
    "[x for x in range(1,21) if x%2==0]"
   ]
  },
  {
   "cell_type": "code",
   "execution_count": 10,
   "id": "28c2097e-5c4a-40a1-ab6d-befbef9bdd5c",
   "metadata": {},
   "outputs": [
    {
     "data": {
      "text/plain": [
       "[1, 3, 5, 7, 9, 11, 13, 15, 17, 19]"
      ]
     },
     "execution_count": 10,
     "metadata": {},
     "output_type": "execute_result"
    }
   ],
   "source": [
    "[x for x in range(1,21) if x%2!=0]"
   ]
  },
  {
   "cell_type": "code",
   "execution_count": 11,
   "id": "c71dcb01-b4df-449c-9dad-4b3b59794942",
   "metadata": {},
   "outputs": [
    {
     "data": {
      "text/plain": [
       "['HELLO', 'WORLD', 'PYTHON', 'PROGRAMS']"
      ]
     },
     "execution_count": 11,
     "metadata": {},
     "output_type": "execute_result"
    }
   ],
   "source": [
    "list1=[\"hello\",\"world\",\"python\",\"programs\"]\n",
    "[x.upper() for x in list1]"
   ]
  },
  {
   "cell_type": "code",
   "execution_count": 12,
   "id": "1c232199-1918-4300-9a90-4838fc1533a2",
   "metadata": {},
   "outputs": [
    {
     "data": {
      "text/plain": [
       "[24, 98]"
      ]
     },
     "execution_count": 12,
     "metadata": {},
     "output_type": "execute_result"
    }
   ],
   "source": [
    "list2=[-21,24,-0.6,-98,98,0]\n",
    "[x for x in list2 if x>0]\n"
   ]
  },
  {
   "cell_type": "code",
   "execution_count": 14,
   "id": "55e187dd-5670-4fac-ac67-29fe6b276671",
   "metadata": {},
   "outputs": [
    {
     "data": {
      "text/plain": [
       "(1, 2, 3, 4, 5, 6, 7, 8, 9, 10)"
      ]
     },
     "execution_count": 14,
     "metadata": {},
     "output_type": "execute_result"
    }
   ],
   "source": [
    "tuple(i for i in range(1,11))"
   ]
  },
  {
   "cell_type": "code",
   "execution_count": 15,
   "id": "28114821-6986-4319-83ef-77f275ddf8e8",
   "metadata": {},
   "outputs": [
    {
     "data": {
      "text/plain": [
       "['odd', 'even', 'odd', 'even', 'odd', 'even', 'odd', 'even', 'odd', 'even']"
      ]
     },
     "execution_count": 15,
     "metadata": {},
     "output_type": "execute_result"
    }
   ],
   "source": [
    "### expected o/p->[odd,even,odd,even,...]\n",
    "[\"even\" if x%2==0 else \"odd\" for x in range(1,11)]"
   ]
  },
  {
   "cell_type": "code",
   "execution_count": 18,
   "id": "d714de5d-4a44-4ab8-93bc-66640d8c6bfd",
   "metadata": {},
   "outputs": [
    {
     "data": {
      "text/plain": [
       "[200]"
      ]
     },
     "execution_count": 18,
     "metadata": {},
     "output_type": "execute_result"
    }
   ],
   "source": [
    "### To find the maximum of three numbers\n",
    "a=100\n",
    "b=200\n",
    "c=30\n",
    "[a if a > b and a > c else b if b > c else c]"
   ]
  },
  {
   "cell_type": "code",
   "execution_count": 20,
   "id": "c87031d7-0fce-40c3-acdd-396fd068a12f",
   "metadata": {},
   "outputs": [
    {
     "data": {
      "text/plain": [
       "['oranges', 'banana', 'Cherries']"
      ]
     },
     "execution_count": 20,
     "metadata": {},
     "output_type": "execute_result"
    }
   ],
   "source": [
    "list3=[\"apple\",\"mango\",\"oranges\",\"banana\",\"Cherries\"]\n",
    "[x for x in list3 if len(x)>5]"
   ]
  },
  {
   "cell_type": "code",
   "execution_count": null,
   "id": "c371c078-e416-4d16-81a9-a12437d1c136",
   "metadata": {},
   "outputs": [],
   "source": [
    "### Functions\n",
    "def functionname() parameters"
   ]
  },
  {
   "cell_type": "code",
   "execution_count": 21,
   "id": "3d2978cd-fe69-4853-b310-ac5590917811",
   "metadata": {},
   "outputs": [],
   "source": [
    "def add(num1,num2):\n",
    "    addition=num1+num2\n",
    "    return addition"
   ]
  },
  {
   "cell_type": "code",
   "execution_count": 22,
   "id": "523834d8-c2c2-4039-8203-87f76e4d904c",
   "metadata": {},
   "outputs": [
    {
     "data": {
      "text/plain": [
       "8"
      ]
     },
     "execution_count": 22,
     "metadata": {},
     "output_type": "execute_result"
    }
   ],
   "source": [
    "add(3,5)"
   ]
  },
  {
   "cell_type": "code",
   "execution_count": 24,
   "id": "012e0a62-16c4-4f25-8849-7758cfb7ed71",
   "metadata": {},
   "outputs": [],
   "source": [
    "def add_1(num1,num2):\n",
    "    print(\"Number 1:\",num1)\n",
    "    print(\"Number 2:\",num2)\n",
    "    addition=num1+num2\n",
    "    return addition"
   ]
  },
  {
   "cell_type": "code",
   "execution_count": 25,
   "id": "252e13a8-b6da-4202-8ea0-a2c105392097",
   "metadata": {},
   "outputs": [
    {
     "name": "stdout",
     "output_type": "stream",
     "text": [
      "Number 1: 5\n",
      "Number 2: 6\n"
     ]
    },
    {
     "data": {
      "text/plain": [
       "11"
      ]
     },
     "execution_count": 25,
     "metadata": {},
     "output_type": "execute_result"
    }
   ],
   "source": [
    "add_1(5,6)"
   ]
  },
  {
   "cell_type": "code",
   "execution_count": 26,
   "id": "918f84fe-f426-46bb-b0c6-61e7d182d696",
   "metadata": {},
   "outputs": [],
   "source": [
    "def say_hello():\n",
    "    print(\"Hello Python\")"
   ]
  },
  {
   "cell_type": "code",
   "execution_count": 27,
   "id": "b60888e6-fc91-4cd6-ab16-d6e542da156e",
   "metadata": {},
   "outputs": [
    {
     "name": "stdout",
     "output_type": "stream",
     "text": [
      "Hello Python\n"
     ]
    }
   ],
   "source": [
    "say_hello()"
   ]
  },
  {
   "cell_type": "code",
   "execution_count": 28,
   "id": "12d782ec-b90b-4d30-bc53-d89113b5d52b",
   "metadata": {},
   "outputs": [],
   "source": [
    "def greeting(name):\n",
    "    print(\"hello %s\" %name)"
   ]
  },
  {
   "cell_type": "code",
   "execution_count": 29,
   "id": "d1354972-2699-4f6c-9065-8e5e189a3a0e",
   "metadata": {},
   "outputs": [
    {
     "name": "stdout",
     "output_type": "stream",
     "text": [
      "hello Python\n"
     ]
    }
   ],
   "source": [
    "greeting(\"Python\")"
   ]
  },
  {
   "cell_type": "code",
   "execution_count": 30,
   "id": "aa65b742-06a7-43f2-9762-6f29a144feeb",
   "metadata": {},
   "outputs": [],
   "source": [
    "def greet(name):\n",
    "    print(\"hello\",name,\"welcome\")"
   ]
  },
  {
   "cell_type": "code",
   "execution_count": 31,
   "id": "7de190c1-cbf8-4c25-9d70-44be0d1a03d4",
   "metadata": {},
   "outputs": [
    {
     "name": "stdout",
     "output_type": "stream",
     "text": [
      "hello Latha welcome\n"
     ]
    }
   ],
   "source": [
    "person_name=\"Latha\"\n",
    "greet(person_name)"
   ]
  },
  {
   "cell_type": "code",
   "execution_count": 32,
   "id": "91256576-9cb7-4e0f-8014-812f63d8ce4a",
   "metadata": {},
   "outputs": [
    {
     "ename": "TypeError",
     "evalue": "greet() missing 1 required positional argument: 'name'",
     "output_type": "error",
     "traceback": [
      "\u001b[1;31m---------------------------------------------------------------------------\u001b[0m",
      "\u001b[1;31mTypeError\u001b[0m                                 Traceback (most recent call last)",
      "Cell \u001b[1;32mIn[32], line 1\u001b[0m\n\u001b[1;32m----> 1\u001b[0m greet()\n",
      "\u001b[1;31mTypeError\u001b[0m: greet() missing 1 required positional argument: 'name'"
     ]
    }
   ],
   "source": [
    "greet()"
   ]
  },
  {
   "cell_type": "code",
   "execution_count": 33,
   "id": "d83d1702-849b-41e4-a4e0-3e670fb0a6d8",
   "metadata": {},
   "outputs": [],
   "source": [
    "def employee(Name,Designation):\n",
    "    print(Name,Designation)"
   ]
  },
  {
   "cell_type": "code",
   "execution_count": 34,
   "id": "d8434c82-a6b1-4bd9-b745-6cd80e946412",
   "metadata": {},
   "outputs": [
    {
     "name": "stdout",
     "output_type": "stream",
     "text": [
      "Latha Trainer\n",
      "Latha Trainer\n"
     ]
    }
   ],
   "source": [
    "employee(Name=\"Latha\",Designation=\"Trainer\")\n",
    "employee(Designation=\"Trainer\",Name=\"Latha\")"
   ]
  },
  {
   "cell_type": "code",
   "execution_count": 35,
   "id": "85aeffb1-1e7d-42b5-8d4e-e314a9023c62",
   "metadata": {},
   "outputs": [],
   "source": [
    "def emp(name,sal=50000):\n",
    "    print(\"emp_name\",name)\n",
    "    print(\"emp_salary\",sal)"
   ]
  },
  {
   "cell_type": "code",
   "execution_count": 36,
   "id": "645e3e2e-769f-41d4-8aaa-fcd4815ce519",
   "metadata": {},
   "outputs": [
    {
     "name": "stdout",
     "output_type": "stream",
     "text": [
      "emp_name John\n",
      "emp_salary 50000\n"
     ]
    }
   ],
   "source": [
    "emp(\"John\")"
   ]
  },
  {
   "cell_type": "code",
   "execution_count": 37,
   "id": "f6deaa72-ca85-4123-9f47-3928e08e90ec",
   "metadata": {},
   "outputs": [
    {
     "name": "stdout",
     "output_type": "stream",
     "text": [
      "emp_name lucky\n",
      "emp_salary 50000\n"
     ]
    }
   ],
   "source": [
    "emp(\"lucky\")"
   ]
  },
  {
   "cell_type": "code",
   "execution_count": 38,
   "id": "8fdf9346-b619-473c-a899-f9a516e62ee0",
   "metadata": {},
   "outputs": [],
   "source": [
    "### Write program to find whether the number is even\n",
    "def is_even(num):\n",
    "    return num%2==0\n"
   ]
  },
  {
   "cell_type": "code",
   "execution_count": 39,
   "id": "a68f7235-9136-4c98-b5e4-d1c509c082f2",
   "metadata": {},
   "outputs": [
    {
     "data": {
      "text/plain": [
       "True"
      ]
     },
     "execution_count": 39,
     "metadata": {},
     "output_type": "execute_result"
    }
   ],
   "source": [
    "is_even(6)"
   ]
  },
  {
   "cell_type": "code",
   "execution_count": 40,
   "id": "0550f055-d99b-4d02-ac70-bf036703886b",
   "metadata": {},
   "outputs": [
    {
     "data": {
      "text/plain": [
       "False"
      ]
     },
     "execution_count": 40,
     "metadata": {},
     "output_type": "execute_result"
    }
   ],
   "source": [
    "is_even(5)"
   ]
  },
  {
   "cell_type": "code",
   "execution_count": 41,
   "id": "223f1925-8256-429f-af6e-0a8755511fb8",
   "metadata": {},
   "outputs": [],
   "source": [
    "### Greater among two numbers\n",
    "\n",
    "def greater(num1,num2):\n",
    "    if num1>num2:\n",
    "        return num1\n",
    "    else:\n",
    "        return num2"
   ]
  },
  {
   "cell_type": "code",
   "execution_count": 42,
   "id": "9154c3c7-7102-4c9d-a2fb-1d4e25bfc62b",
   "metadata": {},
   "outputs": [
    {
     "data": {
      "text/plain": [
       "7"
      ]
     },
     "execution_count": 42,
     "metadata": {},
     "output_type": "execute_result"
    }
   ],
   "source": [
    "greater(6,7)"
   ]
  },
  {
   "cell_type": "code",
   "execution_count": 43,
   "id": "bad3db77-5ee3-4de0-96be-e771c857288e",
   "metadata": {},
   "outputs": [
    {
     "data": {
      "text/plain": [
       "11"
      ]
     },
     "execution_count": 43,
     "metadata": {},
     "output_type": "execute_result"
    }
   ],
   "source": [
    "greater(11,7)"
   ]
  },
  {
   "cell_type": "code",
   "execution_count": null,
   "id": "996e40cb-06fd-48db-a0db-2e2848132253",
   "metadata": {},
   "outputs": [],
   "source": [
    "lambda arguments:expression"
   ]
  },
  {
   "cell_type": "code",
   "execution_count": 45,
   "id": "f19c71da-5dbd-4ffb-95e2-61523c050316",
   "metadata": {},
   "outputs": [],
   "source": [
    "add=lambda a,b:a+b"
   ]
  },
  {
   "cell_type": "code",
   "execution_count": 46,
   "id": "b4707355-a1c2-458e-ad06-4369347c31ac",
   "metadata": {},
   "outputs": [
    {
     "data": {
      "text/plain": [
       "11"
      ]
     },
     "execution_count": 46,
     "metadata": {},
     "output_type": "execute_result"
    }
   ],
   "source": [
    "add(5,6)"
   ]
  },
  {
   "cell_type": "code",
   "execution_count": 47,
   "id": "1f809a53-cdb4-4ad6-82dc-e31e181a67c6",
   "metadata": {},
   "outputs": [
    {
     "data": {
      "text/plain": [
       "225"
      ]
     },
     "execution_count": 47,
     "metadata": {},
     "output_type": "execute_result"
    }
   ],
   "source": [
    "square=lambda x:x**2\n",
    "square(15)"
   ]
  },
  {
   "cell_type": "code",
   "execution_count": null,
   "id": "34e58ef2-ab8b-4e0c-b20a-1ba15139c66f",
   "metadata": {},
   "outputs": [],
   "source": [
    "def greater(num1,num2):\n",
    "    if num1>num2:\n",
    "        return num1\n",
    "    else:\n",
    "        return num2"
   ]
  },
  {
   "cell_type": "code",
   "execution_count": 48,
   "id": "2242e312-73f8-4a98-8fb5-e9b390a264ee",
   "metadata": {},
   "outputs": [
    {
     "data": {
      "text/plain": [
       "15"
      ]
     },
     "execution_count": 48,
     "metadata": {},
     "output_type": "execute_result"
    }
   ],
   "source": [
    "maximum=lambda x,y:x if x>y else y\n",
    "maximum(10,15)"
   ]
  },
  {
   "cell_type": "code",
   "execution_count": 50,
   "id": "a05e6a2d-c819-49e1-95c3-c7ecc3745be2",
   "metadata": {},
   "outputs": [
    {
     "data": {
      "text/plain": [
       "'Even'"
      ]
     },
     "execution_count": 50,
     "metadata": {},
     "output_type": "execute_result"
    }
   ],
   "source": [
    "even_odd=lambda x:\"Even\" if x%2==0 else \"odd\"\n",
    "even_odd(10)"
   ]
  },
  {
   "cell_type": "code",
   "execution_count": 51,
   "id": "ebc6cd76-2729-4482-8c8f-bb94ed2281ad",
   "metadata": {},
   "outputs": [
    {
     "data": {
      "text/plain": [
       "5"
      ]
     },
     "execution_count": 51,
     "metadata": {},
     "output_type": "execute_result"
    }
   ],
   "source": [
    "lenString = lambda x: len(x)\n",
    "lenString(\"Hello\")"
   ]
  },
  {
   "cell_type": "code",
   "execution_count": 54,
   "id": "203d86c0-5cf2-4100-8ded-843532b36d48",
   "metadata": {},
   "outputs": [],
   "source": [
    "numbers=[6,18,21,13,10,8,4,3]\n",
    "even=list(filter(lambda x:x%2==0,numbers))"
   ]
  },
  {
   "cell_type": "code",
   "execution_count": 55,
   "id": "e09cc492-eb67-4d70-8876-ef4da863380b",
   "metadata": {},
   "outputs": [
    {
     "data": {
      "text/plain": [
       "[6, 18, 10, 8, 4]"
      ]
     },
     "execution_count": 55,
     "metadata": {},
     "output_type": "execute_result"
    }
   ],
   "source": [
    "even"
   ]
  },
  {
   "cell_type": "code",
   "execution_count": 56,
   "id": "e5e7a0ae-fd09-4153-be83-a8d18aaa0996",
   "metadata": {},
   "outputs": [
    {
     "data": {
      "text/plain": [
       "[5, 10]"
      ]
     },
     "execution_count": 56,
     "metadata": {},
     "output_type": "execute_result"
    }
   ],
   "source": [
    "list1=list(range(1,11))\n",
    "list(filter(lambda x:x%5==0,list1))"
   ]
  },
  {
   "cell_type": "code",
   "execution_count": 57,
   "id": "a3c631a5-24a0-4df2-91d7-69a073ce595f",
   "metadata": {},
   "outputs": [
    {
     "data": {
      "text/plain": [
       "[1, 4, 9, 16, 25, 36, 49, 64, 81, 100]"
      ]
     },
     "execution_count": 57,
     "metadata": {},
     "output_type": "execute_result"
    }
   ],
   "source": [
    "list2=list(range(1,11))\n",
    "list(map(lambda x:x**2,list2))"
   ]
  },
  {
   "cell_type": "code",
   "execution_count": 61,
   "id": "8a5d6740-bf30-45f5-824c-e640a194755c",
   "metadata": {},
   "outputs": [],
   "source": [
    "from functools import reduce"
   ]
  },
  {
   "cell_type": "code",
   "execution_count": 62,
   "id": "f031469a-eae6-4454-bff6-741c893c090d",
   "metadata": {},
   "outputs": [
    {
     "data": {
      "text/plain": [
       "120"
      ]
     },
     "execution_count": 62,
     "metadata": {},
     "output_type": "execute_result"
    }
   ],
   "source": [
    "num_list=[1,2,3,4,5]\n",
    "reduce(lambda a,b:a*b,num_list)"
   ]
  },
  {
   "cell_type": "markdown",
   "id": "f7e0456a-c042-4ae2-acbd-59b34dc74af2",
   "metadata": {},
   "source": [
    "### Sets"
   ]
  },
  {
   "cell_type": "code",
   "execution_count": 5,
   "id": "653d6f94-599a-4304-8a4b-78eb7c25bb7c",
   "metadata": {},
   "outputs": [
    {
     "name": "stdout",
     "output_type": "stream",
     "text": [
      "{1, 2, 3, 4, 5, 6, 7}\n"
     ]
    }
   ],
   "source": [
    "mySet = {1,2,2,3,4,5,6,7}\n",
    "print(mySet)"
   ]
  },
  {
   "cell_type": "code",
   "execution_count": 6,
   "id": "cf173266-5caa-43f4-9b88-a62a719a14c2",
   "metadata": {},
   "outputs": [
    {
     "name": "stdout",
     "output_type": "stream",
     "text": [
      "1\n",
      "2\n",
      "3\n",
      "4\n",
      "5\n",
      "6\n",
      "7\n"
     ]
    }
   ],
   "source": [
    "for ele in mySet:\n",
    "  print(ele)"
   ]
  },
  {
   "cell_type": "code",
   "execution_count": 7,
   "id": "cf012d37-7299-4b79-80f7-8846a9adb1ee",
   "metadata": {},
   "outputs": [
    {
     "data": {
      "text/plain": [
       "{1, 2, 3, 4, 5, 6, 7, 'Three'}"
      ]
     },
     "execution_count": 7,
     "metadata": {},
     "output_type": "execute_result"
    }
   ],
   "source": [
    "mySet.add(\"Three\")\n",
    "mySet"
   ]
  },
  {
   "cell_type": "code",
   "execution_count": 8,
   "id": "25748a85-95fc-4be9-9432-68edcd6a24ed",
   "metadata": {},
   "outputs": [],
   "source": [
    "myNewSet = {\"aaa\",\"bbb\",\"ccc\"}\n",
    "mySet.update(myNewSet)"
   ]
  },
  {
   "cell_type": "code",
   "execution_count": 9,
   "id": "4cd53e4c-22c8-471d-b44d-4139b9f1b10d",
   "metadata": {},
   "outputs": [
    {
     "data": {
      "text/plain": [
       "{1, 2, 3, 4, 5, 6, 7, 'Three', 'aaa', 'bbb', 'ccc'}"
      ]
     },
     "execution_count": 9,
     "metadata": {},
     "output_type": "execute_result"
    }
   ],
   "source": [
    "mySet"
   ]
  },
  {
   "cell_type": "code",
   "execution_count": 10,
   "id": "e3ccfb8d-b6d0-40ca-a156-c2df229dd907",
   "metadata": {},
   "outputs": [],
   "source": [
    "mySet.remove(\"aaa\")\n"
   ]
  },
  {
   "cell_type": "code",
   "execution_count": 11,
   "id": "3630292f-a309-4899-a69e-67aa7d3506b1",
   "metadata": {},
   "outputs": [
    {
     "data": {
      "text/plain": [
       "{1, 2, 3, 4, 5, 6, 7, 'Three', 'bbb', 'ccc'}"
      ]
     },
     "execution_count": 11,
     "metadata": {},
     "output_type": "execute_result"
    }
   ],
   "source": [
    "mySet"
   ]
  },
  {
   "cell_type": "code",
   "execution_count": 12,
   "id": "8a30edfc-379b-4ec3-9e3b-2e23c71c381b",
   "metadata": {},
   "outputs": [
    {
     "data": {
      "text/plain": [
       "10"
      ]
     },
     "execution_count": 12,
     "metadata": {},
     "output_type": "execute_result"
    }
   ],
   "source": [
    "len(mySet)"
   ]
  },
  {
   "cell_type": "code",
   "execution_count": 13,
   "id": "22991c89-49a7-40bd-9ef2-2cfc0907b017",
   "metadata": {},
   "outputs": [],
   "source": [
    "fruits = {\"Apple\",\"Organge\",\"Banana\",\"Tomato\"}\n",
    "vegetable = {\"Carrot\",\"Mango\",\"Tomato\"}"
   ]
  },
  {
   "cell_type": "code",
   "execution_count": 14,
   "id": "c9f076cc-4d8d-4018-886d-6dc36d197adf",
   "metadata": {},
   "outputs": [
    {
     "data": {
      "text/plain": [
       "{'Apple', 'Banana', 'Organge', 'Papaya', 'Tomato'}"
      ]
     },
     "execution_count": 14,
     "metadata": {},
     "output_type": "execute_result"
    }
   ],
   "source": [
    "fruits.add(\"Papaya\")\n",
    "fruits"
   ]
  },
  {
   "cell_type": "code",
   "execution_count": 15,
   "id": "4e5fdb50-f663-4cc0-b06a-18b7e192703e",
   "metadata": {},
   "outputs": [
    {
     "data": {
      "text/plain": [
       "{'Apple', 'Banana', 'Organge', 'Papaya'}"
      ]
     },
     "execution_count": 15,
     "metadata": {},
     "output_type": "execute_result"
    }
   ],
   "source": [
    "fruits.difference(vegetable)"
   ]
  },
  {
   "cell_type": "code",
   "execution_count": 16,
   "id": "e9f3528a-5003-4f3f-a4ab-55e32fab48d6",
   "metadata": {},
   "outputs": [
    {
     "name": "stdout",
     "output_type": "stream",
     "text": [
      "{'Tomato'}\n"
     ]
    }
   ],
   "source": [
    "fruits = {\"Apple\",\"Organge\",\"Banana\",\"Tomato\"}\n",
    "vegetable = {\"Carrot\",\"Mango\",\"Tomato\"}\n",
    "intersectionSet = fruits.intersection(vegetable)\n",
    "print(intersectionSet)"
   ]
  },
  {
   "cell_type": "code",
   "execution_count": 17,
   "id": "1b128382-3212-41ce-b182-8922d16dcf60",
   "metadata": {},
   "outputs": [
    {
     "name": "stdout",
     "output_type": "stream",
     "text": [
      "Looping set using foreach - \n",
      "Apple\n",
      "Organge\n",
      "Banana\n",
      "Tomato\n"
     ]
    }
   ],
   "source": [
    "fruits = {\"Apple\",\"Organge\",\"Banana\",\"Tomato\"}\n",
    "\n",
    "print(\"Looping set using foreach - \")\n",
    "for items in fruits:\n",
    "  print(items)"
   ]
  },
  {
   "cell_type": "code",
   "execution_count": 4,
   "id": "81293fdc-d2b6-4feb-b910-5eab44ca300c",
   "metadata": {},
   "outputs": [
    {
     "name": "stdin",
     "output_type": "stream",
     "text": [
      "Enter the value:  2\n"
     ]
    },
    {
     "name": "stdout",
     "output_type": "stream",
     "text": [
      "Success the division value: 0.5\n",
      "Execution finished\n"
     ]
    }
   ],
   "source": [
    "a = 1\n",
    "b = int(input(\"Enter the value: \"))\n",
    "\n",
    "try:\n",
    "  # logic where the exception causes\n",
    "  a = a/b\n",
    "\n",
    "except ZeroDivisionError:\n",
    "  print(f\"The number you provided can't divide {a} because it is {b}\")\n",
    "\n",
    "except ValueError:\n",
    "  print(f\"{b} provided input is invalid\")\n",
    "\n",
    "except:\n",
    "  print(\"Something went wrong\")\n",
    "  \n",
    "else:\n",
    "  print(f\"Success the division value: {a}\")\n",
    "\n",
    "finally:\n",
    "  print(\"Execution finished\")"
   ]
  },
  {
   "cell_type": "markdown",
   "id": "c33b5dd9-c723-4d95-b448-16828d541b7b",
   "metadata": {},
   "source": [
    "### sql with Python"
   ]
  },
  {
   "cell_type": "code",
   "execution_count": 5,
   "id": "f93d4a2b-573b-4da6-ad4b-ca6f6abeb35c",
   "metadata": {},
   "outputs": [
    {
     "name": "stdout",
     "output_type": "stream",
     "text": [
      "Requirement already satisfied: mysql-connector-python in c:\\users\\premalatha\\anaconda3\\lib\\site-packages (9.1.0)\n"
     ]
    }
   ],
   "source": [
    "!pip install mysql-connector-python"
   ]
  },
  {
   "cell_type": "code",
   "execution_count": 6,
   "id": "34636638-1c75-4e88-87b9-3a4c70972f4b",
   "metadata": {},
   "outputs": [],
   "source": [
    "import mysql.connector\n",
    "\n",
    "connection = mysql.connector.connect(\n",
    "    host=\"localhost\",\n",
    "    user=\"root\",\n",
    "    password=\"\",\n",
    "    database=\"Syn\"\n",
    ")\n",
    "\n",
    "cursor = connection.cursor()"
   ]
  },
  {
   "cell_type": "code",
   "execution_count": 8,
   "id": "6514cfef-e5f7-40e2-b514-ce3009fc16bc",
   "metadata": {},
   "outputs": [
    {
     "name": "stdout",
     "output_type": "stream",
     "text": [
      "(1, 'Alice', 26)\n",
      "(2, 'Bob', 30)\n"
     ]
    }
   ],
   "source": [
    "# Example query\n",
    "cursor.execute(\"SELECT * FROM mytable\")\n",
    "for row in cursor.fetchall():\n",
    "    print(row)\n",
    "\n",
    "connection.close()"
   ]
  },
  {
   "cell_type": "code",
   "execution_count": 18,
   "id": "2244e3b7-3f18-4564-8ae1-c4d47fe48475",
   "metadata": {},
   "outputs": [],
   "source": [
    "import re\n"
   ]
  },
  {
   "cell_type": "code",
   "execution_count": 22,
   "id": "ab6d6486-bd31-4d50-90b8-0aeb5b226fb4",
   "metadata": {},
   "outputs": [
    {
     "name": "stdout",
     "output_type": "stream",
     "text": [
      "Found: Python\n"
     ]
    }
   ],
   "source": [
    "text = \"Hello, welcome to Python programming.\"\n",
    "pattern = r\"\\bPython\\b\"\n",
    "\n",
    "match = re.search(pattern, text)\n",
    "if match:\n",
    "    print(\"Found:\", match.group())\n"
   ]
  },
  {
   "cell_type": "code",
   "execution_count": 22,
   "id": "697f1d2f-9341-445f-81ee-e6fcc5a33e76",
   "metadata": {},
   "outputs": [
    {
     "name": "stdout",
     "output_type": "stream",
     "text": [
      "The sky is clear.\n"
     ]
    }
   ],
   "source": [
    "text = \"The sky is blue.\"\n",
    "pattern = \"blue\"\n",
    "replacement = \"clear\"\n",
    "\n",
    "new_text = re.sub(pattern, replacement, text)\n",
    "print(new_text)  # Output: The sky is clear.\n"
   ]
  },
  {
   "cell_type": "code",
   "execution_count": 16,
   "id": "69c083c3-cdc0-407e-aed7-9c366bbc13c1",
   "metadata": {},
   "outputs": [
    {
     "name": "stdout",
     "output_type": "stream",
     "text": [
      "First match: 12345\n",
      "Second match: 67890\n"
     ]
    }
   ],
   "source": [
    "pattern = re.compile(r\"\\d+\")\n",
    "text1 = \"Order number 12345\"\n",
    "text2 = \"Invoice 67890\"\n",
    "\n",
    "match1 = pattern.search(text1)\n",
    "match2 = pattern.search(text2)\n",
    "\n",
    "if match1 and match2:\n",
    "    print(\"First match:\", match1.group())\n",
    "    print(\"Second match:\", match2.group())\n"
   ]
  },
  {
   "cell_type": "code",
   "execution_count": 26,
   "id": "cc1885fe-ce19-4ca9-a025-718c26459f47",
   "metadata": {},
   "outputs": [
    {
     "name": "stdout",
     "output_type": "stream",
     "text": [
      "Match at the start: Hi\n"
     ]
    }
   ],
   "source": [
    "pattern = r\"Hi\"\n",
    "text = \"Hi Hello, world!\"\n",
    "\n",
    "match = re.match(pattern, text)\n",
    "if match:\n",
    "    print(\"Match at the start:\", match.group())\n"
   ]
  },
  {
   "cell_type": "code",
   "execution_count": 18,
   "id": "6f3df95a-c36e-4c3b-adf2-62a58e161e80",
   "metadata": {},
   "outputs": [
    {
     "name": "stdout",
     "output_type": "stream",
     "text": [
      "Found: world\n"
     ]
    }
   ],
   "source": [
    "pattern = r\"world\"\n",
    "text = \"Hello, world!\"\n",
    "\n",
    "match = re.search(pattern, text)\n",
    "if match:\n",
    "    print(\"Found:\", match.group())\n"
   ]
  },
  {
   "cell_type": "code",
   "execution_count": 19,
   "id": "84d1fc7f-becf-4c11-b206-a99acc58bd93",
   "metadata": {},
   "outputs": [
    {
     "name": "stdout",
     "output_type": "stream",
     "text": [
      "Found SSN: 123-45-6789\n"
     ]
    }
   ],
   "source": [
    "pattern = r\"\\d{3}-\\d{2}-\\d{4}\"\n",
    "text = \"My number is 123-45-6789.\"\n",
    "\n",
    "match = re.search(pattern, text)\n",
    "if match:\n",
    "    print(\"Found SSN:\", match.group())\n"
   ]
  },
  {
   "cell_type": "code",
   "execution_count": 30,
   "id": "1bfab884-ab4b-4cd2-bf64-2315ffb3fa0f",
   "metadata": {},
   "outputs": [
    {
     "name": "stdout",
     "output_type": "stream",
     "text": [
      "Repeated word: is\n"
     ]
    }
   ],
   "source": [
    "pattern = r\"(\\b\\w+)\\s+\\1\"\n",
    "text = \"This is is a a atest.\"\n",
    "\n",
    "match = re.search(pattern, text)\n",
    "if match:\n",
    "    print(\"Repeated word:\", match.group(1))\n"
   ]
  },
  {
   "cell_type": "code",
   "execution_count": 23,
   "id": "dd9c4c6c-87a1-4557-abf3-e4f02b899301",
   "metadata": {},
   "outputs": [
    {
     "name": "stdout",
     "output_type": "stream",
     "text": [
      "H2ll4, w4rld!\n"
     ]
    }
   ],
   "source": [
    "text = \"Hello, world!\"\n",
    "translation_table = str.maketrans(\"aeiou\", \"12345\")  \n",
    "\n",
    "translated_text = text.translate(translation_table)\n",
    "print(translated_text) \n"
   ]
  },
  {
   "cell_type": "code",
   "execution_count": 11,
   "id": "2b13a4a8-3191-4842-8336-32c9530a9a3c",
   "metadata": {},
   "outputs": [
    {
     "data": {
      "text/plain": [
       "{1,\n",
       " 100,\n",
       " 123.4,\n",
       " 19,\n",
       " 2,\n",
       " 21.5,\n",
       " 4,\n",
       " 5,\n",
       " 500,\n",
       " 7,\n",
       " 'Apple',\n",
       " 'HI',\n",
       " 'apple',\n",
       " 'hi',\n",
       " 'orange',\n",
       " 'python'}"
      ]
     },
     "execution_count": 11,
     "metadata": {},
     "output_type": "execute_result"
    }
   ],
   "source": [
    "### Sets:\n",
    "\n",
    "myset={1,2,7,2,19,5,21.5,4,500,100,123.4,\"apple\",\"orange\",\"python\",\"hi\",\"Apple\",\"HI\"}\n",
    "myset"
   ]
  },
  {
   "cell_type": "code",
   "execution_count": 12,
   "id": "fee7dd79-828f-4fc0-b41d-f74dc3c44979",
   "metadata": {},
   "outputs": [],
   "source": [
    "myset.add(12)"
   ]
  },
  {
   "cell_type": "code",
   "execution_count": 13,
   "id": "80273e84-f1f6-48be-be26-2182e5fbc46f",
   "metadata": {},
   "outputs": [
    {
     "data": {
      "text/plain": [
       "{1,\n",
       " 100,\n",
       " 12,\n",
       " 123.4,\n",
       " 19,\n",
       " 2,\n",
       " 21.5,\n",
       " 4,\n",
       " 5,\n",
       " 500,\n",
       " 7,\n",
       " 'Apple',\n",
       " 'HI',\n",
       " 'apple',\n",
       " 'hi',\n",
       " 'orange',\n",
       " 'python'}"
      ]
     },
     "execution_count": 13,
     "metadata": {},
     "output_type": "execute_result"
    }
   ],
   "source": [
    "myset"
   ]
  },
  {
   "cell_type": "code",
   "execution_count": 14,
   "id": "e13a62d3-fec3-4e91-b099-bbd018eb297d",
   "metadata": {},
   "outputs": [
    {
     "ename": "AttributeError",
     "evalue": "'set' object has no attribute 'append'",
     "output_type": "error",
     "traceback": [
      "\u001b[1;31m---------------------------------------------------------------------------\u001b[0m",
      "\u001b[1;31mAttributeError\u001b[0m                            Traceback (most recent call last)",
      "Cell \u001b[1;32mIn[14], line 1\u001b[0m\n\u001b[1;32m----> 1\u001b[0m myset\u001b[38;5;241m.\u001b[39mappend(\u001b[38;5;241m12\u001b[39m)\n",
      "\u001b[1;31mAttributeError\u001b[0m: 'set' object has no attribute 'append'"
     ]
    }
   ],
   "source": [
    "myset.append(12)"
   ]
  },
  {
   "cell_type": "code",
   "execution_count": 15,
   "id": "13e78e0b-2e04-4eee-a4dc-71eb98b8bd17",
   "metadata": {},
   "outputs": [],
   "source": [
    "myset.remove(19)"
   ]
  },
  {
   "cell_type": "code",
   "execution_count": 16,
   "id": "a94213fd-af51-432d-8d97-e4d392d8ff55",
   "metadata": {},
   "outputs": [
    {
     "data": {
      "text/plain": [
       "{1,\n",
       " 100,\n",
       " 12,\n",
       " 123.4,\n",
       " 2,\n",
       " 21.5,\n",
       " 4,\n",
       " 5,\n",
       " 500,\n",
       " 7,\n",
       " 'Apple',\n",
       " 'HI',\n",
       " 'apple',\n",
       " 'hi',\n",
       " 'orange',\n",
       " 'python'}"
      ]
     },
     "execution_count": 16,
     "metadata": {},
     "output_type": "execute_result"
    }
   ],
   "source": [
    "myset"
   ]
  },
  {
   "cell_type": "code",
   "execution_count": 17,
   "id": "8bc94a49-7da6-4391-ad00-c0fc53740290",
   "metadata": {},
   "outputs": [
    {
     "ename": "TypeError",
     "evalue": "'set' object does not support item assignment",
     "output_type": "error",
     "traceback": [
      "\u001b[1;31m---------------------------------------------------------------------------\u001b[0m",
      "\u001b[1;31mTypeError\u001b[0m                                 Traceback (most recent call last)",
      "Cell \u001b[1;32mIn[17], line 1\u001b[0m\n\u001b[1;32m----> 1\u001b[0m myset[\u001b[38;5;241m0\u001b[39m]\u001b[38;5;241m=\u001b[39m\u001b[38;5;124m\"\u001b[39m\u001b[38;5;124mhi\u001b[39m\u001b[38;5;124m\"\u001b[39m\n",
      "\u001b[1;31mTypeError\u001b[0m: 'set' object does not support item assignment"
     ]
    }
   ],
   "source": [
    "myset[0]=\"hi\""
   ]
  },
  {
   "cell_type": "code",
   "execution_count": null,
   "id": "5deeef26-5388-4b6f-a326-960c396027fe",
   "metadata": {},
   "outputs": [],
   "source": []
  }
 ],
 "metadata": {
  "kernelspec": {
   "display_name": "Python 3 (ipykernel)",
   "language": "python",
   "name": "python3"
  },
  "language_info": {
   "codemirror_mode": {
    "name": "ipython",
    "version": 3
   },
   "file_extension": ".py",
   "mimetype": "text/x-python",
   "name": "python",
   "nbconvert_exporter": "python",
   "pygments_lexer": "ipython3",
   "version": "3.11.7"
  }
 },
 "nbformat": 4,
 "nbformat_minor": 5
}
