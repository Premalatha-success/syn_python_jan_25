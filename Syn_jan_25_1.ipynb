{
 "cells": [
  {
   "cell_type": "code",
   "execution_count": null,
   "id": "57fbde89-b40c-4b8b-9904-6ed962b2e475",
   "metadata": {},
   "outputs": [],
   "source": [
    "linkedin:https://www.linkedin.com/in/latha-t-k-b21018128/\n",
    "github:https://github.com/Premalatha-success"
   ]
  },
  {
   "cell_type": "markdown",
   "id": "8012c77d-6802-4ba6-b02a-35a887877b54",
   "metadata": {},
   "source": [
    "# My first Program"
   ]
  },
  {
   "cell_type": "markdown",
   "id": "b833ef76-90a8-40e6-b1fa-a2c3a50a15dd",
   "metadata": {},
   "source": [
    "### My first Program"
   ]
  },
  {
   "cell_type": "markdown",
   "id": "2f98b8ec-0579-4e8e-9059-93e7fc4a33d1",
   "metadata": {},
   "source": [
    "#### My first Program"
   ]
  },
  {
   "cell_type": "markdown",
   "id": "67e2a75c-93e6-4da9-a27a-282b3db3a4fc",
   "metadata": {},
   "source": [
    "###### hfhajsfkhdkjhd"
   ]
  },
  {
   "cell_type": "code",
   "execution_count": 1,
   "id": "dd4e050d-b330-49a7-97b0-b495d9a390f1",
   "metadata": {},
   "outputs": [
    {
     "name": "stdout",
     "output_type": "stream",
     "text": [
      "Hello World\n"
     ]
    }
   ],
   "source": [
    "print(\"Hello World\")"
   ]
  },
  {
   "cell_type": "code",
   "execution_count": 2,
   "id": "316b6e44-f1ef-40b9-a10e-454e415605eb",
   "metadata": {},
   "outputs": [
    {
     "name": "stdout",
     "output_type": "stream",
     "text": [
      "Latha\n"
     ]
    }
   ],
   "source": [
    "#### Print ur name\n",
    "print(\"Latha\")"
   ]
  },
  {
   "cell_type": "code",
   "execution_count": 5,
   "id": "2d3e909d-8a72-45f3-9361-a72806e5e368",
   "metadata": {},
   "outputs": [
    {
     "ename": "NameError",
     "evalue": "name 'Print' is not defined",
     "output_type": "error",
     "traceback": [
      "\u001b[1;31m---------------------------------------------------------------------------\u001b[0m",
      "\u001b[1;31mNameError\u001b[0m                                 Traceback (most recent call last)",
      "Cell \u001b[1;32mIn[5], line 1\u001b[0m\n\u001b[1;32m----> 1\u001b[0m Print(\u001b[38;5;124m\"\u001b[39m\u001b[38;5;124mLatha\u001b[39m\u001b[38;5;124m\"\u001b[39m)\n",
      "\u001b[1;31mNameError\u001b[0m: name 'Print' is not defined"
     ]
    }
   ],
   "source": [
    "Print(\"Latha\") ### Python is case-sensitive"
   ]
  },
  {
   "cell_type": "code",
   "execution_count": 6,
   "id": "cc071e1d-59cf-48ca-97dd-0087d1821ef4",
   "metadata": {},
   "outputs": [
    {
     "ename": "NameError",
     "evalue": "name 'latha' is not defined",
     "output_type": "error",
     "traceback": [
      "\u001b[1;31m---------------------------------------------------------------------------\u001b[0m",
      "\u001b[1;31mNameError\u001b[0m                                 Traceback (most recent call last)",
      "Cell \u001b[1;32mIn[6], line 1\u001b[0m\n\u001b[1;32m----> 1\u001b[0m \u001b[38;5;28mprint\u001b[39m(latha)\n",
      "\u001b[1;31mNameError\u001b[0m: name 'latha' is not defined"
     ]
    }
   ],
   "source": [
    "print(latha) ### string should be enclosed with \"\" or ''"
   ]
  },
  {
   "cell_type": "code",
   "execution_count": 7,
   "id": "a4255f05-dd35-4dd3-bce0-42685dfd4ce0",
   "metadata": {},
   "outputs": [
    {
     "name": "stdout",
     "output_type": "stream",
     "text": [
      "1\n"
     ]
    }
   ],
   "source": [
    "print(1)"
   ]
  },
  {
   "cell_type": "code",
   "execution_count": 8,
   "id": "610d6b66-0caa-4bdc-9e16-2a03f21a7a45",
   "metadata": {},
   "outputs": [
    {
     "name": "stdout",
     "output_type": "stream",
     "text": [
      "latha\n"
     ]
    }
   ],
   "source": [
    "print('latha')"
   ]
  },
  {
   "cell_type": "markdown",
   "id": "74915ccd-4649-422e-a5a2-928b4e779785",
   "metadata": {},
   "source": [
    "### Data Types"
   ]
  },
  {
   "cell_type": "code",
   "execution_count": 9,
   "id": "2eb4b4ae-816a-493e-b014-7826879ddc13",
   "metadata": {},
   "outputs": [
    {
     "data": {
      "text/plain": [
       "int"
      ]
     },
     "execution_count": 9,
     "metadata": {},
     "output_type": "execute_result"
    }
   ],
   "source": [
    "a=10\n",
    "type(a) ### int->integer(no. without decimal point)"
   ]
  },
  {
   "cell_type": "code",
   "execution_count": 10,
   "id": "c63fc03b-2590-465a-b956-9b5317228fff",
   "metadata": {},
   "outputs": [
    {
     "data": {
      "text/plain": [
       "float"
      ]
     },
     "execution_count": 10,
     "metadata": {},
     "output_type": "execute_result"
    }
   ],
   "source": [
    "b=10.5\n",
    "type(b) ### float->number with a decimal point"
   ]
  },
  {
   "cell_type": "code",
   "execution_count": 11,
   "id": "4cd36f2e-5017-454d-aa02-71ac724eee0f",
   "metadata": {},
   "outputs": [
    {
     "data": {
      "text/plain": [
       "str"
      ]
     },
     "execution_count": 11,
     "metadata": {},
     "output_type": "execute_result"
    }
   ],
   "source": [
    "c=\"Python\"\n",
    "type(c) ### str->string(text/object)"
   ]
  },
  {
   "cell_type": "code",
   "execution_count": 12,
   "id": "878ab1b3-0db5-4260-aaab-4bc7aa56d1b5",
   "metadata": {},
   "outputs": [
    {
     "data": {
      "text/plain": [
       "bool"
      ]
     },
     "execution_count": 12,
     "metadata": {},
     "output_type": "execute_result"
    }
   ],
   "source": [
    "d=True\n",
    "type(d) ### bool->boolean(True and False)"
   ]
  },
  {
   "cell_type": "code",
   "execution_count": 13,
   "id": "f7801c36-efbb-42f6-b883-b6a91f1498b2",
   "metadata": {},
   "outputs": [
    {
     "ename": "NameError",
     "evalue": "name 'false' is not defined",
     "output_type": "error",
     "traceback": [
      "\u001b[1;31m---------------------------------------------------------------------------\u001b[0m",
      "\u001b[1;31mNameError\u001b[0m                                 Traceback (most recent call last)",
      "Cell \u001b[1;32mIn[13], line 1\u001b[0m\n\u001b[1;32m----> 1\u001b[0m e\u001b[38;5;241m=\u001b[39mfalse\n\u001b[0;32m      2\u001b[0m \u001b[38;5;28mtype\u001b[39m(e)\n",
      "\u001b[1;31mNameError\u001b[0m: name 'false' is not defined"
     ]
    }
   ],
   "source": [
    "e=false\n",
    "type(e) ### It should be False"
   ]
  },
  {
   "cell_type": "code",
   "execution_count": 14,
   "id": "b9154ef2-b769-4244-b832-937cad700178",
   "metadata": {},
   "outputs": [
    {
     "data": {
      "text/plain": [
       "str"
      ]
     },
     "execution_count": 14,
     "metadata": {},
     "output_type": "execute_result"
    }
   ],
   "source": [
    "f=\"True\"\n",
    "type(f)"
   ]
  },
  {
   "cell_type": "code",
   "execution_count": 15,
   "id": "83384986-c0c9-45f0-9cc7-71159f70063c",
   "metadata": {},
   "outputs": [
    {
     "data": {
      "text/plain": [
       "10"
      ]
     },
     "execution_count": 15,
     "metadata": {},
     "output_type": "execute_result"
    }
   ],
   "source": [
    "### Variables\n",
    "x=10\n",
    "x # xis variable"
   ]
  },
  {
   "cell_type": "code",
   "execution_count": 16,
   "id": "71313ca9-4e74-4458-9862-e4e082654b6a",
   "metadata": {},
   "outputs": [
    {
     "data": {
      "text/plain": [
       "[1, 2, 3, 3, 6]"
      ]
     },
     "execution_count": 16,
     "metadata": {},
     "output_type": "execute_result"
    }
   ],
   "source": [
    "sample_list=[1,2,3,3,6]\n",
    "sample_list"
   ]
  },
  {
   "cell_type": "code",
   "execution_count": 17,
   "id": "73b58c5d-22a3-417c-a527-da36f3589d45",
   "metadata": {},
   "outputs": [
    {
     "ename": "SyntaxError",
     "evalue": "invalid syntax (2079876364.py, line 1)",
     "output_type": "error",
     "traceback": [
      "\u001b[1;36m  Cell \u001b[1;32mIn[17], line 1\u001b[1;36m\u001b[0m\n\u001b[1;33m    sample data=1,2,3\u001b[0m\n\u001b[1;37m           ^\u001b[0m\n\u001b[1;31mSyntaxError\u001b[0m\u001b[1;31m:\u001b[0m invalid syntax\n"
     ]
    }
   ],
   "source": [
    "sample data=1,2,3\n",
    "sample data # space is not allowed"
   ]
  },
  {
   "cell_type": "code",
   "execution_count": 18,
   "id": "0acb0e49-25df-4090-8449-56758bb1da72",
   "metadata": {},
   "outputs": [
    {
     "ename": "SyntaxError",
     "evalue": "invalid decimal literal (2535379369.py, line 1)",
     "output_type": "error",
     "traceback": [
      "\u001b[1;36m  Cell \u001b[1;32mIn[18], line 1\u001b[1;36m\u001b[0m\n\u001b[1;33m    2sample=1,2,3,4\u001b[0m\n\u001b[1;37m    ^\u001b[0m\n\u001b[1;31mSyntaxError\u001b[0m\u001b[1;31m:\u001b[0m invalid decimal literal\n"
     ]
    }
   ],
   "source": [
    "2sample=1,2,3,4\n",
    "2sample"
   ]
  },
  {
   "cell_type": "code",
   "execution_count": 19,
   "id": "676a0edd-233e-4ea4-b4b4-f5cf46dfa9c3",
   "metadata": {},
   "outputs": [
    {
     "data": {
      "text/plain": [
       "(1, 2, 3, 4)"
      ]
     },
     "execution_count": 19,
     "metadata": {},
     "output_type": "execute_result"
    }
   ],
   "source": [
    "s2ample=1,2,3,4\n",
    "s2ample # Variable name should not start with a number"
   ]
  },
  {
   "cell_type": "code",
   "execution_count": 21,
   "id": "8dfc0fe9-7960-48c4-bc5d-deced84873be",
   "metadata": {},
   "outputs": [
    {
     "ename": "SyntaxError",
     "evalue": "cannot assign to expression here. Maybe you meant '==' instead of '='? (1259289647.py, line 1)",
     "output_type": "error",
     "traceback": [
      "\u001b[1;36m  Cell \u001b[1;32mIn[21], line 1\u001b[1;36m\u001b[0m\n\u001b[1;33m    sample+data=1,2,3,4\u001b[0m\n\u001b[1;37m    ^\u001b[0m\n\u001b[1;31mSyntaxError\u001b[0m\u001b[1;31m:\u001b[0m cannot assign to expression here. Maybe you meant '==' instead of '='?\n"
     ]
    }
   ],
   "source": [
    "sample+data=1,2,3,4\n",
    "sample+data ### Variable names donot allow any spl char other than _"
   ]
  },
  {
   "cell_type": "markdown",
   "id": "de5cb0a0-b10d-44a6-9c77-a33f3bd5f3e0",
   "metadata": {},
   "source": [
    "#### Variable names can start with A-Z,a-z or _\n",
    "#### Variable names should not start with a number\n",
    "#### Variable name should not have space\n",
    "#### Variable names don't allow any special chars other than _"
   ]
  },
  {
   "cell_type": "code",
   "execution_count": 25,
   "id": "c06659bd-0f54-4c7a-8522-201be5411b6a",
   "metadata": {},
   "outputs": [
    {
     "name": "stdout",
     "output_type": "stream",
     "text": [
      "<class 'int'>\n",
      "10\n"
     ]
    }
   ],
   "source": [
    "x=10\n",
    "print(type(x))\n",
    "print(x)"
   ]
  },
  {
   "cell_type": "markdown",
   "id": "8639b2f7-1876-40c4-91b8-da06ef5f4aec",
   "metadata": {},
   "source": [
    "### String"
   ]
  },
  {
   "cell_type": "code",
   "execution_count": 70,
   "id": "4237035f-3c28-4c2e-b0eb-f56daafedea4",
   "metadata": {},
   "outputs": [
    {
     "data": {
      "text/plain": [
       "'Hello Python'"
      ]
     },
     "execution_count": 70,
     "metadata": {},
     "output_type": "execute_result"
    }
   ],
   "source": [
    "str1=\"Hello Python\"\n",
    "str1"
   ]
  },
  {
   "cell_type": "code",
   "execution_count": 27,
   "id": "fb5dbede-da1b-467f-957a-e8a8b2a1e9f4",
   "metadata": {},
   "outputs": [
    {
     "ename": "SyntaxError",
     "evalue": "unterminated string literal (detected at line 1) (3439460991.py, line 1)",
     "output_type": "error",
     "traceback": [
      "\u001b[1;36m  Cell \u001b[1;32mIn[27], line 1\u001b[1;36m\u001b[0m\n\u001b[1;33m    str1=\"Hello Python'\u001b[0m\n\u001b[1;37m         ^\u001b[0m\n\u001b[1;31mSyntaxError\u001b[0m\u001b[1;31m:\u001b[0m unterminated string literal (detected at line 1)\n"
     ]
    }
   ],
   "source": [
    "str1=\"Hello Python'\n",
    "str1"
   ]
  },
  {
   "cell_type": "code",
   "execution_count": 28,
   "id": "5d68e5a4-b5eb-4239-9f62-0fd0dfcb21a3",
   "metadata": {},
   "outputs": [
    {
     "data": {
      "text/plain": [
       "'Hello World'"
      ]
     },
     "execution_count": 28,
     "metadata": {},
     "output_type": "execute_result"
    }
   ],
   "source": [
    "str1=\"\"\"Hello World\"\"\"\n",
    "str1   ### Multiple lines \"\"\"\"\"\""
   ]
  },
  {
   "cell_type": "code",
   "execution_count": 29,
   "id": "aaa280f2-de95-43f6-8d61-37b78bedb60c",
   "metadata": {},
   "outputs": [
    {
     "data": {
      "text/plain": [
       "'H'"
      ]
     },
     "execution_count": 29,
     "metadata": {},
     "output_type": "execute_result"
    }
   ],
   "source": [
    "str1[0]"
   ]
  },
  {
   "cell_type": "code",
   "execution_count": 30,
   "id": "0ed9b45b-63f4-4be1-aba8-dbc3c398b0fa",
   "metadata": {},
   "outputs": [
    {
     "data": {
      "text/plain": [
       "' '"
      ]
     },
     "execution_count": 30,
     "metadata": {},
     "output_type": "execute_result"
    }
   ],
   "source": [
    "str1[5]"
   ]
  },
  {
   "cell_type": "code",
   "execution_count": 31,
   "id": "60b4acfd-3f98-4709-9ea4-7e2a82883bde",
   "metadata": {},
   "outputs": [
    {
     "data": {
      "text/plain": [
       "'W'"
      ]
     },
     "execution_count": 31,
     "metadata": {},
     "output_type": "execute_result"
    }
   ],
   "source": [
    "str1[6]"
   ]
  },
  {
   "cell_type": "code",
   "execution_count": 32,
   "id": "96cc52b0-fa0c-47a3-8b7f-d90ec9f6527f",
   "metadata": {},
   "outputs": [
    {
     "ename": "IndexError",
     "evalue": "string index out of range",
     "output_type": "error",
     "traceback": [
      "\u001b[1;31m---------------------------------------------------------------------------\u001b[0m",
      "\u001b[1;31mIndexError\u001b[0m                                Traceback (most recent call last)",
      "Cell \u001b[1;32mIn[32], line 1\u001b[0m\n\u001b[1;32m----> 1\u001b[0m str1[\u001b[38;5;241m100\u001b[39m]\n",
      "\u001b[1;31mIndexError\u001b[0m: string index out of range"
     ]
    }
   ],
   "source": [
    "str1[100]"
   ]
  },
  {
   "cell_type": "code",
   "execution_count": 34,
   "id": "39f766e4-9841-4ed5-bd2d-600e28db0a2f",
   "metadata": {},
   "outputs": [
    {
     "ename": "IndexError",
     "evalue": "string index out of range",
     "output_type": "error",
     "traceback": [
      "\u001b[1;31m---------------------------------------------------------------------------\u001b[0m",
      "\u001b[1;31mIndexError\u001b[0m                                Traceback (most recent call last)",
      "Cell \u001b[1;32mIn[34], line 1\u001b[0m\n\u001b[1;32m----> 1\u001b[0m str1[\u001b[38;5;241m11\u001b[39m]\n",
      "\u001b[1;31mIndexError\u001b[0m: string index out of range"
     ]
    }
   ],
   "source": [
    "str1[10]"
   ]
  },
  {
   "cell_type": "code",
   "execution_count": 35,
   "id": "72bbd49a-e368-4419-aafa-d02082dfaaea",
   "metadata": {},
   "outputs": [
    {
     "data": {
      "text/plain": [
       "'d'"
      ]
     },
     "execution_count": 35,
     "metadata": {},
     "output_type": "execute_result"
    }
   ],
   "source": [
    "str1[-1]"
   ]
  },
  {
   "cell_type": "code",
   "execution_count": 36,
   "id": "b7d9a9c1-e90f-4bce-89fa-93fcc7db9630",
   "metadata": {},
   "outputs": [
    {
     "data": {
      "text/plain": [
       "'H'"
      ]
     },
     "execution_count": 36,
     "metadata": {},
     "output_type": "execute_result"
    }
   ],
   "source": [
    "str1[-11]"
   ]
  },
  {
   "cell_type": "code",
   "execution_count": 37,
   "id": "a99d5171-58f7-4db1-862d-dffa916635ed",
   "metadata": {},
   "outputs": [
    {
     "ename": "IndexError",
     "evalue": "string index out of range",
     "output_type": "error",
     "traceback": [
      "\u001b[1;31m---------------------------------------------------------------------------\u001b[0m",
      "\u001b[1;31mIndexError\u001b[0m                                Traceback (most recent call last)",
      "Cell \u001b[1;32mIn[37], line 1\u001b[0m\n\u001b[1;32m----> 1\u001b[0m str1[\u001b[38;5;241m-\u001b[39m\u001b[38;5;241m12\u001b[39m]\n",
      "\u001b[1;31mIndexError\u001b[0m: string index out of range"
     ]
    }
   ],
   "source": [
    "str1[-12]"
   ]
  },
  {
   "cell_type": "code",
   "execution_count": 38,
   "id": "8018b811-f6e2-45a1-8855-6fd355b544f2",
   "metadata": {},
   "outputs": [
    {
     "data": {
      "text/plain": [
       "11"
      ]
     },
     "execution_count": 38,
     "metadata": {},
     "output_type": "execute_result"
    }
   ],
   "source": [
    "len(str1)"
   ]
  },
  {
   "cell_type": "code",
   "execution_count": 39,
   "id": "c8d8195c-891f-4250-9e80-fc22b45f84a2",
   "metadata": {},
   "outputs": [
    {
     "data": {
      "text/plain": [
       "'Hell'"
      ]
     },
     "execution_count": 39,
     "metadata": {},
     "output_type": "execute_result"
    }
   ],
   "source": [
    "str1[0:4] #slicing"
   ]
  },
  {
   "cell_type": "code",
   "execution_count": 40,
   "id": "47731464-b628-4812-9a05-8a79ec7f6fd4",
   "metadata": {},
   "outputs": [
    {
     "data": {
      "text/plain": [
       "'Hello'"
      ]
     },
     "execution_count": 40,
     "metadata": {},
     "output_type": "execute_result"
    }
   ],
   "source": [
    "str1[0:5]"
   ]
  },
  {
   "cell_type": "code",
   "execution_count": 41,
   "id": "6ae27261-ea61-4786-ad86-e6dd30287dab",
   "metadata": {},
   "outputs": [
    {
     "data": {
      "text/plain": [
       "'World'"
      ]
     },
     "execution_count": 41,
     "metadata": {},
     "output_type": "execute_result"
    }
   ],
   "source": [
    "str1[6:11]"
   ]
  },
  {
   "cell_type": "code",
   "execution_count": null,
   "id": "2519fb86-2da0-4fbd-bb25-754bfc6ca86e",
   "metadata": {},
   "outputs": [],
   "source": [
    "### Retrieve World with negative index"
   ]
  },
  {
   "cell_type": "code",
   "execution_count": 43,
   "id": "f36639d1-e0b9-4c43-8d45-cd3a6de98733",
   "metadata": {},
   "outputs": [
    {
     "data": {
      "text/plain": [
       "' Worl'"
      ]
     },
     "execution_count": 43,
     "metadata": {},
     "output_type": "execute_result"
    }
   ],
   "source": [
    "str1[-6:-1]"
   ]
  },
  {
   "cell_type": "code",
   "execution_count": 45,
   "id": "da92300f-7320-4c08-9318-b8cca6d94818",
   "metadata": {},
   "outputs": [
    {
     "data": {
      "text/plain": [
       "'World'"
      ]
     },
     "execution_count": 45,
     "metadata": {},
     "output_type": "execute_result"
    }
   ],
   "source": [
    "str1[-5:]"
   ]
  },
  {
   "cell_type": "code",
   "execution_count": 46,
   "id": "17093418-144e-4df6-be21-b247eb7288d8",
   "metadata": {},
   "outputs": [
    {
     "data": {
      "text/plain": [
       "'Hello'"
      ]
     },
     "execution_count": 46,
     "metadata": {},
     "output_type": "execute_result"
    }
   ],
   "source": [
    "str1[0:5]"
   ]
  },
  {
   "cell_type": "code",
   "execution_count": 47,
   "id": "7a728193-dce2-421e-b41e-07695f59b535",
   "metadata": {},
   "outputs": [
    {
     "data": {
      "text/plain": [
       "'Hello World'"
      ]
     },
     "execution_count": 47,
     "metadata": {},
     "output_type": "execute_result"
    }
   ],
   "source": [
    "str1[0:]"
   ]
  },
  {
   "cell_type": "markdown",
   "id": "3e6ee143-41b4-404f-bf50-2558aca6a965",
   "metadata": {},
   "source": [
    "### Update a string using index"
   ]
  },
  {
   "cell_type": "code",
   "execution_count": 48,
   "id": "936be7ec-b5c5-4d0b-be00-1054c12ef940",
   "metadata": {},
   "outputs": [
    {
     "ename": "TypeError",
     "evalue": "'str' object does not support item assignment",
     "output_type": "error",
     "traceback": [
      "\u001b[1;31m---------------------------------------------------------------------------\u001b[0m",
      "\u001b[1;31mTypeError\u001b[0m                                 Traceback (most recent call last)",
      "Cell \u001b[1;32mIn[48], line 1\u001b[0m\n\u001b[1;32m----> 1\u001b[0m str1[\u001b[38;5;241m0\u001b[39m:\u001b[38;5;241m5\u001b[39m]\u001b[38;5;241m=\u001b[39m\u001b[38;5;124m\"\u001b[39m\u001b[38;5;124mHELLO\u001b[39m\u001b[38;5;124m\"\u001b[39m\n",
      "\u001b[1;31mTypeError\u001b[0m: 'str' object does not support item assignment"
     ]
    }
   ],
   "source": [
    "str1[0:5]=\"HELLO\""
   ]
  },
  {
   "cell_type": "code",
   "execution_count": null,
   "id": "906a9c3e-2e53-445d-be51-1991cff9049a",
   "metadata": {},
   "outputs": [],
   "source": [
    "#### Delete a string"
   ]
  },
  {
   "cell_type": "markdown",
   "id": "5b022dbc-785c-4c5e-9ed8-9c90f4fef368",
   "metadata": {},
   "source": [
    "del str1"
   ]
  },
  {
   "cell_type": "code",
   "execution_count": 50,
   "id": "328b8fc9-5f96-4f1a-98d8-4a802ef59da7",
   "metadata": {},
   "outputs": [
    {
     "ename": "NameError",
     "evalue": "name 'str1' is not defined",
     "output_type": "error",
     "traceback": [
      "\u001b[1;31m---------------------------------------------------------------------------\u001b[0m",
      "\u001b[1;31mNameError\u001b[0m                                 Traceback (most recent call last)",
      "Cell \u001b[1;32mIn[50], line 1\u001b[0m\n\u001b[1;32m----> 1\u001b[0m str1\n",
      "\u001b[1;31mNameError\u001b[0m: name 'str1' is not defined"
     ]
    }
   ],
   "source": [
    "str1"
   ]
  },
  {
   "cell_type": "markdown",
   "id": "47e2fd20-11f0-474c-b593-b03da679cf20",
   "metadata": {},
   "source": [
    "### string concatenation"
   ]
  },
  {
   "cell_type": "code",
   "execution_count": 51,
   "id": "8379802e-0106-41f8-b23a-189f002d1e38",
   "metadata": {},
   "outputs": [
    {
     "data": {
      "text/plain": [
       "'PremaLatha'"
      ]
     },
     "execution_count": 51,
     "metadata": {},
     "output_type": "execute_result"
    }
   ],
   "source": [
    "first_name=\"Prema\"\n",
    "last_name=\"Latha\"\n",
    "full_name=first_name+last_name\n",
    "full_name"
   ]
  },
  {
   "cell_type": "code",
   "execution_count": 54,
   "id": "84487364-eb20-483e-9bf2-82004145a144",
   "metadata": {},
   "outputs": [
    {
     "data": {
      "text/plain": [
       "'Prema Latha'"
      ]
     },
     "execution_count": 54,
     "metadata": {},
     "output_type": "execute_result"
    }
   ],
   "source": [
    "first_name=\"Prema\"\n",
    "last_name=\"Latha\"\n",
    "full_name=first_name+\" \"+last_name\n",
    "full_name"
   ]
  },
  {
   "cell_type": "markdown",
   "id": "318351f8-999d-47c9-abbe-0f6cdd2e4a2c",
   "metadata": {},
   "source": [
    "### Iterating through a string"
   ]
  },
  {
   "cell_type": "code",
   "execution_count": 55,
   "id": "255e65d2-d134-40ce-b640-6123d9f1e094",
   "metadata": {},
   "outputs": [
    {
     "name": "stdout",
     "output_type": "stream",
     "text": [
      "P\n",
      "r\n",
      "e\n",
      "m\n",
      "a\n",
      " \n",
      "L\n",
      "a\n",
      "t\n",
      "h\n",
      "a\n"
     ]
    }
   ],
   "source": [
    "for i in full_name:\n",
    "    print(i)"
   ]
  },
  {
   "cell_type": "code",
   "execution_count": null,
   "id": "edc7233b-7d35-4414-9ff5-7afccb8031a9",
   "metadata": {},
   "outputs": [],
   "source": [
    "### String Membership"
   ]
  },
  {
   "cell_type": "code",
   "execution_count": 56,
   "id": "54e462e1-f197-47e6-ba00-0e05a6418c3d",
   "metadata": {},
   "outputs": [
    {
     "data": {
      "text/plain": [
       "True"
      ]
     },
     "execution_count": 56,
     "metadata": {},
     "output_type": "execute_result"
    }
   ],
   "source": [
    "\"a\" in full_name"
   ]
  },
  {
   "cell_type": "code",
   "execution_count": 57,
   "id": "4a56adc3-5de5-4c8c-a613-42c7a1d58fda",
   "metadata": {},
   "outputs": [
    {
     "data": {
      "text/plain": [
       "False"
      ]
     },
     "execution_count": 57,
     "metadata": {},
     "output_type": "execute_result"
    }
   ],
   "source": [
    "\"k\" in full_name"
   ]
  },
  {
   "cell_type": "code",
   "execution_count": 58,
   "id": "30eff3de-1242-4835-954e-2f79fcacc165",
   "metadata": {},
   "outputs": [
    {
     "data": {
      "text/plain": [
       "'Prema Latha'"
      ]
     },
     "execution_count": 58,
     "metadata": {},
     "output_type": "execute_result"
    }
   ],
   "source": [
    "full_name.strip()"
   ]
  },
  {
   "cell_type": "code",
   "execution_count": 59,
   "id": "8f5c5c48-fa03-46c6-9fd2-4f7b4ed88c7c",
   "metadata": {},
   "outputs": [
    {
     "data": {
      "text/plain": [
       "'Premalatha'"
      ]
     },
     "execution_count": 59,
     "metadata": {},
     "output_type": "execute_result"
    }
   ],
   "source": [
    "full_name=\"      Premalatha   \" ### Removes whitespace\n",
    "full_name.strip()"
   ]
  },
  {
   "cell_type": "code",
   "execution_count": 60,
   "id": "1ce10794-1181-4552-8a11-90edd0939f50",
   "metadata": {},
   "outputs": [
    {
     "data": {
      "text/plain": [
       "'Prema  latha'"
      ]
     },
     "execution_count": 60,
     "metadata": {},
     "output_type": "execute_result"
    }
   ],
   "source": [
    "full_name=\"      Prema  latha   \" \n",
    "full_name.strip()"
   ]
  },
  {
   "cell_type": "code",
   "execution_count": 61,
   "id": "383f616c-0211-4d37-b08d-7584e51e579b",
   "metadata": {},
   "outputs": [
    {
     "data": {
      "text/plain": [
       "'      Prema  latha'"
      ]
     },
     "execution_count": 61,
     "metadata": {},
     "output_type": "execute_result"
    }
   ],
   "source": [
    "full_name.rstrip()"
   ]
  },
  {
   "cell_type": "code",
   "execution_count": 62,
   "id": "d5fdb556-281b-48db-af09-54a0680385fc",
   "metadata": {},
   "outputs": [
    {
     "data": {
      "text/plain": [
       "'Prema  latha   '"
      ]
     },
     "execution_count": 62,
     "metadata": {},
     "output_type": "execute_result"
    }
   ],
   "source": [
    "full_name.lstrip()"
   ]
  },
  {
   "cell_type": "code",
   "execution_count": 64,
   "id": "a1007216-221d-4d24-8c88-6d46dcc02bdd",
   "metadata": {},
   "outputs": [
    {
     "data": {
      "text/plain": [
       "'Hello Everyone!!!!***********All the Best'"
      ]
     },
     "execution_count": 64,
     "metadata": {},
     "output_type": "execute_result"
    }
   ],
   "source": [
    "str2=\"***********Hello Everyone!!!!***********All the Best*****\"\n",
    "str2.strip('*')"
   ]
  },
  {
   "cell_type": "code",
   "execution_count": 65,
   "id": "8a5e79b5-0a71-44f9-b56d-e18e5ce570d4",
   "metadata": {},
   "outputs": [
    {
     "data": {
      "text/plain": [
       "'Hello Everyone!!!!***********All the Best*****'"
      ]
     },
     "execution_count": 65,
     "metadata": {},
     "output_type": "execute_result"
    }
   ],
   "source": [
    "str2.lstrip('*')"
   ]
  },
  {
   "cell_type": "code",
   "execution_count": 67,
   "id": "fc21b32f-b303-403f-af2e-ed615a3a61c0",
   "metadata": {},
   "outputs": [
    {
     "data": {
      "text/plain": [
       "'***********Hello Everyone!!!!***********All the Best'"
      ]
     },
     "execution_count": 67,
     "metadata": {},
     "output_type": "execute_result"
    }
   ],
   "source": [
    "str2.rstrip('*')"
   ]
  },
  {
   "cell_type": "code",
   "execution_count": 71,
   "id": "b30cd277-a119-46a6-984d-acbd7e886746",
   "metadata": {},
   "outputs": [
    {
     "data": {
      "text/plain": [
       "'hello python'"
      ]
     },
     "execution_count": 71,
     "metadata": {},
     "output_type": "execute_result"
    }
   ],
   "source": [
    "str1.lower()"
   ]
  },
  {
   "cell_type": "code",
   "execution_count": 72,
   "id": "bc9a4ee1-01ab-464f-ae7b-9726a8b11aa4",
   "metadata": {},
   "outputs": [
    {
     "data": {
      "text/plain": [
       "'HELLO PYTHON'"
      ]
     },
     "execution_count": 72,
     "metadata": {},
     "output_type": "execute_result"
    }
   ],
   "source": [
    "str1.upper()"
   ]
  },
  {
   "cell_type": "code",
   "execution_count": 73,
   "id": "032eb533-9214-4eba-8089-a290ee38bde0",
   "metadata": {},
   "outputs": [
    {
     "data": {
      "text/plain": [
       "'Welcome To The Session'"
      ]
     },
     "execution_count": 73,
     "metadata": {},
     "output_type": "execute_result"
    }
   ],
   "source": [
    "str3=\"welcome to the session\"\n",
    "str3.title()"
   ]
  },
  {
   "cell_type": "code",
   "execution_count": 74,
   "id": "37482ece-fd9b-42d3-81d4-e8a95f2b2a60",
   "metadata": {},
   "outputs": [
    {
     "data": {
      "text/plain": [
       "'Hello Python'"
      ]
     },
     "execution_count": 74,
     "metadata": {},
     "output_type": "execute_result"
    }
   ],
   "source": [
    "str1"
   ]
  },
  {
   "cell_type": "code",
   "execution_count": 75,
   "id": "6736c5e7-6f10-476a-b4af-6c311d4c64f6",
   "metadata": {},
   "outputs": [
    {
     "data": {
      "text/plain": [
       "'Hallo Python'"
      ]
     },
     "execution_count": 75,
     "metadata": {},
     "output_type": "execute_result"
    }
   ],
   "source": [
    "str1.replace(\"Hello\",\"Hallo\")"
   ]
  },
  {
   "cell_type": "code",
   "execution_count": 76,
   "id": "31679ac0-a339-4208-9d10-1d386a6fa6b8",
   "metadata": {},
   "outputs": [
    {
     "data": {
      "text/plain": [
       "'Hello Java'"
      ]
     },
     "execution_count": 76,
     "metadata": {},
     "output_type": "execute_result"
    }
   ],
   "source": [
    "str1.replace(\"Python\",\"Java\")"
   ]
  },
  {
   "cell_type": "code",
   "execution_count": 77,
   "id": "6c7084cc-a824-4a96-b04c-0e019e2cd685",
   "metadata": {},
   "outputs": [
    {
     "data": {
      "text/plain": [
       "40"
      ]
     },
     "execution_count": 77,
     "metadata": {},
     "output_type": "execute_result"
    }
   ],
   "source": [
    "str4=\"one two three one two one three four one\"\n",
    "len(str4)"
   ]
  },
  {
   "cell_type": "code",
   "execution_count": 78,
   "id": "ae4f7544-8a69-4a9d-abaf-daffa1e4fcb3",
   "metadata": {},
   "outputs": [
    {
     "data": {
      "text/plain": [
       "4"
      ]
     },
     "execution_count": 78,
     "metadata": {},
     "output_type": "execute_result"
    }
   ],
   "source": [
    "str4.count(\"one\")"
   ]
  },
  {
   "cell_type": "code",
   "execution_count": 79,
   "id": "24f56822-02bc-45c3-a133-4cd1ac27e266",
   "metadata": {},
   "outputs": [
    {
     "data": {
      "text/plain": [
       "0"
      ]
     },
     "execution_count": 79,
     "metadata": {},
     "output_type": "execute_result"
    }
   ],
   "source": [
    "str4.count(\"five\")"
   ]
  },
  {
   "cell_type": "code",
   "execution_count": 80,
   "id": "c3fc844b-8365-4999-a64d-7de5e1946941",
   "metadata": {},
   "outputs": [
    {
     "data": {
      "text/plain": [
       "True"
      ]
     },
     "execution_count": 80,
     "metadata": {},
     "output_type": "execute_result"
    }
   ],
   "source": [
    "\"three\" in str4"
   ]
  },
  {
   "cell_type": "code",
   "execution_count": 81,
   "id": "294a0fbc-28f1-4b74-894b-278881b8a561",
   "metadata": {},
   "outputs": [
    {
     "data": {
      "text/plain": [
       "False"
      ]
     },
     "execution_count": 81,
     "metadata": {},
     "output_type": "execute_result"
    }
   ],
   "source": [
    "\"five\" in str4"
   ]
  },
  {
   "cell_type": "code",
   "execution_count": 82,
   "id": "e0156e2b-ad0f-400e-a7a4-7aff717cbefc",
   "metadata": {},
   "outputs": [
    {
     "name": "stdout",
     "output_type": "stream",
     "text": [
      "o\n",
      "n\n",
      "e\n",
      " \n",
      "t\n",
      "w\n",
      "o\n",
      " \n",
      "t\n",
      "h\n",
      "r\n",
      "e\n",
      "e\n",
      " \n",
      "o\n",
      "n\n",
      "e\n",
      " \n",
      "t\n",
      "w\n",
      "o\n",
      " \n",
      "o\n",
      "n\n",
      "e\n",
      " \n",
      "t\n",
      "h\n",
      "r\n",
      "e\n",
      "e\n",
      " \n",
      "f\n",
      "o\n",
      "u\n",
      "r\n",
      " \n",
      "o\n",
      "n\n",
      "e\n"
     ]
    }
   ],
   "source": [
    "for i in str4:\n",
    "    print(i)"
   ]
  },
  {
   "cell_type": "code",
   "execution_count": 83,
   "id": "f135ab10-e3e0-462c-aef7-53509e021879",
   "metadata": {},
   "outputs": [
    {
     "data": {
      "text/plain": [
       "True"
      ]
     },
     "execution_count": 83,
     "metadata": {},
     "output_type": "execute_result"
    }
   ],
   "source": [
    "str4.startswith(\"one\")"
   ]
  },
  {
   "cell_type": "code",
   "execution_count": 85,
   "id": "cf4372e2-7b4c-4d64-98a5-5072af27cf34",
   "metadata": {},
   "outputs": [
    {
     "data": {
      "text/plain": [
       "False"
      ]
     },
     "execution_count": 85,
     "metadata": {},
     "output_type": "execute_result"
    }
   ],
   "source": [
    "str4.endswith(\"five\")"
   ]
  },
  {
   "cell_type": "code",
   "execution_count": 86,
   "id": "6c05fe15-5b5f-4855-a87f-d462f80fa61c",
   "metadata": {},
   "outputs": [
    {
     "data": {
      "text/plain": [
       "['one', 'two', 'three', 'one', 'two', 'one', 'three', 'four', 'one']"
      ]
     },
     "execution_count": 86,
     "metadata": {},
     "output_type": "execute_result"
    }
   ],
   "source": [
    "str4.split()"
   ]
  },
  {
   "cell_type": "code",
   "execution_count": 92,
   "id": "bc7c32fa-7983-41c6-834b-dbdf7f666b4f",
   "metadata": {},
   "outputs": [
    {
     "data": {
      "text/plain": [
       "'                                          welcome Everyone                                          '"
      ]
     },
     "execution_count": 92,
     "metadata": {},
     "output_type": "execute_result"
    }
   ],
   "source": [
    "str5=\"welcome Everyone\"\n",
    "str5.center(100)"
   ]
  },
  {
   "cell_type": "code",
   "execution_count": 93,
   "id": "4d25c400-ee84-4177-8bc8-fb03ec4094b9",
   "metadata": {},
   "outputs": [
    {
     "data": {
      "text/plain": [
       "'                                                                                    welcome Everyone'"
      ]
     },
     "execution_count": 93,
     "metadata": {},
     "output_type": "execute_result"
    }
   ],
   "source": [
    "str5.rjust(100)"
   ]
  },
  {
   "cell_type": "code",
   "execution_count": 94,
   "id": "f3e033aa-c2f2-4249-b903-4a913b472caa",
   "metadata": {},
   "outputs": [
    {
     "data": {
      "text/plain": [
       "'welcome Everyone                                                                                    '"
      ]
     },
     "execution_count": 94,
     "metadata": {},
     "output_type": "execute_result"
    }
   ],
   "source": [
    "str5.ljust(100)"
   ]
  },
  {
   "cell_type": "code",
   "execution_count": 95,
   "id": "afceb39d-ce36-494f-b7f7-fc43f4b09a7c",
   "metadata": {},
   "outputs": [
    {
     "data": {
      "text/plain": [
       "True"
      ]
     },
     "execution_count": 95,
     "metadata": {},
     "output_type": "execute_result"
    }
   ],
   "source": [
    "\"one\" in str5"
   ]
  },
  {
   "cell_type": "code",
   "execution_count": 96,
   "id": "6adbe43d-d652-4072-af14-24efb4d8c03c",
   "metadata": {},
   "outputs": [
    {
     "data": {
      "text/plain": [
       "13"
      ]
     },
     "execution_count": 96,
     "metadata": {},
     "output_type": "execute_result"
    }
   ],
   "source": [
    "str5.find(\"one\")"
   ]
  },
  {
   "cell_type": "code",
   "execution_count": 97,
   "id": "f5f05041-778c-4fb3-937f-f4a2f0829bad",
   "metadata": {},
   "outputs": [
    {
     "data": {
      "text/plain": [
       "13"
      ]
     },
     "execution_count": 97,
     "metadata": {},
     "output_type": "execute_result"
    }
   ],
   "source": [
    "str5.index(\"one\")"
   ]
  },
  {
   "cell_type": "markdown",
   "id": "2e1588f4-59e4-45a9-a21b-014051a175d0",
   "metadata": {},
   "source": [
    "### List"
   ]
  },
  {
   "cell_type": "code",
   "execution_count": null,
   "id": "2fb8ffe4-ca1a-43d4-8727-986e0afe35b6",
   "metadata": {},
   "outputs": [],
   "source": [
    "### heterogenous->allow multiple data types\n",
    "### Square bracket\n",
    "### Retrieved using index\n",
    "### List is mutable(change is accepted)"
   ]
  },
  {
   "cell_type": "code",
   "execution_count": 98,
   "id": "b3cd250e-88cd-40be-b4ec-276deedcfea9",
   "metadata": {},
   "outputs": [
    {
     "data": {
      "text/plain": [
       "[12, 25, 12.87, True, 'python', 'sql']"
      ]
     },
     "execution_count": 98,
     "metadata": {},
     "output_type": "execute_result"
    }
   ],
   "source": [
    "list1=[12,25,12.87,True,\"python\",\"sql\"]\n",
    "list1"
   ]
  },
  {
   "cell_type": "code",
   "execution_count": 99,
   "id": "7596ab11-3d4c-41ca-9d6f-e2879da616b6",
   "metadata": {},
   "outputs": [
    {
     "data": {
      "text/plain": [
       "12"
      ]
     },
     "execution_count": 99,
     "metadata": {},
     "output_type": "execute_result"
    }
   ],
   "source": [
    "list1[0]"
   ]
  },
  {
   "cell_type": "code",
   "execution_count": 100,
   "id": "cdd31890-c864-4113-96d5-1ff4ab970c26",
   "metadata": {},
   "outputs": [
    {
     "data": {
      "text/plain": [
       "'sql'"
      ]
     },
     "execution_count": 100,
     "metadata": {},
     "output_type": "execute_result"
    }
   ],
   "source": [
    "list1[5]"
   ]
  },
  {
   "cell_type": "code",
   "execution_count": 101,
   "id": "e93bb829-01b1-4155-bc5d-562d3c7fa3a1",
   "metadata": {},
   "outputs": [
    {
     "ename": "IndexError",
     "evalue": "list index out of range",
     "output_type": "error",
     "traceback": [
      "\u001b[1;31m---------------------------------------------------------------------------\u001b[0m",
      "\u001b[1;31mIndexError\u001b[0m                                Traceback (most recent call last)",
      "Cell \u001b[1;32mIn[101], line 1\u001b[0m\n\u001b[1;32m----> 1\u001b[0m list1[\u001b[38;5;241m15\u001b[39m]\n",
      "\u001b[1;31mIndexError\u001b[0m: list index out of range"
     ]
    }
   ],
   "source": [
    "list1[15]"
   ]
  },
  {
   "cell_type": "code",
   "execution_count": 103,
   "id": "1f461c1a-98cf-4abe-a885-cc38dd63d912",
   "metadata": {},
   "outputs": [
    {
     "data": {
      "text/plain": [
       "['python', 'sql']"
      ]
     },
     "execution_count": 103,
     "metadata": {},
     "output_type": "execute_result"
    }
   ],
   "source": [
    "list1[4:]"
   ]
  },
  {
   "cell_type": "code",
   "execution_count": 105,
   "id": "2c86aa60-2a22-4ece-9760-dc1a1549e3dd",
   "metadata": {},
   "outputs": [
    {
     "data": {
      "text/plain": [
       "['python', 'sql']"
      ]
     },
     "execution_count": 105,
     "metadata": {},
     "output_type": "execute_result"
    }
   ],
   "source": [
    "list1[4:6]"
   ]
  },
  {
   "cell_type": "code",
   "execution_count": 106,
   "id": "5cb7659c-721b-4742-85fa-cc538d4d5895",
   "metadata": {},
   "outputs": [
    {
     "data": {
      "text/plain": [
       "['python', 'sql']"
      ]
     },
     "execution_count": 106,
     "metadata": {},
     "output_type": "execute_result"
    }
   ],
   "source": [
    "list1[-2:]"
   ]
  },
  {
   "cell_type": "code",
   "execution_count": 107,
   "id": "d8ac4bb3-aea0-45d7-a23e-97134c1d99da",
   "metadata": {},
   "outputs": [
    {
     "data": {
      "text/plain": [
       "[12, 25, 12.87, True]"
      ]
     },
     "execution_count": 107,
     "metadata": {},
     "output_type": "execute_result"
    }
   ],
   "source": [
    "list1[:-2]"
   ]
  },
  {
   "cell_type": "code",
   "execution_count": 109,
   "id": "159551d3-9de2-4eae-b748-ca21c178da01",
   "metadata": {},
   "outputs": [
    {
     "data": {
      "text/plain": [
       "['Python', 25, [31, 21.8, False]]"
      ]
     },
     "execution_count": 109,
     "metadata": {},
     "output_type": "execute_result"
    }
   ],
   "source": [
    "### nested list\n",
    "list2=[\"Python\",25,[31,21.8,False]]\n",
    "list2"
   ]
  },
  {
   "cell_type": "code",
   "execution_count": 110,
   "id": "40331004-ad80-422f-ac3a-24a39ad96ed6",
   "metadata": {},
   "outputs": [
    {
     "data": {
      "text/plain": [
       "list"
      ]
     },
     "execution_count": 110,
     "metadata": {},
     "output_type": "execute_result"
    }
   ],
   "source": [
    "type(list2)"
   ]
  },
  {
   "cell_type": "code",
   "execution_count": 111,
   "id": "6211a990-2345-4bb3-b558-7e146ffe97b4",
   "metadata": {},
   "outputs": [
    {
     "data": {
      "text/plain": [
       "6"
      ]
     },
     "execution_count": 111,
     "metadata": {},
     "output_type": "execute_result"
    }
   ],
   "source": [
    "len(list1)"
   ]
  },
  {
   "cell_type": "code",
   "execution_count": 112,
   "id": "16f56b6c-1101-4a92-ae27-cfe4f5db016f",
   "metadata": {},
   "outputs": [
    {
     "data": {
      "text/plain": [
       "3"
      ]
     },
     "execution_count": 112,
     "metadata": {},
     "output_type": "execute_result"
    }
   ],
   "source": [
    "len(list2)"
   ]
  },
  {
   "cell_type": "code",
   "execution_count": 114,
   "id": "ef0ff336-9671-4c76-95ee-471eff874236",
   "metadata": {},
   "outputs": [
    {
     "data": {
      "text/plain": [
       "31"
      ]
     },
     "execution_count": 114,
     "metadata": {},
     "output_type": "execute_result"
    }
   ],
   "source": [
    "list2[2][0]"
   ]
  },
  {
   "cell_type": "code",
   "execution_count": 115,
   "id": "3bdc488a-f791-44c6-b24a-ae5998ca774e",
   "metadata": {},
   "outputs": [
    {
     "data": {
      "text/plain": [
       "False"
      ]
     },
     "execution_count": 115,
     "metadata": {},
     "output_type": "execute_result"
    }
   ],
   "source": [
    "list2[-1][-1]"
   ]
  },
  {
   "cell_type": "code",
   "execution_count": 116,
   "id": "48d4639f-bacd-430b-8cc5-36ad6f74fcc3",
   "metadata": {},
   "outputs": [
    {
     "ename": "AttributeError",
     "evalue": "'list' object has no attribute 'add'",
     "output_type": "error",
     "traceback": [
      "\u001b[1;31m---------------------------------------------------------------------------\u001b[0m",
      "\u001b[1;31mAttributeError\u001b[0m                            Traceback (most recent call last)",
      "Cell \u001b[1;32mIn[116], line 1\u001b[0m\n\u001b[1;32m----> 1\u001b[0m list2\u001b[38;5;241m.\u001b[39madd(\u001b[38;5;241m10\u001b[39m)\n",
      "\u001b[1;31mAttributeError\u001b[0m: 'list' object has no attribute 'add'"
     ]
    }
   ],
   "source": [
    "list2.add(10)"
   ]
  },
  {
   "cell_type": "code",
   "execution_count": 117,
   "id": "65e46146-63ad-4140-b470-983c6e4637f0",
   "metadata": {},
   "outputs": [],
   "source": [
    "list2.append(10)"
   ]
  },
  {
   "cell_type": "code",
   "execution_count": 118,
   "id": "f6c94bc7-cd7f-41b1-aa49-ee3f5a78016b",
   "metadata": {},
   "outputs": [
    {
     "data": {
      "text/plain": [
       "['Python', 25, [31, 21.8, False], 10]"
      ]
     },
     "execution_count": 118,
     "metadata": {},
     "output_type": "execute_result"
    }
   ],
   "source": [
    "list2"
   ]
  },
  {
   "cell_type": "code",
   "execution_count": 119,
   "id": "d569a434-7ba5-4e58-98e0-4fce8cf3dd7d",
   "metadata": {},
   "outputs": [],
   "source": [
    "list2.append(1)"
   ]
  },
  {
   "cell_type": "code",
   "execution_count": 120,
   "id": "3a7e434d-17bb-402b-b2d2-2525b35fb310",
   "metadata": {},
   "outputs": [
    {
     "data": {
      "text/plain": [
       "['Python', 25, [31, 21.8, False], 10, 1]"
      ]
     },
     "execution_count": 120,
     "metadata": {},
     "output_type": "execute_result"
    }
   ],
   "source": [
    "list2"
   ]
  },
  {
   "cell_type": "code",
   "execution_count": 122,
   "id": "105c8ffc-e899-46e2-8366-7607d90f9390",
   "metadata": {},
   "outputs": [],
   "source": [
    "list2.insert(2,22.7)"
   ]
  },
  {
   "cell_type": "code",
   "execution_count": 123,
   "id": "7c55fe67-b34b-414a-872a-735775206959",
   "metadata": {},
   "outputs": [
    {
     "data": {
      "text/plain": [
       "['Python', 25, 22.7, [31, 21.8, False], 10, 1]"
      ]
     },
     "execution_count": 123,
     "metadata": {},
     "output_type": "execute_result"
    }
   ],
   "source": [
    "list2"
   ]
  },
  {
   "cell_type": "code",
   "execution_count": 125,
   "id": "8426ebbe-829e-4727-9bf0-25a195886a73",
   "metadata": {},
   "outputs": [],
   "source": [
    "list2.remove(10)"
   ]
  },
  {
   "cell_type": "code",
   "execution_count": 126,
   "id": "159459c9-8373-421a-90be-c6fae4d7f166",
   "metadata": {},
   "outputs": [
    {
     "data": {
      "text/plain": [
       "['Python', 25, 22.7, [31, 21.8, False], 1]"
      ]
     },
     "execution_count": 126,
     "metadata": {},
     "output_type": "execute_result"
    }
   ],
   "source": [
    "list2"
   ]
  },
  {
   "cell_type": "code",
   "execution_count": 127,
   "id": "b1a4bf50-010e-4992-9fb7-2396d3030aa8",
   "metadata": {},
   "outputs": [
    {
     "data": {
      "text/plain": [
       "1"
      ]
     },
     "execution_count": 127,
     "metadata": {},
     "output_type": "execute_result"
    }
   ],
   "source": [
    "list2.pop()"
   ]
  },
  {
   "cell_type": "code",
   "execution_count": 128,
   "id": "1e82ead0-d17c-4d1a-b1d9-9afcf7949467",
   "metadata": {},
   "outputs": [
    {
     "data": {
      "text/plain": [
       "['Python', 25, 22.7, [31, 21.8, False]]"
      ]
     },
     "execution_count": 128,
     "metadata": {},
     "output_type": "execute_result"
    }
   ],
   "source": [
    "list2"
   ]
  },
  {
   "cell_type": "code",
   "execution_count": 129,
   "id": "b0d9370c-778a-485b-ad96-113a44636a59",
   "metadata": {},
   "outputs": [
    {
     "data": {
      "text/plain": [
       "['Python', 25, 22.7]"
      ]
     },
     "execution_count": 129,
     "metadata": {},
     "output_type": "execute_result"
    }
   ],
   "source": [
    "list2.pop()\n",
    "list2"
   ]
  },
  {
   "cell_type": "code",
   "execution_count": 130,
   "id": "94400791-db4e-44cc-b7ed-463bf8e76bd6",
   "metadata": {},
   "outputs": [
    {
     "data": {
      "text/plain": [
       "22.7"
      ]
     },
     "execution_count": 130,
     "metadata": {},
     "output_type": "execute_result"
    }
   ],
   "source": [
    "### list2.remove(22.7)\n",
    "list2.pop(2)"
   ]
  },
  {
   "cell_type": "code",
   "execution_count": 131,
   "id": "217e2fea-930a-4e45-b7c5-ac306a55d8fb",
   "metadata": {},
   "outputs": [
    {
     "data": {
      "text/plain": [
       "['Python', 25]"
      ]
     },
     "execution_count": 131,
     "metadata": {},
     "output_type": "execute_result"
    }
   ],
   "source": [
    "list2"
   ]
  },
  {
   "cell_type": "code",
   "execution_count": 132,
   "id": "495c4a7c-d3f2-47e6-9bac-3a690ad6d1d5",
   "metadata": {},
   "outputs": [
    {
     "data": {
      "text/plain": [
       "[12, 25, 12.87, True, 'python', 'sql']"
      ]
     },
     "execution_count": 132,
     "metadata": {},
     "output_type": "execute_result"
    }
   ],
   "source": [
    "list1"
   ]
  },
  {
   "cell_type": "code",
   "execution_count": 133,
   "id": "0af8301f-2c1b-42f8-a1ed-6e9998d3b916",
   "metadata": {},
   "outputs": [],
   "source": [
    "list1[0]=13"
   ]
  },
  {
   "cell_type": "code",
   "execution_count": 134,
   "id": "c78ad3c6-c7ad-47f4-a64b-2127a6009e65",
   "metadata": {},
   "outputs": [
    {
     "data": {
      "text/plain": [
       "[13, 25, 12.87, True, 'python', 'sql']"
      ]
     },
     "execution_count": 134,
     "metadata": {},
     "output_type": "execute_result"
    }
   ],
   "source": [
    "list1"
   ]
  },
  {
   "cell_type": "code",
   "execution_count": 135,
   "id": "e7a176a0-19a0-4c79-94d5-c71a9696230f",
   "metadata": {},
   "outputs": [],
   "source": [
    "del list2"
   ]
  },
  {
   "cell_type": "code",
   "execution_count": 136,
   "id": "1b9aba61-de53-4446-8f5d-7bacd5b108e7",
   "metadata": {},
   "outputs": [
    {
     "ename": "NameError",
     "evalue": "name 'list2' is not defined",
     "output_type": "error",
     "traceback": [
      "\u001b[1;31m---------------------------------------------------------------------------\u001b[0m",
      "\u001b[1;31mNameError\u001b[0m                                 Traceback (most recent call last)",
      "Cell \u001b[1;32mIn[136], line 1\u001b[0m\n\u001b[1;32m----> 1\u001b[0m list2\n",
      "\u001b[1;31mNameError\u001b[0m: name 'list2' is not defined"
     ]
    }
   ],
   "source": [
    "list2"
   ]
  },
  {
   "cell_type": "code",
   "execution_count": 137,
   "id": "3267cd28-7e39-486d-bf6d-1ef44b7905f9",
   "metadata": {},
   "outputs": [
    {
     "data": {
      "text/plain": [
       "[13, 25, 12.87, True, 'python', 'sql']"
      ]
     },
     "execution_count": 137,
     "metadata": {},
     "output_type": "execute_result"
    }
   ],
   "source": [
    "list1"
   ]
  },
  {
   "cell_type": "code",
   "execution_count": 138,
   "id": "4d52290b-11de-408e-ab9b-33c3750d04da",
   "metadata": {},
   "outputs": [
    {
     "data": {
      "text/plain": [
       "[13, 25, 12.87, True, 'python', 'sql']"
      ]
     },
     "execution_count": 138,
     "metadata": {},
     "output_type": "execute_result"
    }
   ],
   "source": [
    "list3=list1.copy()\n",
    "list3"
   ]
  },
  {
   "cell_type": "code",
   "execution_count": 140,
   "id": "08904f57-6edd-433b-a4b5-f519c2856cec",
   "metadata": {},
   "outputs": [],
   "source": [
    "list4=list1+list3"
   ]
  },
  {
   "cell_type": "code",
   "execution_count": 141,
   "id": "2e23a8f0-c792-4356-b0df-a30aabfa06af",
   "metadata": {},
   "outputs": [
    {
     "data": {
      "text/plain": [
       "[13, 25, 12.87, True, 'python', 'sql', 13, 25, 12.87, True, 'python', 'sql']"
      ]
     },
     "execution_count": 141,
     "metadata": {},
     "output_type": "execute_result"
    }
   ],
   "source": [
    "list4"
   ]
  },
  {
   "cell_type": "code",
   "execution_count": 147,
   "id": "c37563ba-0b48-4016-a3ff-280d7ad0727f",
   "metadata": {},
   "outputs": [],
   "source": [
    "list1.extend(list3)"
   ]
  },
  {
   "cell_type": "code",
   "execution_count": 153,
   "id": "9ba18b92-1289-4de4-aefa-e066d177b4fc",
   "metadata": {},
   "outputs": [
    {
     "data": {
      "text/plain": [
       "[13,\n",
       " 25,\n",
       " 12.87,\n",
       " True,\n",
       " 'python',\n",
       " 'sql',\n",
       " 13,\n",
       " 25,\n",
       " 12.87,\n",
       " True,\n",
       " 'python',\n",
       " 'sql',\n",
       " 13,\n",
       " 25,\n",
       " 12.87,\n",
       " True,\n",
       " 'python',\n",
       " 'sql',\n",
       " 13,\n",
       " 25,\n",
       " 12.87,\n",
       " True,\n",
       " 'python',\n",
       " 'sql',\n",
       " 13,\n",
       " 25,\n",
       " 12.87,\n",
       " True,\n",
       " 'python',\n",
       " 'sql']"
      ]
     },
     "execution_count": 153,
     "metadata": {},
     "output_type": "execute_result"
    }
   ],
   "source": [
    "list1"
   ]
  },
  {
   "cell_type": "code",
   "execution_count": 149,
   "id": "f9713155-0da5-4018-b3ab-a2d3ffe37452",
   "metadata": {},
   "outputs": [
    {
     "data": {
      "text/plain": [
       "True"
      ]
     },
     "execution_count": 149,
     "metadata": {},
     "output_type": "execute_result"
    }
   ],
   "source": [
    "\"python\" in list1"
   ]
  },
  {
   "cell_type": "code",
   "execution_count": 151,
   "id": "a67db084-105a-4a0b-afa0-454055de7cf7",
   "metadata": {},
   "outputs": [
    {
     "data": {
      "text/plain": [
       "False"
      ]
     },
     "execution_count": 151,
     "metadata": {},
     "output_type": "execute_result"
    }
   ],
   "source": [
    "\"one\" in list1"
   ]
  },
  {
   "cell_type": "code",
   "execution_count": 152,
   "id": "c7b9a7d4-149a-4197-aa64-25c75b346ba7",
   "metadata": {},
   "outputs": [
    {
     "name": "stdout",
     "output_type": "stream",
     "text": [
      "There is python in the list\n"
     ]
    }
   ],
   "source": [
    "if \"python\" in list1:\n",
    "    print(\"There is python in the list\")\n",
    "else:\n",
    "    print(\"There is no python word in the list\")"
   ]
  },
  {
   "cell_type": "code",
   "execution_count": 154,
   "id": "c1e5a137-3cd5-4777-ab47-5a212c292303",
   "metadata": {},
   "outputs": [
    {
     "data": {
      "text/plain": [
       "[13,\n",
       " 25,\n",
       " 12.87,\n",
       " True,\n",
       " 'python',\n",
       " 'sql',\n",
       " 13,\n",
       " 25,\n",
       " 12.87,\n",
       " True,\n",
       " 'python',\n",
       " 'sql',\n",
       " 13,\n",
       " 25,\n",
       " 12.87,\n",
       " True,\n",
       " 'python',\n",
       " 'sql',\n",
       " 13,\n",
       " 25,\n",
       " 12.87,\n",
       " True,\n",
       " 'python',\n",
       " 'sql',\n",
       " 13,\n",
       " 25,\n",
       " 12.87,\n",
       " True,\n",
       " 'python',\n",
       " 'sql']"
      ]
     },
     "execution_count": 154,
     "metadata": {},
     "output_type": "execute_result"
    }
   ],
   "source": [
    "list1"
   ]
  },
  {
   "cell_type": "code",
   "execution_count": 155,
   "id": "da817cab-caa2-48c2-a2ef-da8f280f34c0",
   "metadata": {},
   "outputs": [
    {
     "data": {
      "text/plain": [
       "[10, 20, 30, 21, 41, 79]"
      ]
     },
     "execution_count": 155,
     "metadata": {},
     "output_type": "execute_result"
    }
   ],
   "source": [
    "### Reverse this list\n",
    "list1=[10,20,30,21,41,79]\n",
    "list1"
   ]
  },
  {
   "cell_type": "code",
   "execution_count": 156,
   "id": "54328303-f82e-4a05-a9be-22062851ec35",
   "metadata": {},
   "outputs": [],
   "source": [
    "list1.reverse()"
   ]
  },
  {
   "cell_type": "code",
   "execution_count": 157,
   "id": "ddc5f00f-e364-4ea7-85d6-7b95fd3a4525",
   "metadata": {},
   "outputs": [
    {
     "data": {
      "text/plain": [
       "[79, 41, 21, 30, 20, 10]"
      ]
     },
     "execution_count": 157,
     "metadata": {},
     "output_type": "execute_result"
    }
   ],
   "source": [
    "list1"
   ]
  },
  {
   "cell_type": "code",
   "execution_count": 158,
   "id": "06186d51-ef5d-4748-8aa8-de77dd67c28b",
   "metadata": {},
   "outputs": [],
   "source": [
    "list1.sort()"
   ]
  },
  {
   "cell_type": "code",
   "execution_count": 159,
   "id": "01d49ba3-c791-48b7-a716-a079145c5dcd",
   "metadata": {},
   "outputs": [
    {
     "data": {
      "text/plain": [
       "[10, 20, 21, 30, 41, 79]"
      ]
     },
     "execution_count": 159,
     "metadata": {},
     "output_type": "execute_result"
    }
   ],
   "source": [
    "list1"
   ]
  },
  {
   "cell_type": "code",
   "execution_count": 160,
   "id": "3640a101-cb4a-459c-8ca1-4b34277db0f9",
   "metadata": {},
   "outputs": [],
   "source": [
    "list1.sort(reverse=True)"
   ]
  },
  {
   "cell_type": "code",
   "execution_count": 161,
   "id": "3f61677c-76d5-46c7-8418-563edd2ee8fa",
   "metadata": {},
   "outputs": [
    {
     "data": {
      "text/plain": [
       "[79, 41, 30, 21, 20, 10]"
      ]
     },
     "execution_count": 161,
     "metadata": {},
     "output_type": "execute_result"
    }
   ],
   "source": [
    "list1"
   ]
  },
  {
   "cell_type": "code",
   "execution_count": 162,
   "id": "03b0ac95-670d-45f7-8a37-77c4a4577f5a",
   "metadata": {},
   "outputs": [
    {
     "data": {
      "text/plain": [
       "[79, 41, 30, 21, 20, 10]"
      ]
     },
     "execution_count": 162,
     "metadata": {},
     "output_type": "execute_result"
    }
   ],
   "source": [
    "list1"
   ]
  },
  {
   "cell_type": "code",
   "execution_count": 163,
   "id": "9a6054b8-f98a-42f1-ad02-59630b02b059",
   "metadata": {},
   "outputs": [
    {
     "data": {
      "text/plain": [
       "[10, 20, 21, 30, 41, 79]"
      ]
     },
     "execution_count": 163,
     "metadata": {},
     "output_type": "execute_result"
    }
   ],
   "source": [
    "list1[::-1] #reverse the list"
   ]
  },
  {
   "cell_type": "code",
   "execution_count": 164,
   "id": "c784d8d4-1564-4b66-ac6d-f3cf981ce18b",
   "metadata": {},
   "outputs": [
    {
     "name": "stdout",
     "output_type": "stream",
     "text": [
      "79\n",
      "41\n",
      "30\n",
      "21\n",
      "20\n",
      "10\n"
     ]
    }
   ],
   "source": [
    "for i in list1:\n",
    "    print(i)"
   ]
  },
  {
   "cell_type": "code",
   "execution_count": 165,
   "id": "c48614da-f2e1-424b-baa1-0ee12550dacc",
   "metadata": {},
   "outputs": [
    {
     "data": {
      "text/plain": [
       "1"
      ]
     },
     "execution_count": 165,
     "metadata": {},
     "output_type": "execute_result"
    }
   ],
   "source": [
    "list1.count(10)"
   ]
  },
  {
   "cell_type": "code",
   "execution_count": 166,
   "id": "cb909dd5-8ed5-4212-a513-f2d80bc7d1bf",
   "metadata": {},
   "outputs": [],
   "source": [
    "list3=[10,20,30,21,41,79,\"Python\",\"pyspark\"]"
   ]
  },
  {
   "cell_type": "code",
   "execution_count": 167,
   "id": "fe88d678-1034-4d8a-90e7-f1b861a1e88b",
   "metadata": {},
   "outputs": [
    {
     "ename": "TypeError",
     "evalue": "'<' not supported between instances of 'str' and 'int'",
     "output_type": "error",
     "traceback": [
      "\u001b[1;31m---------------------------------------------------------------------------\u001b[0m",
      "\u001b[1;31mTypeError\u001b[0m                                 Traceback (most recent call last)",
      "Cell \u001b[1;32mIn[167], line 1\u001b[0m\n\u001b[1;32m----> 1\u001b[0m list3\u001b[38;5;241m.\u001b[39msort()\n",
      "\u001b[1;31mTypeError\u001b[0m: '<' not supported between instances of 'str' and 'int'"
     ]
    }
   ],
   "source": [
    "list3.sort()"
   ]
  },
  {
   "cell_type": "code",
   "execution_count": 168,
   "id": "62c25480-88ff-4fee-8502-fa62b36209a8",
   "metadata": {},
   "outputs": [],
   "source": [
    "list4=[\"sql\",\"java\",\"Python\",\"pyspark\"]\n",
    "list4.sort()"
   ]
  },
  {
   "cell_type": "code",
   "execution_count": 169,
   "id": "3ac96579-8e8f-4d97-a7c1-ab755fd25e5c",
   "metadata": {},
   "outputs": [
    {
     "data": {
      "text/plain": [
       "['Python', 'java', 'pyspark', 'sql']"
      ]
     },
     "execution_count": 169,
     "metadata": {},
     "output_type": "execute_result"
    }
   ],
   "source": [
    "list4"
   ]
  },
  {
   "cell_type": "markdown",
   "id": "3db526d8-a0e9-479e-921b-95dc24f4f4ac",
   "metadata": {},
   "source": [
    "### Tuple"
   ]
  },
  {
   "cell_type": "code",
   "execution_count": null,
   "id": "08e34ff9-4fa2-4a38-ba1b-03490a5dc1aa",
   "metadata": {},
   "outputs": [],
   "source": [
    "#### Paranthesis or without any brackets\n",
    "#### immutable\n",
    "#### heterogenous\n",
    "#### retrieve it using index"
   ]
  },
  {
   "cell_type": "code",
   "execution_count": 182,
   "id": "527b5c0c-9e52-4026-862b-d4cfd334eca0",
   "metadata": {},
   "outputs": [
    {
     "data": {
      "text/plain": [
       "(10, 29, 52, 26.8)"
      ]
     },
     "execution_count": 182,
     "metadata": {},
     "output_type": "execute_result"
    }
   ],
   "source": [
    "tuple1=(10,29,52,26.8)\n",
    "tuple1"
   ]
  },
  {
   "cell_type": "code",
   "execution_count": 171,
   "id": "44473398-0968-4400-bcec-1491758afee4",
   "metadata": {},
   "outputs": [
    {
     "data": {
      "text/plain": [
       "tuple"
      ]
     },
     "execution_count": 171,
     "metadata": {},
     "output_type": "execute_result"
    }
   ],
   "source": [
    "type(tuple1)"
   ]
  },
  {
   "cell_type": "code",
   "execution_count": 172,
   "id": "93be97e0-0657-48cd-8056-3589529ca248",
   "metadata": {},
   "outputs": [
    {
     "data": {
      "text/plain": [
       "(10, 29, 52, 26.8)"
      ]
     },
     "execution_count": 172,
     "metadata": {},
     "output_type": "execute_result"
    }
   ],
   "source": [
    "tuple2=10,29,52,26.8\n",
    "tuple2"
   ]
  },
  {
   "cell_type": "code",
   "execution_count": 173,
   "id": "a2be7b0b-3b60-4a48-9f45-e01b5fa1f7e5",
   "metadata": {},
   "outputs": [
    {
     "data": {
      "text/plain": [
       "tuple"
      ]
     },
     "execution_count": 173,
     "metadata": {},
     "output_type": "execute_result"
    }
   ],
   "source": [
    "type(tuple2)"
   ]
  },
  {
   "cell_type": "code",
   "execution_count": 174,
   "id": "978a76e3-5b3e-4fa3-b490-71af9a3bb2c1",
   "metadata": {},
   "outputs": [
    {
     "data": {
      "text/plain": [
       "10"
      ]
     },
     "execution_count": 174,
     "metadata": {},
     "output_type": "execute_result"
    }
   ],
   "source": [
    "tuple2[0]"
   ]
  },
  {
   "cell_type": "code",
   "execution_count": 175,
   "id": "3281f768-ca08-416d-8d37-21101fe996b3",
   "metadata": {},
   "outputs": [
    {
     "data": {
      "text/plain": [
       "(10, 29)"
      ]
     },
     "execution_count": 175,
     "metadata": {},
     "output_type": "execute_result"
    }
   ],
   "source": [
    "tuple2[0:2]"
   ]
  },
  {
   "cell_type": "code",
   "execution_count": 176,
   "id": "a7166851-3bfb-4e34-bde7-22077a42b2ad",
   "metadata": {},
   "outputs": [
    {
     "data": {
      "text/plain": [
       "True"
      ]
     },
     "execution_count": 176,
     "metadata": {},
     "output_type": "execute_result"
    }
   ],
   "source": [
    "10 in tuple1\n"
   ]
  },
  {
   "cell_type": "code",
   "execution_count": 177,
   "id": "646975db-efe4-4cf8-a17f-1a50bf3903a5",
   "metadata": {},
   "outputs": [
    {
     "ename": "AttributeError",
     "evalue": "'tuple' object has no attribute 'reverse'",
     "output_type": "error",
     "traceback": [
      "\u001b[1;31m---------------------------------------------------------------------------\u001b[0m",
      "\u001b[1;31mAttributeError\u001b[0m                            Traceback (most recent call last)",
      "Cell \u001b[1;32mIn[177], line 1\u001b[0m\n\u001b[1;32m----> 1\u001b[0m tuple1\u001b[38;5;241m.\u001b[39mreverse()\n",
      "\u001b[1;31mAttributeError\u001b[0m: 'tuple' object has no attribute 'reverse'"
     ]
    }
   ],
   "source": [
    "tuple1.reverse()"
   ]
  },
  {
   "cell_type": "code",
   "execution_count": 178,
   "id": "bd7eded8-83cc-4f5e-9e69-45503f01f1da",
   "metadata": {},
   "outputs": [
    {
     "ename": "AttributeError",
     "evalue": "'tuple' object has no attribute 'sort'",
     "output_type": "error",
     "traceback": [
      "\u001b[1;31m---------------------------------------------------------------------------\u001b[0m",
      "\u001b[1;31mAttributeError\u001b[0m                            Traceback (most recent call last)",
      "Cell \u001b[1;32mIn[178], line 1\u001b[0m\n\u001b[1;32m----> 1\u001b[0m tuple1\u001b[38;5;241m.\u001b[39msort()\n",
      "\u001b[1;31mAttributeError\u001b[0m: 'tuple' object has no attribute 'sort'"
     ]
    }
   ],
   "source": [
    "tuple1.sort()"
   ]
  },
  {
   "cell_type": "code",
   "execution_count": 179,
   "id": "36657ec3-ad7a-4bb7-abbb-07022df66ec7",
   "metadata": {},
   "outputs": [
    {
     "ename": "AttributeError",
     "evalue": "'tuple' object has no attribute 'sort'",
     "output_type": "error",
     "traceback": [
      "\u001b[1;31m---------------------------------------------------------------------------\u001b[0m",
      "\u001b[1;31mAttributeError\u001b[0m                            Traceback (most recent call last)",
      "Cell \u001b[1;32mIn[179], line 1\u001b[0m\n\u001b[1;32m----> 1\u001b[0m tuple1\u001b[38;5;241m.\u001b[39msort(reverse\u001b[38;5;241m=\u001b[39m\u001b[38;5;28;01mTrue\u001b[39;00m)\n",
      "\u001b[1;31mAttributeError\u001b[0m: 'tuple' object has no attribute 'sort'"
     ]
    }
   ],
   "source": [
    "tuple1.sort(reverse=True)"
   ]
  },
  {
   "cell_type": "code",
   "execution_count": 180,
   "id": "e007914a-eb82-4221-af68-39ef23b169c7",
   "metadata": {},
   "outputs": [],
   "source": [
    "del tuple1"
   ]
  },
  {
   "cell_type": "code",
   "execution_count": 181,
   "id": "75699edb-aa52-48bc-bb2f-d7423d25f0a2",
   "metadata": {},
   "outputs": [
    {
     "ename": "NameError",
     "evalue": "name 'tuple1' is not defined",
     "output_type": "error",
     "traceback": [
      "\u001b[1;31m---------------------------------------------------------------------------\u001b[0m",
      "\u001b[1;31mNameError\u001b[0m                                 Traceback (most recent call last)",
      "Cell \u001b[1;32mIn[181], line 1\u001b[0m\n\u001b[1;32m----> 1\u001b[0m tuple1\n",
      "\u001b[1;31mNameError\u001b[0m: name 'tuple1' is not defined"
     ]
    }
   ],
   "source": [
    "tuple1"
   ]
  },
  {
   "cell_type": "code",
   "execution_count": 183,
   "id": "6bfbc29d-6251-4e85-b899-4c22ed1182d5",
   "metadata": {},
   "outputs": [
    {
     "ename": "TypeError",
     "evalue": "'tuple' object does not support item assignment",
     "output_type": "error",
     "traceback": [
      "\u001b[1;31m---------------------------------------------------------------------------\u001b[0m",
      "\u001b[1;31mTypeError\u001b[0m                                 Traceback (most recent call last)",
      "Cell \u001b[1;32mIn[183], line 1\u001b[0m\n\u001b[1;32m----> 1\u001b[0m tuple1[\u001b[38;5;241m0\u001b[39m]\u001b[38;5;241m=\u001b[39m\u001b[38;5;241m100\u001b[39m\n",
      "\u001b[1;31mTypeError\u001b[0m: 'tuple' object does not support item assignment"
     ]
    }
   ],
   "source": [
    "tuple1[0]=100"
   ]
  },
  {
   "cell_type": "code",
   "execution_count": 185,
   "id": "577c7f7d-8759-4d88-94e1-9dc5e1a66282",
   "metadata": {},
   "outputs": [
    {
     "name": "stdout",
     "output_type": "stream",
     "text": [
      "10\n",
      "29\n",
      "52\n",
      "26.8\n"
     ]
    }
   ],
   "source": [
    "for i in tuple1:\n",
    "    print (i)"
   ]
  },
  {
   "cell_type": "code",
   "execution_count": 186,
   "id": "5f04698b-e9c3-4545-8f1f-53c84f6126b9",
   "metadata": {},
   "outputs": [
    {
     "data": {
      "text/plain": [
       "1"
      ]
     },
     "execution_count": 186,
     "metadata": {},
     "output_type": "execute_result"
    }
   ],
   "source": [
    "tuple1.count(10)"
   ]
  },
  {
   "cell_type": "code",
   "execution_count": 187,
   "id": "455fa69a-f63d-4f99-b311-1ec22f857324",
   "metadata": {},
   "outputs": [
    {
     "data": {
      "text/plain": [
       "0"
      ]
     },
     "execution_count": 187,
     "metadata": {},
     "output_type": "execute_result"
    }
   ],
   "source": [
    "tuple1.index(10)"
   ]
  },
  {
   "cell_type": "code",
   "execution_count": 188,
   "id": "6ecf64cb-fe92-4116-90a5-039969b43d17",
   "metadata": {},
   "outputs": [
    {
     "data": {
      "text/plain": [
       "[10, 29, 52, 26.8]"
      ]
     },
     "execution_count": 188,
     "metadata": {},
     "output_type": "execute_result"
    }
   ],
   "source": [
    "sample=list(tuple1)\n",
    "sample"
   ]
  },
  {
   "cell_type": "code",
   "execution_count": 189,
   "id": "13abb5f0-f3c6-45dc-8981-565317d38324",
   "metadata": {},
   "outputs": [
    {
     "data": {
      "text/plain": [
       "(10, 29, 52, 26.8)"
      ]
     },
     "execution_count": 189,
     "metadata": {},
     "output_type": "execute_result"
    }
   ],
   "source": [
    "sample1=tuple(sample)\n",
    "sample1"
   ]
  },
  {
   "cell_type": "code",
   "execution_count": null,
   "id": "f520db8a-2259-42ea-b17b-3dfac20ce0ef",
   "metadata": {},
   "outputs": [],
   "source": [
    "### Self-Assessment1: https://github.com/Premalatha-success/syn_python_jan_25/blob/main/string_exercise.docx\n"
   ]
  },
  {
   "cell_type": "code",
   "execution_count": null,
   "id": "35ac202f-623c-4522-a651-9ca37b1faee8",
   "metadata": {},
   "outputs": [],
   "source": [
    "o\tWrite a Python code to check if the word \"learn\" is in the sentence \"Let's all learn Python!\".\n",
    "o\tConvert the string \"hello world\" to uppercase.\n",
    "o\tConcatenate two strings: \"Data\" and \"Analysis\".\n",
    "o\tReplace all occurrences of \"a\" with \"@\" in the string \"DataAnalytics\".\n",
    "o\tWrite a Python code to reverse the string \"Python\".\n",
    "o\tCount how many times the letter \"e\" appears in the string \"Experience\".\n",
    "o\tSplit the string \"Learn,Analyze,Build\" into a list of words.\n",
    "o\tCreate a string variable with your full name.\n",
    "o\tWhat is the length of the string \"PythonProgramming\"?\n",
    "o\tHow would you extract the first three characters of the string \"DataScience\"?\n"
   ]
  },
  {
   "cell_type": "markdown",
   "id": "b5b7bb34-bd17-4d9f-b16d-4166301fca04",
   "metadata": {},
   "source": [
    "### Dictionary"
   ]
  },
  {
   "cell_type": "code",
   "execution_count": null,
   "id": "58bce92c-7645-4580-8cd5-08a04f5ea326",
   "metadata": {},
   "outputs": [],
   "source": [
    "mylist=[\"one\",\"two\",\"three\",1,2,3]"
   ]
  },
  {
   "cell_type": "code",
   "execution_count": null,
   "id": "c706bb30-2f80-46d8-830c-8fbbf1e06c87",
   "metadata": {},
   "outputs": [],
   "source": [
    "mytup=\"one\",\"two\",\"three\",1,2,3"
   ]
  },
  {
   "cell_type": "code",
   "execution_count": 190,
   "id": "f7922cfd-202e-43f6-b4b6-4a4a818e233f",
   "metadata": {},
   "outputs": [],
   "source": [
    "mydict={1:\"one\",2:\"two\",3:\"three\"}"
   ]
  },
  {
   "cell_type": "code",
   "execution_count": null,
   "id": "f2b14acf-63cc-4a49-9c04-ae4c6b34d70e",
   "metadata": {},
   "outputs": [],
   "source": [
    "#### {}\n",
    "#### key-value pairs\n",
    "#### key is unique\n",
    "#### values can be duplicated\n",
    "#### Value can be retrieved using key"
   ]
  },
  {
   "cell_type": "code",
   "execution_count": 191,
   "id": "c4e0b653-eed3-494f-b513-061bd772d56b",
   "metadata": {},
   "outputs": [
    {
     "data": {
      "text/plain": [
       "{1: 'one', 2: 'two', 3: 'three'}"
      ]
     },
     "execution_count": 191,
     "metadata": {},
     "output_type": "execute_result"
    }
   ],
   "source": [
    "mydict"
   ]
  },
  {
   "cell_type": "code",
   "execution_count": 192,
   "id": "9a9bfa99-173d-41b8-9477-30112bb5aa16",
   "metadata": {},
   "outputs": [],
   "source": [
    "mydict={\"one\":\"A\",2:\"two\",3:\"three\"}"
   ]
  },
  {
   "cell_type": "code",
   "execution_count": 193,
   "id": "4b87b421-eb4c-48e2-a53d-90ef0223e6b3",
   "metadata": {},
   "outputs": [
    {
     "data": {
      "text/plain": [
       "dict_keys(['one', 2, 3])"
      ]
     },
     "execution_count": 193,
     "metadata": {},
     "output_type": "execute_result"
    }
   ],
   "source": [
    "mydict.keys()"
   ]
  },
  {
   "cell_type": "code",
   "execution_count": 194,
   "id": "ca398d96-bbd5-4095-97b7-3063bf4d0df4",
   "metadata": {},
   "outputs": [
    {
     "data": {
      "text/plain": [
       "dict_values(['A', 'two', 'three'])"
      ]
     },
     "execution_count": 194,
     "metadata": {},
     "output_type": "execute_result"
    }
   ],
   "source": [
    "mydict.values()"
   ]
  },
  {
   "cell_type": "code",
   "execution_count": 195,
   "id": "717d97b5-8a15-4ac0-8e27-ac05df00d27d",
   "metadata": {},
   "outputs": [
    {
     "data": {
      "text/plain": [
       "dict_items([('one', 'A'), (2, 'two'), (3, 'three')])"
      ]
     },
     "execution_count": 195,
     "metadata": {},
     "output_type": "execute_result"
    }
   ],
   "source": [
    "mydict.items()"
   ]
  },
  {
   "cell_type": "code",
   "execution_count": 198,
   "id": "64164835-37d7-49c4-a848-d52dd571fc90",
   "metadata": {},
   "outputs": [
    {
     "data": {
      "text/plain": [
       "{1: 'one', 2: 'hello', 3: 'news', 4: 'hi', 8: 'one'}"
      ]
     },
     "execution_count": 198,
     "metadata": {},
     "output_type": "execute_result"
    }
   ],
   "source": [
    "mydict1={1:\"one\",2:\"two\",3:\"three\",4:\"hi\",2:\"hello\",3:\"news\",8:\"one\"}\n",
    "mydict1"
   ]
  },
  {
   "cell_type": "code",
   "execution_count": 199,
   "id": "1a11f1ba-6f82-4166-bcc9-5915646ac941",
   "metadata": {},
   "outputs": [
    {
     "ename": "KeyError",
     "evalue": "0",
     "output_type": "error",
     "traceback": [
      "\u001b[1;31m---------------------------------------------------------------------------\u001b[0m",
      "\u001b[1;31mKeyError\u001b[0m                                  Traceback (most recent call last)",
      "Cell \u001b[1;32mIn[199], line 1\u001b[0m\n\u001b[1;32m----> 1\u001b[0m mydict1[\u001b[38;5;241m0\u001b[39m]\n",
      "\u001b[1;31mKeyError\u001b[0m: 0"
     ]
    }
   ],
   "source": [
    "mydict1[0]"
   ]
  },
  {
   "cell_type": "code",
   "execution_count": 200,
   "id": "94d12e80-d704-4852-bd48-f7c4794d5764",
   "metadata": {},
   "outputs": [
    {
     "data": {
      "text/plain": [
       "'one'"
      ]
     },
     "execution_count": 200,
     "metadata": {},
     "output_type": "execute_result"
    }
   ],
   "source": [
    "mydict1[1]"
   ]
  },
  {
   "cell_type": "code",
   "execution_count": 201,
   "id": "efac479f-27e0-4e68-97c7-4e7b67311296",
   "metadata": {},
   "outputs": [
    {
     "data": {
      "text/plain": [
       "'hi'"
      ]
     },
     "execution_count": 201,
     "metadata": {},
     "output_type": "execute_result"
    }
   ],
   "source": [
    "mydict1[4]"
   ]
  },
  {
   "cell_type": "code",
   "execution_count": 202,
   "id": "8f0c648b-8ddf-4361-b85d-df8cdfa4c266",
   "metadata": {},
   "outputs": [
    {
     "data": {
      "text/plain": [
       "{1: 'one',\n",
       " 2: 'two',\n",
       " 'C': ['latha', 'pds', 39, 166000],\n",
       " 4: ('Apple', 'Bat', 'Cat'),\n",
       " 'd': {'Name': 'Prem', 'Age': '42'}}"
      ]
     },
     "execution_count": 202,
     "metadata": {},
     "output_type": "execute_result"
    }
   ],
   "source": [
    "dict={1:\"one\",2:\"two\",\"C\":[\"latha\",\"pds\",39,166000],4:(\"Apple\",\"Bat\",\"Cat\"),\"d\":{\"Name\":\"Prem\",\"Age\":\"42\"}}\n",
    "dict"
   ]
  },
  {
   "cell_type": "code",
   "execution_count": 203,
   "id": "56a46c26-4311-4d54-8442-1526c8f0b504",
   "metadata": {},
   "outputs": [
    {
     "data": {
      "text/plain": [
       "dict_keys([1, 2, 'C', 4, 'd'])"
      ]
     },
     "execution_count": 203,
     "metadata": {},
     "output_type": "execute_result"
    }
   ],
   "source": [
    "dict.keys()"
   ]
  },
  {
   "cell_type": "code",
   "execution_count": 204,
   "id": "ac0ae7d4-4960-46ed-bc25-f1db9e1a9d1f",
   "metadata": {},
   "outputs": [
    {
     "data": {
      "text/plain": [
       "dict_values(['one', 'two', ['latha', 'pds', 39, 166000], ('Apple', 'Bat', 'Cat'), {'Name': 'Prem', 'Age': '42'}])"
      ]
     },
     "execution_count": 204,
     "metadata": {},
     "output_type": "execute_result"
    }
   ],
   "source": [
    "dict.values()"
   ]
  },
  {
   "cell_type": "code",
   "execution_count": 206,
   "id": "46ea1e87-66b5-4a60-b93d-1a734e9b0241",
   "metadata": {},
   "outputs": [
    {
     "data": {
      "text/plain": [
       "dict_items([(1, 'one'), (2, 'two'), ('C', ['latha', 'pds', 39, 166000]), (4, ('Apple', 'Bat', 'Cat')), ('d', {'Name': 'Prem', 'Age': '42'})])"
      ]
     },
     "execution_count": 206,
     "metadata": {},
     "output_type": "execute_result"
    }
   ],
   "source": [
    "dict.items()"
   ]
  },
  {
   "cell_type": "code",
   "execution_count": null,
   "id": "a28326c1-44cd-428e-875c-59e8741f796e",
   "metadata": {},
   "outputs": [],
   "source": [
    "### Adding a simple key-value pair"
   ]
  },
  {
   "cell_type": "code",
   "execution_count": 207,
   "id": "7d659152-47a5-4f8f-a5fa-0740c16b7d70",
   "metadata": {},
   "outputs": [
    {
     "data": {
      "text/plain": [
       "{1: 'one',\n",
       " 2: 'two',\n",
       " 'C': ['latha', 'pds', 39, 166000],\n",
       " 4: ('Apple', 'Bat', 'Cat'),\n",
       " 'd': {'Name': 'Prem', 'Age': '42'},\n",
       " 'DOB': 2014,\n",
       " 'Place': 'Chennai'}"
      ]
     },
     "execution_count": 207,
     "metadata": {},
     "output_type": "execute_result"
    }
   ],
   "source": [
    "dict[\"DOB\"]=2014\n",
    "dict[\"Place\"]=\"Chennai\"\n",
    "dict"
   ]
  },
  {
   "cell_type": "code",
   "execution_count": 208,
   "id": "253672b4-c3fb-4e18-bd82-683031ab525c",
   "metadata": {},
   "outputs": [
    {
     "data": {
      "text/plain": [
       "{1: 'one',\n",
       " 2: 'two',\n",
       " 'C': ['latha', 'pds', 39, 166000],\n",
       " 4: ('Apple', 'Bat', 'Cat'),\n",
       " 'd': {'Name': 'Prem', 'Age': '42'},\n",
       " 'DOB': 2004,\n",
       " 'Place': 'Chennai'}"
      ]
     },
     "execution_count": 208,
     "metadata": {},
     "output_type": "execute_result"
    }
   ],
   "source": [
    "dict1={\"DOB\":2004}\n",
    "dict.update(dict1)\n",
    "dict"
   ]
  },
  {
   "cell_type": "code",
   "execution_count": 209,
   "id": "13c28984-216b-411f-b4b0-0be670f53c9f",
   "metadata": {},
   "outputs": [
    {
     "data": {
      "text/plain": [
       "{1: 'one',\n",
       " 2: 'two',\n",
       " 'C': ['latha', 'pds', 39, 166000],\n",
       " 4: ('Apple', 'Bat', 'Cat'),\n",
       " 'd': {'Name': 'Prem', 'Age': '42'},\n",
       " 'DOB': 2004,\n",
       " 'Place': 'Chennai',\n",
       " 'Job': 'Analyst'}"
      ]
     },
     "execution_count": 209,
     "metadata": {},
     "output_type": "execute_result"
    }
   ],
   "source": [
    "dict[\"Job\"]=\"Analyst\"\n",
    "dict"
   ]
  },
  {
   "cell_type": "code",
   "execution_count": 210,
   "id": "f5e5c0ad-8ba1-48fa-9f40-f082d48e416e",
   "metadata": {},
   "outputs": [
    {
     "data": {
      "text/plain": [
       "2004"
      ]
     },
     "execution_count": 210,
     "metadata": {},
     "output_type": "execute_result"
    }
   ],
   "source": [
    "dict.pop(\"DOB\")"
   ]
  },
  {
   "cell_type": "code",
   "execution_count": 211,
   "id": "922f84b5-1408-4615-be13-a248b98d6398",
   "metadata": {},
   "outputs": [
    {
     "data": {
      "text/plain": [
       "{1: 'one',\n",
       " 2: 'two',\n",
       " 'C': ['latha', 'pds', 39, 166000],\n",
       " 4: ('Apple', 'Bat', 'Cat'),\n",
       " 'd': {'Name': 'Prem', 'Age': '42'},\n",
       " 'Place': 'Chennai',\n",
       " 'Job': 'Analyst'}"
      ]
     },
     "execution_count": 211,
     "metadata": {},
     "output_type": "execute_result"
    }
   ],
   "source": [
    "dict"
   ]
  },
  {
   "cell_type": "code",
   "execution_count": 212,
   "id": "1aafe4d1-4b69-46c9-bd69-5d8c4615f08c",
   "metadata": {},
   "outputs": [],
   "source": [
    "dict1=dict.copy()"
   ]
  },
  {
   "cell_type": "code",
   "execution_count": 213,
   "id": "a6f4162a-eac8-4e3e-8585-505e4918abf8",
   "metadata": {},
   "outputs": [
    {
     "data": {
      "text/plain": [
       "{1: 'one',\n",
       " 2: 'two',\n",
       " 'C': ['latha', 'pds', 39, 166000],\n",
       " 4: ('Apple', 'Bat', 'Cat'),\n",
       " 'd': {'Name': 'Prem', 'Age': '42'},\n",
       " 'Place': 'Chennai',\n",
       " 'Job': 'Analyst'}"
      ]
     },
     "execution_count": 213,
     "metadata": {},
     "output_type": "execute_result"
    }
   ],
   "source": [
    "dict1"
   ]
  },
  {
   "cell_type": "code",
   "execution_count": 216,
   "id": "b6aafb8f-5b9e-41b4-9142-44d0e19aec3c",
   "metadata": {},
   "outputs": [
    {
     "name": "stdout",
     "output_type": "stream",
     "text": [
      "1 : one\n",
      "2 : two\n",
      "C : ['latha', 'pds', 39, 166000]\n",
      "4 : ('Apple', 'Bat', 'Cat')\n",
      "d : {'Name': 'Prem', 'Age': '42'}\n",
      "Place : Chennai\n",
      "Job : Analyst\n"
     ]
    }
   ],
   "source": [
    "### Looping\n",
    "for i in dict1:\n",
    "    print (i,\":\",dict1[i])"
   ]
  },
  {
   "cell_type": "code",
   "execution_count": 217,
   "id": "eb0bdb03-e606-4bc1-a05e-4e9a18701e8c",
   "metadata": {},
   "outputs": [
    {
     "data": {
      "text/plain": [
       "True"
      ]
     },
     "execution_count": 217,
     "metadata": {},
     "output_type": "execute_result"
    }
   ],
   "source": [
    "\"Place\" in dict1"
   ]
  },
  {
   "cell_type": "code",
   "execution_count": 218,
   "id": "aa7509d4-28a0-42b9-bcf3-8e75dd856f58",
   "metadata": {},
   "outputs": [],
   "source": [
    "import numpy as np\n",
    "import pandas as pd\n",
    "import matplotlib.pyplot as plt\n",
    "import seaborn as sns"
   ]
  },
  {
   "cell_type": "code",
   "execution_count": null,
   "id": "1935b4fa-c94f-49f2-a50e-0b293187fef6",
   "metadata": {},
   "outputs": [],
   "source": [
    "pip install numpy"
   ]
  }
 ],
 "metadata": {
  "kernelspec": {
   "display_name": "Python 3 (ipykernel)",
   "language": "python",
   "name": "python3"
  },
  "language_info": {
   "codemirror_mode": {
    "name": "ipython",
    "version": 3
   },
   "file_extension": ".py",
   "mimetype": "text/x-python",
   "name": "python",
   "nbconvert_exporter": "python",
   "pygments_lexer": "ipython3",
   "version": "3.11.7"
  }
 },
 "nbformat": 4,
 "nbformat_minor": 5
}
